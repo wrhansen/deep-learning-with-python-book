{
  "nbformat": 4,
  "nbformat_minor": 0,
  "metadata": {
    "colab": {
      "provenance": [],
      "gpuType": "T4",
      "collapsed_sections": [
        "ZhQwoddX-4Me"
      ]
    },
    "kernelspec": {
      "name": "python3",
      "display_name": "Python 3"
    },
    "language_info": {
      "name": "python"
    },
    "accelerator": "GPU"
  },
  "cells": [
    {
      "cell_type": "markdown",
      "source": [
        "# Chapter 3"
      ],
      "metadata": {
        "id": "ZhQwoddX-4Me"
      }
    },
    {
      "cell_type": "code",
      "execution_count": null,
      "metadata": {
        "colab": {
          "base_uri": "https://localhost:8080/"
        },
        "id": "zH6rOaRJ3eOW",
        "outputId": "bf248209-2a90-443e-c893-8759e11aa500"
      },
      "outputs": [
        {
          "output_type": "execute_result",
          "data": {
            "text/plain": [
              "[2, 3, 5]"
            ]
          },
          "metadata": {},
          "execution_count": 1
        }
      ],
      "source": [
        "my_list = [3, 2, 5]\n",
        "sorted(my_list)"
      ]
    },
    {
      "cell_type": "markdown",
      "source": [
        "## Listing 3.1 All-ones or all-zeros tensors"
      ],
      "metadata": {
        "id": "lVFn0S5j4ThG"
      }
    },
    {
      "cell_type": "code",
      "source": [
        "import tensorflow as tf\n",
        "x = tf.ones(shape=(2,1))\n",
        "print(x)\n",
        "\n",
        "x = tf.zeros(shape=(2,1))\n",
        "print(x)"
      ],
      "metadata": {
        "colab": {
          "base_uri": "https://localhost:8080/"
        },
        "id": "N9u8W5Cf4XlV",
        "outputId": "b6c116a0-d062-4a8a-d93b-edacb454a3e7"
      },
      "execution_count": null,
      "outputs": [
        {
          "output_type": "stream",
          "name": "stdout",
          "text": [
            "tf.Tensor(\n",
            "[[1.]\n",
            " [1.]], shape=(2, 1), dtype=float32)\n",
            "tf.Tensor(\n",
            "[[0.]\n",
            " [0.]], shape=(2, 1), dtype=float32)\n"
          ]
        }
      ]
    },
    {
      "cell_type": "markdown",
      "source": [
        "## Listing 3.2 Random Tensors"
      ],
      "metadata": {
        "id": "f_uemRz-6eV0"
      }
    },
    {
      "cell_type": "code",
      "source": [
        "x = tf.random.normal(shape=(3, 1), mean=0., stddev=1.)\n",
        "print(x)\n",
        "x = tf.random.uniform(shape=(3, 1), minval=0., maxval=1.)\n",
        "print(x)"
      ],
      "metadata": {
        "colab": {
          "base_uri": "https://localhost:8080/"
        },
        "id": "3A3DuWAV6lCf",
        "outputId": "58c38614-f9ec-4847-85ff-a2043a8bbe41"
      },
      "execution_count": null,
      "outputs": [
        {
          "output_type": "stream",
          "name": "stdout",
          "text": [
            "tf.Tensor(\n",
            "[[-0.3897554 ]\n",
            " [-1.8581074 ]\n",
            " [-0.13673945]], shape=(3, 1), dtype=float32)\n",
            "tf.Tensor(\n",
            "[[0.01080263]\n",
            " [0.42258883]\n",
            " [0.39823747]], shape=(3, 1), dtype=float32)\n"
          ]
        }
      ]
    },
    {
      "cell_type": "markdown",
      "source": [
        "## Listing 3.3 NumPy arrays are assignable"
      ],
      "metadata": {
        "id": "RerJaWjH7OJ6"
      }
    },
    {
      "cell_type": "code",
      "source": [
        "import numpy as np\n",
        "x = np.ones(shape=(2,2))\n",
        "x[0,0] = 0."
      ],
      "metadata": {
        "id": "tAUpTrL57mM6"
      },
      "execution_count": null,
      "outputs": []
    },
    {
      "cell_type": "markdown",
      "source": [
        "## Listing 3.4 TensorFlow tensors are not assignable"
      ],
      "metadata": {
        "id": "Oo2NYnXR7_hR"
      }
    },
    {
      "cell_type": "code",
      "source": [
        "x = tf.ones(shape=(2, 2))\n",
        "x[0,0] = 0."
      ],
      "metadata": {
        "colab": {
          "base_uri": "https://localhost:8080/",
          "height": 194
        },
        "id": "aaAXNP_-8JB0",
        "outputId": "34dc1448-ef84-42c8-c59e-adea8a9b332b"
      },
      "execution_count": null,
      "outputs": [
        {
          "output_type": "error",
          "ename": "TypeError",
          "evalue": "'tensorflow.python.framework.ops.EagerTensor' object does not support item assignment",
          "traceback": [
            "\u001b[0;31m---------------------------------------------------------------------------\u001b[0m",
            "\u001b[0;31mTypeError\u001b[0m                                 Traceback (most recent call last)",
            "\u001b[0;32m<ipython-input-5-20ab0b3cb2fc>\u001b[0m in \u001b[0;36m<cell line: 2>\u001b[0;34m()\u001b[0m\n\u001b[1;32m      1\u001b[0m \u001b[0mx\u001b[0m \u001b[0;34m=\u001b[0m \u001b[0mtf\u001b[0m\u001b[0;34m.\u001b[0m\u001b[0mones\u001b[0m\u001b[0;34m(\u001b[0m\u001b[0mshape\u001b[0m\u001b[0;34m=\u001b[0m\u001b[0;34m(\u001b[0m\u001b[0;36m2\u001b[0m\u001b[0;34m,\u001b[0m \u001b[0;36m2\u001b[0m\u001b[0;34m)\u001b[0m\u001b[0;34m)\u001b[0m\u001b[0;34m\u001b[0m\u001b[0;34m\u001b[0m\u001b[0m\n\u001b[0;32m----> 2\u001b[0;31m \u001b[0mx\u001b[0m\u001b[0;34m[\u001b[0m\u001b[0;36m0\u001b[0m\u001b[0;34m,\u001b[0m\u001b[0;36m0\u001b[0m\u001b[0;34m]\u001b[0m \u001b[0;34m=\u001b[0m \u001b[0;36m0.\u001b[0m\u001b[0;34m\u001b[0m\u001b[0;34m\u001b[0m\u001b[0m\n\u001b[0m",
            "\u001b[0;31mTypeError\u001b[0m: 'tensorflow.python.framework.ops.EagerTensor' object does not support item assignment"
          ]
        }
      ]
    },
    {
      "cell_type": "markdown",
      "source": [
        "## Listing 3.5 Creating a TensorFlow variable"
      ],
      "metadata": {
        "id": "bS_yylf18WPp"
      }
    },
    {
      "cell_type": "code",
      "source": [
        "v = tf.Variable(initial_value=tf.random.normal(shape=(3, 1)))\n",
        "print(v)"
      ],
      "metadata": {
        "colab": {
          "base_uri": "https://localhost:8080/"
        },
        "id": "SFH2Qn2x8bkW",
        "outputId": "645c0b22-02e1-4cc0-b4f2-b9743e39d399"
      },
      "execution_count": null,
      "outputs": [
        {
          "output_type": "stream",
          "name": "stdout",
          "text": [
            "<tf.Variable 'Variable:0' shape=(3, 1) dtype=float32, numpy=\n",
            "array([[ 0.3490097 ],\n",
            "       [ 0.44136307],\n",
            "       [-1.2597609 ]], dtype=float32)>\n"
          ]
        }
      ]
    },
    {
      "cell_type": "markdown",
      "source": [
        "## Listing 3.6 Assigning a value to a TensorFlow variable"
      ],
      "metadata": {
        "id": "QGPwpZe18jkf"
      }
    },
    {
      "cell_type": "code",
      "source": [
        "v.assign(tf.ones((3, 1)))"
      ],
      "metadata": {
        "colab": {
          "base_uri": "https://localhost:8080/"
        },
        "id": "AhJrxf7-80_n",
        "outputId": "66a4b8fb-06ba-4355-fbff-c559acf08e8b"
      },
      "execution_count": null,
      "outputs": [
        {
          "output_type": "execute_result",
          "data": {
            "text/plain": [
              "<tf.Variable 'UnreadVariable' shape=(3, 1) dtype=float32, numpy=\n",
              "array([[1.],\n",
              "       [1.],\n",
              "       [1.]], dtype=float32)>"
            ]
          },
          "metadata": {},
          "execution_count": 7
        }
      ]
    },
    {
      "cell_type": "markdown",
      "source": [
        "## Listing 3.7 Assigning a value to a subset of a TensorFlow variable"
      ],
      "metadata": {
        "id": "rDTFsefY88JR"
      }
    },
    {
      "cell_type": "code",
      "source": [
        "v[0, 0].assign(3.)"
      ],
      "metadata": {
        "colab": {
          "base_uri": "https://localhost:8080/"
        },
        "id": "OfSo973x9EBQ",
        "outputId": "248ef495-9e3f-4408-f71f-296afd40b2cc"
      },
      "execution_count": null,
      "outputs": [
        {
          "output_type": "execute_result",
          "data": {
            "text/plain": [
              "<tf.Variable 'UnreadVariable' shape=(3, 1) dtype=float32, numpy=\n",
              "array([[3.],\n",
              "       [1.],\n",
              "       [1.]], dtype=float32)>"
            ]
          },
          "metadata": {},
          "execution_count": 8
        }
      ]
    },
    {
      "cell_type": "markdown",
      "source": [
        "## Listing 3.8 Using `assign_add()`"
      ],
      "metadata": {
        "id": "NvW7WWRi9JrH"
      }
    },
    {
      "cell_type": "code",
      "source": [
        "v.assign_add(tf.ones((3, 1)))"
      ],
      "metadata": {
        "colab": {
          "base_uri": "https://localhost:8080/"
        },
        "id": "gRtrbukq9PRh",
        "outputId": "0c97791b-c9b5-4e8c-f668-0f9d168c0d95"
      },
      "execution_count": null,
      "outputs": [
        {
          "output_type": "execute_result",
          "data": {
            "text/plain": [
              "<tf.Variable 'UnreadVariable' shape=(3, 1) dtype=float32, numpy=\n",
              "array([[4.],\n",
              "       [2.],\n",
              "       [2.]], dtype=float32)>"
            ]
          },
          "metadata": {},
          "execution_count": 10
        }
      ]
    },
    {
      "cell_type": "markdown",
      "source": [
        "## Listing 3.9 A few basic math operations"
      ],
      "metadata": {
        "id": "FlB5yLDg9b4v"
      }
    },
    {
      "cell_type": "code",
      "source": [
        "a = tf.ones((2, 2))\n",
        "b = tf.square(a)\n",
        "c = tf.sqrt(a)\n",
        "d = b + c\n",
        "e = tf.matmul(a, b)\n",
        "e *= d"
      ],
      "metadata": {
        "id": "IJ3wPwQJ9fQz"
      },
      "execution_count": null,
      "outputs": []
    },
    {
      "cell_type": "markdown",
      "source": [
        "## Listing 3.10 Using the `GradientTape`"
      ],
      "metadata": {
        "id": "Cy-gApi29wA8"
      }
    },
    {
      "cell_type": "code",
      "source": [
        "input_var = tf.Variable(initial_value=3.)\n",
        "with tf.GradientTape() as tape:\n",
        "  result = tf.square(input_var)\n",
        "gradient = tape.gradient(result, input_var)"
      ],
      "metadata": {
        "id": "-1wFucUL94LT"
      },
      "execution_count": null,
      "outputs": []
    },
    {
      "cell_type": "markdown",
      "source": [
        "## Listing 3.11 Using `GradientTape` with constant tensor inputs"
      ],
      "metadata": {
        "id": "AO5yg3Nr-ajm"
      }
    },
    {
      "cell_type": "code",
      "source": [
        "input_const = tf.constant(3.)\n",
        "with tf.GradientTape() as tape:\n",
        "  tape.watch(input_const)\n",
        "  result = tf.square(input_const)\n",
        "gradient = tape.gradient(result, input_const)"
      ],
      "metadata": {
        "id": "LYiCAoAt-hcl"
      },
      "execution_count": null,
      "outputs": []
    },
    {
      "cell_type": "markdown",
      "source": [
        "## Listing 3.12 Using nested gradient tapes to compute second-order gradients\n",
        "\n",
        "Now you know about tensors, variables and tensor operations and you know how to compute gradients. This is enough to build any machine learning model based on gradient descent."
      ],
      "metadata": {
        "id": "Ixo5toLe-3Dg"
      }
    },
    {
      "cell_type": "code",
      "source": [
        "time = tf.Variable(0.)\n",
        "with tf.GradientTape() as outer_tape:\n",
        "  with tf.GradientTape() as inner_tape:\n",
        "    position = 4.9 * time ** 2\n",
        "  speed = inner_tape.gradient(position, time)\n",
        "acceleration = outer_tape.gradient(speed, time)"
      ],
      "metadata": {
        "id": "-c04H-W0-8KU"
      },
      "execution_count": null,
      "outputs": []
    },
    {
      "cell_type": "markdown",
      "source": [
        "## Listing 3.13 Generating two classes of random points in a 2D plane"
      ],
      "metadata": {
        "id": "J6VJ3a4-Byp9"
      }
    },
    {
      "cell_type": "code",
      "source": [
        "num_samples_per_class = 1000\n",
        "negative_samples = np.random.multivariate_normal(\n",
        "    mean=[0, 3],\n",
        "    cov=[[1, 0.5], [0.5, 1]],\n",
        "    size=num_samples_per_class\n",
        ")\n",
        "positive_samples = np.random.multivariate_normal(\n",
        "    mean=[3, 0],\n",
        "    cov=[[1, 0.5], [0.5, 1]],\n",
        "    size=num_samples_per_class\n",
        ")"
      ],
      "metadata": {
        "id": "HhqjpgzYB6_I"
      },
      "execution_count": null,
      "outputs": []
    },
    {
      "cell_type": "markdown",
      "source": [
        "## Listing 3.14 Stacking the two classes into an array with shape (2000, 2)"
      ],
      "metadata": {
        "id": "p1Bq7XhzECr4"
      }
    },
    {
      "cell_type": "code",
      "source": [
        "inputs = np.vstack((negative_samples, positive_samples)).astype(np.float32)"
      ],
      "metadata": {
        "id": "ybxywKbTFDhX"
      },
      "execution_count": null,
      "outputs": []
    },
    {
      "cell_type": "markdown",
      "source": [
        "## Listing 3.15 Generating the corresponding targets (0 and 1)"
      ],
      "metadata": {
        "id": "rV_dr19sFch-"
      }
    },
    {
      "cell_type": "code",
      "source": [
        "targets = np.vstack((np.zeros((num_samples_per_class, 1), dtype=\"float32\"),\n",
        "                     np.ones((num_samples_per_class, 1), dtype=\"float32\")))"
      ],
      "metadata": {
        "id": "JgPovhMQFjHM"
      },
      "execution_count": null,
      "outputs": []
    },
    {
      "cell_type": "markdown",
      "source": [
        "## Listing 3.16 Plotting the two point classes"
      ],
      "metadata": {
        "id": "wirBklNfF6fX"
      }
    },
    {
      "cell_type": "code",
      "source": [
        "import matplotlib.pyplot as plt\n",
        "plt.scatter(inputs[:, 0], inputs[:, 1], c=targets[:, 0])\n",
        "plt.show()"
      ],
      "metadata": {
        "colab": {
          "base_uri": "https://localhost:8080/",
          "height": 430
        },
        "id": "5rnkg5WuF968",
        "outputId": "b69c302b-79f9-4e4d-a7ff-8ad8dc659ed2"
      },
      "execution_count": null,
      "outputs": [
        {
          "output_type": "display_data",
          "data": {
            "text/plain": [
              "<Figure size 640x480 with 1 Axes>"
            ],
            "image/png": "[encoded data removed]"
          },
          "metadata": {}
        }
      ]
    },
    {
      "cell_type": "markdown",
      "source": [
        "## Listing 3.17 Creating the linear classifier variables"
      ],
      "metadata": {
        "id": "fAyhxVSpGTh6"
      }
    },
    {
      "cell_type": "code",
      "source": [
        "input_dim = 2\n",
        "output_dim = 1\n",
        "W = tf.Variable(initial_value=tf.random.uniform(shape=(input_dim, output_dim)))\n",
        "b = tf.Variable(initial_value=tf.zeros(shape=(output_dim,)))"
      ],
      "metadata": {
        "id": "TgnsMb6iGW_j"
      },
      "execution_count": null,
      "outputs": []
    },
    {
      "cell_type": "markdown",
      "source": [
        "## Listing 3.18 The forward pass function"
      ],
      "metadata": {
        "id": "Gk9k1IxGGyMX"
      }
    },
    {
      "cell_type": "code",
      "source": [
        "def model(inputs):\n",
        "  return tf.matmul(inputs, W) + b"
      ],
      "metadata": {
        "id": "VxnI6jHgHA9I"
      },
      "execution_count": null,
      "outputs": []
    },
    {
      "cell_type": "markdown",
      "source": [
        "## Listing 3.19 The mean squared error loss function"
      ],
      "metadata": {
        "id": "WOo-OE6ZHFxI"
      }
    },
    {
      "cell_type": "code",
      "source": [
        "def square_loss(targets, predictions):\n",
        "  per_sample_losses = tf.square(targets - predictions)\n",
        "  return tf.reduce_mean(per_sample_losses)"
      ],
      "metadata": {
        "id": "UJSToUjLHnxM"
      },
      "execution_count": null,
      "outputs": []
    },
    {
      "cell_type": "markdown",
      "source": [
        "## Listing 3.20 The training step function"
      ],
      "metadata": {
        "id": "5H-_jXniIBRl"
      }
    },
    {
      "cell_type": "code",
      "source": [
        "learning_rate = 0.1\n",
        "\n",
        "def training_step(inputs, targets):\n",
        "  with tf.GradientTape() as tape:\n",
        "    predictions = model(inputs)\n",
        "    loss = square_loss(targets, predictions)\n",
        "  grad_loss_wrt_W, grad_loss_wrt_b = tape.gradient(loss, [W, b])\n",
        "  W.assign_sub(grad_loss_wrt_W * learning_rate)\n",
        "  b.assign_sub(grad_loss_wrt_b * learning_rate)\n",
        "  return loss"
      ],
      "metadata": {
        "id": "gUuW8s0oIH8q"
      },
      "execution_count": null,
      "outputs": []
    },
    {
      "cell_type": "markdown",
      "source": [
        "## Listing 3.21 The batch training loop"
      ],
      "metadata": {
        "id": "C0Pe0-fKJCnD"
      }
    },
    {
      "cell_type": "code",
      "source": [
        "for step in range(40):\n",
        "  loss = training_step(inputs, targets)\n",
        "  print(f\"Loss at step {step}: {loss:.4f}\")\n",
        "\n",
        "# plot model's predictions on the training inputs\n",
        "predictions = model(inputs)\n",
        "plt.scatter(inputs[:, 0], inputs[:, 1], c=predictions[:, 0] > 0.5)\n",
        "plt.show()\n",
        "\n",
        "# our model, visualized as a line\n",
        "x = np.linspace(-1, 4, 100)\n",
        "y = -W[0] / W[1] * x + (0.5 - b) / W[1]\n",
        "plt.plot(x, y, \"-r\")\n",
        "plt.scatter(inputs[:, 0], inputs[:, 1], c=predictions[:, 0] > 0.5)\n",
        "plt.show()"
      ],
      "metadata": {
        "colab": {
          "base_uri": "https://localhost:8080/",
          "height": 1000
        },
        "id": "xHJ9It1DLDe-",
        "outputId": "563ccc6a-f8dd-45bc-ef66-42085ff54e04"
      },
      "execution_count": null,
      "outputs": [
        {
          "output_type": "stream",
          "name": "stdout",
          "text": [
            "Loss at step 0: 0.0262\n",
            "Loss at step 1: 0.0262\n",
            "Loss at step 2: 0.0262\n",
            "Loss at step 3: 0.0262\n",
            "Loss at step 4: 0.0262\n",
            "Loss at step 5: 0.0262\n",
            "Loss at step 6: 0.0262\n",
            "Loss at step 7: 0.0262\n",
            "Loss at step 8: 0.0262\n",
            "Loss at step 9: 0.0262\n",
            "Loss at step 10: 0.0262\n",
            "Loss at step 11: 0.0262\n",
            "Loss at step 12: 0.0262\n",
            "Loss at step 13: 0.0262\n",
            "Loss at step 14: 0.0261\n",
            "Loss at step 15: 0.0261\n",
            "Loss at step 16: 0.0261\n",
            "Loss at step 17: 0.0261\n",
            "Loss at step 18: 0.0261\n",
            "Loss at step 19: 0.0261\n",
            "Loss at step 20: 0.0261\n",
            "Loss at step 21: 0.0261\n",
            "Loss at step 22: 0.0261\n",
            "Loss at step 23: 0.0261\n",
            "Loss at step 24: 0.0261\n",
            "Loss at step 25: 0.0261\n",
            "Loss at step 26: 0.0261\n",
            "Loss at step 27: 0.0261\n",
            "Loss at step 28: 0.0261\n",
            "Loss at step 29: 0.0261\n",
            "Loss at step 30: 0.0261\n",
            "Loss at step 31: 0.0261\n",
            "Loss at step 32: 0.0261\n",
            "Loss at step 33: 0.0261\n",
            "Loss at step 34: 0.0261\n",
            "Loss at step 35: 0.0261\n",
            "Loss at step 36: 0.0261\n",
            "Loss at step 37: 0.0261\n",
            "Loss at step 38: 0.0261\n",
            "Loss at step 39: 0.0261\n"
          ]
        },
        {
          "output_type": "display_data",
          "data": {
            "text/plain": [
              "<Figure size 640x480 with 1 Axes>"
            ],
            "image/png": "[encoded data removed]"
          },
          "metadata": {}
        },
        {
          "output_type": "display_data",
          "data": {
            "text/plain": [
              "<Figure size 640x480 with 1 Axes>"
            ],
            "image/png": "[encoded data removed]"
          },
          "metadata": {}
        }
      ]
    },
    {
      "cell_type": "markdown",
      "source": [
        "## Listing 3.22 A Dense layer implemented as a Layer subclass\n"
      ],
      "metadata": {
        "id": "JZPU-AaAMWW5"
      }
    },
    {
      "cell_type": "code",
      "source": [
        "from tensorflow import keras\n",
        "import tensorflow as tf\n",
        "\n",
        "class SimpleDense(keras.layers.Layer):\n",
        "  def __init__(self, units, activation=None):\n",
        "    super().__init__()\n",
        "    self.units = units\n",
        "    self.activation = activation\n",
        "\n",
        "  def build(self, input_shape):\n",
        "    input_dim = input_shape[-1]\n",
        "    self.W = self.add_weight(shape=(input_dim, self.units), initializer=\"random_normal\")\n",
        "    self.b = self.add_weight(shape=(self.units,), initializer=\"zeros\")\n",
        "\n",
        "  def call(self, inputs):\n",
        "    y = tf.matmul(inputs, self.W) + self.b\n",
        "    if self.activation is not None:\n",
        "      y = self.activation(y)\n",
        "    return y\n",
        "\n",
        "my_dense = SimpleDense(units=32, activation=tf.nn.relu)\n",
        "input_tensor = tf.ones(shape=(2, 784))\n",
        "output_tensor = my_dense(input_tensor)\n",
        "print(output_tensor.shape)"
      ],
      "metadata": {
        "colab": {
          "base_uri": "https://localhost:8080/"
        },
        "id": "N5Eq-CO80pzf",
        "outputId": "453be65c-589b-43c9-f33b-bec79616b06e"
      },
      "execution_count": null,
      "outputs": [
        {
          "output_type": "stream",
          "name": "stdout",
          "text": [
            "(2, 32)\n"
          ]
        }
      ]
    },
    {
      "cell_type": "code",
      "source": [
        "from tensorflow.keras import layers\n",
        "layer = layers.Dense(32, activation=\"relu\")"
      ],
      "metadata": {
        "id": "h0cqToAs2AR3"
      },
      "execution_count": null,
      "outputs": []
    },
    {
      "cell_type": "code",
      "source": [
        "# When using Keras, you don't have to worry about size compatibility most of the\n",
        "# time, because the layers you add to your models are dynamically built to match\n",
        "# the shape of the incoming layer.\n",
        "from tensorflow.keras import models, layers\n",
        "model = models.Sequential([\n",
        "    layers.Dense(32, activation=\"relu\"),\n",
        "    layers.Dense(32)\n",
        "])"
      ],
      "metadata": {
        "id": "RxB__arf2kAn"
      },
      "execution_count": null,
      "outputs": []
    },
    {
      "cell_type": "code",
      "source": [
        "model = keras.Sequential([keras.layers.Dense(1)])\n",
        "model.compile(optimizer=\"rmsprop\", loss=\"mean_squared_error\", metrics=[\"accuracy\"])"
      ],
      "metadata": {
        "id": "5kYEe99n39mu"
      },
      "execution_count": null,
      "outputs": []
    },
    {
      "cell_type": "markdown",
      "source": [
        "## Listing 3.23 Calling `fit()` with NumPy data"
      ],
      "metadata": {
        "id": "jXvQYeGD9bgU"
      }
    },
    {
      "cell_type": "code",
      "source": [
        "history = model.fit(inputs, targets, epochs=5, batch_size=128)\n",
        "history.history"
      ],
      "metadata": {
        "colab": {
          "base_uri": "https://localhost:8080/"
        },
        "id": "hCe_Pn949eq3",
        "outputId": "8877fd26-9d9a-4d97-ea1e-76abf45c3428"
      },
      "execution_count": null,
      "outputs": [
        {
          "output_type": "stream",
          "name": "stdout",
          "text": [
            "Epoch 1/5\n",
            "16/16 [==============================] - 0s 5ms/step - loss: 0.7712 - accuracy: 0.6435\n",
            "Epoch 2/5\n",
            "16/16 [==============================] - 0s 4ms/step - loss: 0.6747 - accuracy: 0.6520\n",
            "Epoch 3/5\n",
            "16/16 [==============================] - 0s 8ms/step - loss: 0.5879 - accuracy: 0.6690\n",
            "Epoch 4/5\n",
            "16/16 [==============================] - 0s 5ms/step - loss: 0.5098 - accuracy: 0.6885\n",
            "Epoch 5/5\n",
            "16/16 [==============================] - 0s 4ms/step - loss: 0.4410 - accuracy: 0.7015\n"
          ]
        },
        {
          "output_type": "execute_result",
          "data": {
            "text/plain": [
              "{'loss': [0.7712062001228333,\n",
              "  0.674746572971344,\n",
              "  0.5879043936729431,\n",
              "  0.5097733736038208,\n",
              "  0.4410325288772583],\n",
              " 'accuracy': [0.6434999704360962,\n",
              "  0.6520000100135803,\n",
              "  0.6690000295639038,\n",
              "  0.6884999871253967,\n",
              "  0.7014999985694885]}"
            ]
          },
          "metadata": {},
          "execution_count": 24
        }
      ]
    },
    {
      "cell_type": "markdown",
      "source": [
        "## Listing 3.24 Using the `validation_data` argument"
      ],
      "metadata": {
        "id": "EB5-Nsji-1uG"
      }
    },
    {
      "cell_type": "code",
      "source": [
        "model = keras.Sequential([keras.layers.Dense(1)])\n",
        "model.compile(optimizer=keras.optimizers.RMSprop(learning_rate=0.1),\n",
        "              loss=keras.losses.MeanSquaredError(),\n",
        "              metrics=[keras.metrics.BinaryAccuracy()])\n",
        "indices_permutation = np.random.permutation(len(inputs))\n",
        "shuffled_inputs = inputs[indices_permutation]\n",
        "shuffled_targets = targets[indices_permutation]\n",
        "\n",
        "num_validation_samples = int(0.3 * len(inputs))\n",
        "val_inputs = shuffled_inputs[:num_validation_samples]\n",
        "val_targets = shuffled_targets[:num_validation_samples]\n",
        "training_inputs = shuffled_inputs[num_validation_samples:]\n",
        "training_targets = shuffled_targets[num_validation_samples:]\n",
        "model.fit(\n",
        "    training_inputs,\n",
        "    training_targets,\n",
        "    epochs=5,\n",
        "    batch_size=16,\n",
        "    validation_data=(val_inputs, val_targets)\n",
        ")\n",
        "loss_and_metrics = model.evaluate(val_inputs, val_targets, batch_size=128)\n",
        "print(loss_and_metrics)"
      ],
      "metadata": {
        "colab": {
          "base_uri": "https://localhost:8080/"
        },
        "id": "sCh8JQSn-4Yd",
        "outputId": "c2c70e57-3844-4cd1-ae57-9cc509afc126"
      },
      "execution_count": null,
      "outputs": [
        {
          "output_type": "stream",
          "name": "stdout",
          "text": [
            "Epoch 1/5\n",
            "88/88 [==============================] - 2s 12ms/step - loss: 0.4064 - binary_accuracy: 0.9129 - val_loss: 0.0332 - val_binary_accuracy: 0.9983\n",
            "Epoch 2/5\n",
            "88/88 [==============================] - 1s 10ms/step - loss: 0.0719 - binary_accuracy: 0.9564 - val_loss: 0.2108 - val_binary_accuracy: 0.8167\n",
            "Epoch 3/5\n",
            "88/88 [==============================] - 1s 10ms/step - loss: 0.0773 - binary_accuracy: 0.9486 - val_loss: 0.1467 - val_binary_accuracy: 0.9217\n",
            "Epoch 4/5\n",
            "88/88 [==============================] - 1s 8ms/step - loss: 0.0745 - binary_accuracy: 0.9564 - val_loss: 0.0418 - val_binary_accuracy: 0.9950\n",
            "Epoch 5/5\n",
            "88/88 [==============================] - 0s 5ms/step - loss: 0.0755 - binary_accuracy: 0.9500 - val_loss: 0.0260 - val_binary_accuracy: 0.9983\n",
            "5/5 [==============================] - 0s 3ms/step - loss: 0.0260 - binary_accuracy: 0.9983\n",
            "[0.026035405695438385, 0.9983333349227905]\n"
          ]
        }
      ]
    },
    {
      "cell_type": "code",
      "source": [
        "predictions = model.predict(val_inputs, batch_size=128)\n",
        "print(predictions[:10])"
      ],
      "metadata": {
        "colab": {
          "base_uri": "https://localhost:8080/"
        },
        "id": "81vWBgMeAMqs",
        "outputId": "9131b6ce-d382-401e-e64a-b69c40165f48"
      },
      "execution_count": null,
      "outputs": [
        {
          "output_type": "stream",
          "name": "stdout",
          "text": [
            "5/5 [==============================] - 0s 3ms/step\n",
            "[[ 0.0838975 ]\n",
            " [ 0.84821093]\n",
            " [ 0.41135544]\n",
            " [ 1.0645845 ]\n",
            " [ 0.91411024]\n",
            " [ 0.97204   ]\n",
            " [-0.03641772]\n",
            " [ 1.1270711 ]\n",
            " [ 1.0107777 ]\n",
            " [ 0.2553392 ]]\n"
          ]
        }
      ]
    },
    {
      "cell_type": "markdown",
      "source": [
        "# Chapter 4"
      ],
      "metadata": {
        "id": "e93GDknE-jXN"
      }
    },
    {
      "cell_type": "markdown",
      "source": [
        "## Listing 4.1 Loading the IMDB dataset"
      ],
      "metadata": {
        "id": "Fvy3ezxs_DxC"
      }
    },
    {
      "cell_type": "code",
      "source": [
        "from tensorflow.keras.datasets import imdb\n",
        "(train_data, train_labels), (test_data, test_labels) = imdb.load_data(num_words=10000)"
      ],
      "metadata": {
        "id": "m2sNsB68_LBJ",
        "colab": {
          "base_uri": "https://localhost:8080/"
        },
        "outputId": "8b5b43ae-970f-413a-ea55-ef86266477a9"
      },
      "execution_count": 1,
      "outputs": [
        {
          "output_type": "stream",
          "name": "stdout",
          "text": [
            "Downloading data from https://storage.googleapis.com/tensorflow/tf-keras-datasets/imdb.npz\n",
            "17464789/17464789 [==============================] - 0s 0us/step\n"
          ]
        }
      ]
    },
    {
      "cell_type": "code",
      "source": [
        "print(train_data[0])\n",
        "\n",
        "print(train_labels[0])"
      ],
      "metadata": {
        "colab": {
          "base_uri": "https://localhost:8080/"
        },
        "id": "yMZ15BT0Bqu5",
        "outputId": "5d4714ec-f5bd-47cc-bea3-7f57f9b810c8"
      },
      "execution_count": 6,
      "outputs": [
        {
          "output_type": "stream",
          "name": "stdout",
          "text": [
            "[1, 14, 22, 16, 43, 530, 973, 1622, 1385, 65, 458, 4468, 66, 3941, 4, 173, 36, 256, 5, 25, 100, 43, 838, 112, 50, 670, 2, 9, 35, 480, 284, 5, 150, 4, 172, 112, 167, 2, 336, 385, 39, 4, 172, 4536, 1111, 17, 546, 38, 13, 447, 4, 192, 50, 16, 6, 147, 2025, 19, 14, 22, 4, 1920, 4613, 469, 4, 22, 71, 87, 12, 16, 43, 530, 38, 76, 15, 13, 1247, 4, 22, 17, 515, 17, 12, 16, 626, 18, 2, 5, 62, 386, 12, 8, 316, 8, 106, 5, 4, 2223, 5244, 16, 480, 66, 3785, 33, 4, 130, 12, 16, 38, 619, 5, 25, 124, 51, 36, 135, 48, 25, 1415, 33, 6, 22, 12, 215, 28, 77, 52, 5, 14, 407, 16, 82, 2, 8, 4, 107, 117, 5952, 15, 256, 4, 2, 7, 3766, 5, 723, 36, 71, 43, 530, 476, 26, 400, 317, 46, 7, 4, 2, 1029, 13, 104, 88, 4, 381, 15, 297, 98, 32, 2071, 56, 26, 141, 6, 194, 7486, 18, 4, 226, 22, 21, 134, 476, 26, 480, 5, 144, 30, 5535, 18, 51, 36, 28, 224, 92, 25, 104, 4, 226, 65, 16, 38, 1334, 88, 12, 16, 283, 5, 16, 4472, 113, 103, 32, 15, 16, 5345, 19, 178, 32]\n",
            "1\n"
          ]
        }
      ]
    },
    {
      "cell_type": "code",
      "source": [
        "max([max(sequence) for sequence in train_data])"
      ],
      "metadata": {
        "colab": {
          "base_uri": "https://localhost:8080/"
        },
        "id": "d12yTlh7BtuP",
        "outputId": "2991f0f3-427b-439a-daf9-e1f30b26509f"
      },
      "execution_count": 7,
      "outputs": [
        {
          "output_type": "execute_result",
          "data": {
            "text/plain": [
              "9999"
            ]
          },
          "metadata": {},
          "execution_count": 7
        }
      ]
    },
    {
      "cell_type": "markdown",
      "source": [
        "## Listing 4.2 Decoding review back to text"
      ],
      "metadata": {
        "id": "af7ZP-n_CB08"
      }
    },
    {
      "cell_type": "code",
      "source": [
        "word_index = imdb.get_word_index()\n",
        "reverse_word_index = dict(\n",
        "    [(value, key) for (key, value) in word_index.items()])\n",
        "decoded_review = \" \".join([reverse_word_index.get(i - 3, \"?\") for i in train_data[0]])\n",
        "print(decoded_review)"
      ],
      "metadata": {
        "colab": {
          "base_uri": "https://localhost:8080/"
        },
        "id": "YssUpS2ECE6l",
        "outputId": "baebe88b-2f36-436d-a89e-fc3d84cbe170"
      },
      "execution_count": 9,
      "outputs": [
        {
          "output_type": "stream",
          "name": "stdout",
          "text": [
            "? this film was just brilliant casting location scenery story direction everyone's really suited the part they played and you could just imagine being there robert ? is an amazing actor and now the same being director ? father came from the same scottish island as myself so i loved the fact there was a real connection with this film the witty remarks throughout the film were great it was just brilliant so much that i bought the film as soon as it was released for ? and would recommend it to everyone to watch and the fly fishing was amazing really cried at the end it was so sad and you know what they say if you cry at a film it must have been good and this definitely was also ? to the two little boy's that played the ? of norman and paul they were just brilliant children are often left out of the ? list i think because the stars that play them all grown up are such a big profile for the whole film but these children are amazing and should be praised for what they have done don't you think the whole story was so lovely because it was true and was someone's life after all that was shared with us all\n"
          ]
        }
      ]
    },
    {
      "cell_type": "markdown",
      "source": [
        "## Listing 4.3 Encoding the integer sequences via multi-hot encoding"
      ],
      "metadata": {
        "id": "Fcq1DNc8C1kq"
      }
    },
    {
      "cell_type": "code",
      "source": [
        "import numpy as np\n",
        "def vectorize_sequences(sequences, dimension=10000):\n",
        "  results = np.zeros((len(sequences), dimension))\n",
        "  for i, sequence in enumerate(sequences):\n",
        "    for j in sequence:\n",
        "      results[i, j] = 1.\n",
        "  return results\n",
        "\n",
        "x_train = vectorize_sequences(train_data)\n",
        "x_test = vectorize_sequences(test_data)\n",
        "\n",
        "# Vectorize labels\n",
        "y_train = np.asarray(train_labels).astype(\"float32\")\n",
        "y_test = np.asarray(test_labels).astype(\"float32\")"
      ],
      "metadata": {
        "id": "rjXobXoQDNpb"
      },
      "execution_count": 8,
      "outputs": []
    },
    {
      "cell_type": "markdown",
      "source": [
        "## Listing 4.4 Model definition"
      ],
      "metadata": {
        "id": "91p0NI0gEMjn"
      }
    },
    {
      "cell_type": "code",
      "source": [
        "from tensorflow import keras\n",
        "from tensorflow.keras import layers\n",
        "\n",
        "model = keras.Sequential([\n",
        "    layers.Dense(16, activation=\"relu\"),\n",
        "    layers.Dense(16, activation=\"relu\"),\n",
        "    layers.Dense(1, activation=\"sigmoid\")\n",
        "])"
      ],
      "metadata": {
        "id": "hh_MhVZSE89g"
      },
      "execution_count": 13,
      "outputs": []
    },
    {
      "cell_type": "markdown",
      "source": [
        "## Listing 4.5 Compiling the model"
      ],
      "metadata": {
        "id": "Rc7X8ogTIyTR"
      }
    },
    {
      "cell_type": "code",
      "source": [
        "model.compile(optimizer=\"rmsprop\",\n",
        "               loss=\"binary_crossentropy\",\n",
        "               metrics=[\"accuracy\"])"
      ],
      "metadata": {
        "id": "oUSMxEESI02w"
      },
      "execution_count": 14,
      "outputs": []
    },
    {
      "cell_type": "markdown",
      "source": [
        "## Listing 4.6 Setting aside a validation set"
      ],
      "metadata": {
        "id": "ctaT_dlhJR_j"
      }
    },
    {
      "cell_type": "code",
      "source": [
        "x_val = x_train[:10000]\n",
        "partial_x_train = x_train[10000:]\n",
        "y_val = y_train[:10000]\n",
        "partial_y_train = y_train[10000:]"
      ],
      "metadata": {
        "id": "bd4UWapgJVPQ"
      },
      "execution_count": 15,
      "outputs": []
    },
    {
      "cell_type": "markdown",
      "source": [
        "## Listing 4.7 Training your model"
      ],
      "metadata": {
        "id": "xwMJZonQJhed"
      }
    },
    {
      "cell_type": "code",
      "source": [
        "history = model.fit(partial_x_train,\n",
        "                    partial_y_train,\n",
        "                    epochs=20,\n",
        "                    batch_size=512,\n",
        "                    validation_data=(x_val, y_val))"
      ],
      "metadata": {
        "colab": {
          "base_uri": "https://localhost:8080/"
        },
        "id": "2lDBBSRSJstt",
        "outputId": "1897e434-4b66-40b5-a1b6-7e2cf4c58653"
      },
      "execution_count": 16,
      "outputs": [
        {
          "output_type": "stream",
          "name": "stdout",
          "text": [
            "Epoch 1/20\n",
            "30/30 [==============================] - 5s 71ms/step - loss: 0.5817 - accuracy: 0.7537 - val_loss: 0.4734 - val_accuracy: 0.8268\n",
            "Epoch 2/20\n",
            "30/30 [==============================] - 1s 32ms/step - loss: 0.3910 - accuracy: 0.8810 - val_loss: 0.3568 - val_accuracy: 0.8782\n",
            "Epoch 3/20\n",
            "30/30 [==============================] - 1s 42ms/step - loss: 0.2940 - accuracy: 0.9045 - val_loss: 0.3077 - val_accuracy: 0.8856\n",
            "Epoch 4/20\n",
            "30/30 [==============================] - 1s 33ms/step - loss: 0.2344 - accuracy: 0.9244 - val_loss: 0.3003 - val_accuracy: 0.8792\n",
            "Epoch 5/20\n",
            "30/30 [==============================] - 1s 23ms/step - loss: 0.1975 - accuracy: 0.9353 - val_loss: 0.3039 - val_accuracy: 0.8791\n",
            "Epoch 6/20\n",
            "30/30 [==============================] - 1s 22ms/step - loss: 0.1712 - accuracy: 0.9428 - val_loss: 0.2752 - val_accuracy: 0.8880\n",
            "Epoch 7/20\n",
            "30/30 [==============================] - 1s 22ms/step - loss: 0.1490 - accuracy: 0.9533 - val_loss: 0.2933 - val_accuracy: 0.8850\n",
            "Epoch 8/20\n",
            "30/30 [==============================] - 1s 22ms/step - loss: 0.1305 - accuracy: 0.9602 - val_loss: 0.3020 - val_accuracy: 0.8832\n",
            "Epoch 9/20\n",
            "30/30 [==============================] - 1s 22ms/step - loss: 0.1132 - accuracy: 0.9671 - val_loss: 0.3033 - val_accuracy: 0.8851\n",
            "Epoch 10/20\n",
            "30/30 [==============================] - 1s 22ms/step - loss: 0.0997 - accuracy: 0.9709 - val_loss: 0.3126 - val_accuracy: 0.8836\n",
            "Epoch 11/20\n",
            "30/30 [==============================] - 1s 22ms/step - loss: 0.0896 - accuracy: 0.9743 - val_loss: 0.3485 - val_accuracy: 0.8715\n",
            "Epoch 12/20\n",
            "30/30 [==============================] - 1s 23ms/step - loss: 0.0780 - accuracy: 0.9793 - val_loss: 0.3412 - val_accuracy: 0.8805\n",
            "Epoch 13/20\n",
            "30/30 [==============================] - 1s 25ms/step - loss: 0.0681 - accuracy: 0.9825 - val_loss: 0.3563 - val_accuracy: 0.8801\n",
            "Epoch 14/20\n",
            "30/30 [==============================] - 1s 22ms/step - loss: 0.0608 - accuracy: 0.9848 - val_loss: 0.3758 - val_accuracy: 0.8788\n",
            "Epoch 15/20\n",
            "30/30 [==============================] - 1s 23ms/step - loss: 0.0510 - accuracy: 0.9888 - val_loss: 0.3972 - val_accuracy: 0.8747\n",
            "Epoch 16/20\n",
            "30/30 [==============================] - 1s 23ms/step - loss: 0.0458 - accuracy: 0.9902 - val_loss: 0.4105 - val_accuracy: 0.8765\n",
            "Epoch 17/20\n",
            "30/30 [==============================] - 1s 23ms/step - loss: 0.0386 - accuracy: 0.9927 - val_loss: 0.4336 - val_accuracy: 0.8735\n",
            "Epoch 18/20\n",
            "30/30 [==============================] - 1s 25ms/step - loss: 0.0327 - accuracy: 0.9943 - val_loss: 0.4542 - val_accuracy: 0.8739\n",
            "Epoch 19/20\n",
            "30/30 [==============================] - 1s 37ms/step - loss: 0.0288 - accuracy: 0.9957 - val_loss: 0.4823 - val_accuracy: 0.8728\n",
            "Epoch 20/20\n",
            "30/30 [==============================] - 1s 38ms/step - loss: 0.0260 - accuracy: 0.9963 - val_loss: 0.4963 - val_accuracy: 0.8720\n"
          ]
        }
      ]
    },
    {
      "cell_type": "code",
      "source": [
        "history_dict = history.history\n",
        "print(history_dict.keys())"
      ],
      "metadata": {
        "colab": {
          "base_uri": "https://localhost:8080/"
        },
        "id": "xUciFY8TJ2tt",
        "outputId": "d1d44bdf-881b-43fc-ecb7-03e595294132"
      },
      "execution_count": 17,
      "outputs": [
        {
          "output_type": "stream",
          "name": "stdout",
          "text": [
            "dict_keys(['loss', 'accuracy', 'val_loss', 'val_accuracy'])\n"
          ]
        }
      ]
    },
    {
      "cell_type": "markdown",
      "source": [
        "## Listing 4.8 Plotting the training and validation loss"
      ],
      "metadata": {
        "id": "5GksfdyIKbR7"
      }
    },
    {
      "cell_type": "code",
      "source": [
        "import matplotlib.pyplot as plt\n",
        "history_dict = history.history\n",
        "loss_values = history_dict[\"loss\"]\n",
        "val_loss_values = history_dict[\"val_loss\"]\n",
        "epochs = range(1, len(loss_values) + 1)\n",
        "plt.plot(epochs, loss_values, \"bo\", label=\"Training loss\")\n",
        "plt.plot(epochs, val_loss_values, \"b\", label=\"Validation loss\")\n",
        "plt.title(\"Training and validation loss\")\n",
        "plt.xlabel(\"Epochs\")\n",
        "plt.ylabel(\"Loss\")\n",
        "plt.legend()\n",
        "plt.show()"
      ],
      "metadata": {
        "colab": {
          "base_uri": "https://localhost:8080/",
          "height": 472
        },
        "id": "J19P9nYXKeEi",
        "outputId": "a6860269-94dd-4d4c-a019-756ea5b3e663"
      },
      "execution_count": 22,
      "outputs": [
        {
          "output_type": "display_data",
          "data": {
            "text/plain": [
              "<Figure size 640x480 with 1 Axes>"
            ],
            "image/png": "[encoded data removed]"
          },
          "metadata": {}
        }
      ]
    },
    {
      "cell_type": "markdown",
      "source": [
        "## Listing 4.9 Plotting the training and validation accuracy"
      ],
      "metadata": {
        "id": "NpM5VacZLHIC"
      }
    },
    {
      "cell_type": "code",
      "source": [
        "plt.clf()\n",
        "acc = history_dict[\"accuracy\"]\n",
        "val_acc = history_dict[\"val_accuracy\"]\n",
        "plt.plot(epochs, acc, \"bo\", label=\"Training acc\")\n",
        "plt.plot(epochs, val_acc, \"b\", label=\"Validation acc\")\n",
        "plt.title(\"Training and validation accuracy\")\n",
        "plt.xlabel(\"Epochs\")\n",
        "plt.ylabel(\"Accuracy\")\n",
        "plt.legend()\n",
        "plt.show()"
      ],
      "metadata": {
        "colab": {
          "base_uri": "https://localhost:8080/",
          "height": 472
        },
        "id": "q2cemOfYLK1U",
        "outputId": "dcc2d38d-06b3-4e28-a5a7-9f5f4d2b5a99"
      },
      "execution_count": 19,
      "outputs": [
        {
          "output_type": "display_data",
          "data": {
            "text/plain": [
              "<Figure size 640x480 with 1 Axes>"
            ],
            "image/png": "[encoded data removed]"
          },
          "metadata": {}
        }
      ]
    },
    {
      "cell_type": "markdown",
      "source": [
        "## Listing 4.10 Retraining a model from scratch"
      ],
      "metadata": {
        "id": "0Q2UvViSL3c-"
      }
    },
    {
      "cell_type": "code",
      "source": [
        "model = keras.Sequential([\n",
        "    layers.Dense(16, activation=\"relu\"),\n",
        "    layers.Dense(16, activation=\"relu\"),\n",
        "    layers.Dense(1, activation=\"sigmoid\")\n",
        "])\n",
        "model.compile(optimizer=\"rmsprop\",\n",
        "              loss=\"binary_crossentropy\",\n",
        "              metrics=[\"accuracy\"])\n",
        "model.fit(x_train, y_train, epochs=4, batch_size=512)\n",
        "results = model.evaluate(x_test, y_test)\n",
        "print(results)"
      ],
      "metadata": {
        "colab": {
          "base_uri": "https://localhost:8080/"
        },
        "id": "tJWOBO79L6ex",
        "outputId": "b519d4f7-37b6-4372-c57e-45894c043adf"
      },
      "execution_count": 20,
      "outputs": [
        {
          "output_type": "stream",
          "name": "stdout",
          "text": [
            "Epoch 1/4\n",
            "49/49 [==============================] - 1s 13ms/step - loss: 0.4692 - accuracy: 0.8060\n",
            "Epoch 2/4\n",
            "49/49 [==============================] - 1s 14ms/step - loss: 0.2715 - accuracy: 0.9043\n",
            "Epoch 3/4\n",
            "49/49 [==============================] - 1s 14ms/step - loss: 0.2131 - accuracy: 0.9235\n",
            "Epoch 4/4\n",
            "49/49 [==============================] - 1s 14ms/step - loss: 0.1788 - accuracy: 0.9362\n",
            "782/782 [==============================] - 2s 3ms/step - loss: 0.2868 - accuracy: 0.8859\n",
            "[0.28678733110427856, 0.8858799934387207]\n"
          ]
        }
      ]
    },
    {
      "cell_type": "code",
      "source": [
        "model.predict(x_test)"
      ],
      "metadata": {
        "colab": {
          "base_uri": "https://localhost:8080/"
        },
        "id": "rT827NtoMbq-",
        "outputId": "dd873870-7023-4e43-9b82-cf7b88f89a49"
      },
      "execution_count": 21,
      "outputs": [
        {
          "output_type": "stream",
          "name": "stdout",
          "text": [
            "782/782 [==============================] - 2s 2ms/step\n"
          ]
        },
        {
          "output_type": "execute_result",
          "data": {
            "text/plain": [
              "array([[0.1679138 ],\n",
              "       [0.9992754 ],\n",
              "       [0.7508953 ],\n",
              "       ...,\n",
              "       [0.11210259],\n",
              "       [0.06575298],\n",
              "       [0.4921973 ]], dtype=float32)"
            ]
          },
          "metadata": {},
          "execution_count": 21
        }
      ]
    },
    {
      "cell_type": "markdown",
      "source": [
        "## Listing 4.11 Loading the Reuters dataset"
      ],
      "metadata": {
        "id": "a56It-l8NcqM"
      }
    },
    {
      "cell_type": "code",
      "source": [
        "from tensorflow.keras.datasets import reuters\n",
        "(train_data, train_labels), (test_data, test_labels) = reuters.load_data(num_words=10000)"
      ],
      "metadata": {
        "colab": {
          "base_uri": "https://localhost:8080/"
        },
        "id": "2yezy1pcJPqx",
        "outputId": "24ce87aa-603d-447a-9ca2-e5fb2f4dc9e2"
      },
      "execution_count": 1,
      "outputs": [
        {
          "output_type": "stream",
          "name": "stdout",
          "text": [
            "Downloading data from https://storage.googleapis.com/tensorflow/tf-keras-datasets/reuters.npz\n",
            "2110848/2110848 [==============================] - 0s 0us/step\n"
          ]
        }
      ]
    },
    {
      "cell_type": "code",
      "source": [
        "print(len(train_data))\n",
        "print(len(test_data))"
      ],
      "metadata": {
        "colab": {
          "base_uri": "https://localhost:8080/"
        },
        "id": "rP2Vcrk8JX4J",
        "outputId": "79e4153b-64a3-4919-b584-beb84e0f1123"
      },
      "execution_count": 3,
      "outputs": [
        {
          "output_type": "stream",
          "name": "stdout",
          "text": [
            "8982\n",
            "2246\n"
          ]
        }
      ]
    },
    {
      "cell_type": "code",
      "source": [
        "print(train_data[10])"
      ],
      "metadata": {
        "colab": {
          "base_uri": "https://localhost:8080/"
        },
        "id": "rLyDYvu4Jj0a",
        "outputId": "6724f9f2-2433-456e-8adf-9d21e89c36c0"
      },
      "execution_count": 4,
      "outputs": [
        {
          "output_type": "stream",
          "name": "stdout",
          "text": [
            "[1, 245, 273, 207, 156, 53, 74, 160, 26, 14, 46, 296, 26, 39, 74, 2979, 3554, 14, 46, 4689, 4329, 86, 61, 3499, 4795, 14, 61, 451, 4329, 17, 12]\n"
          ]
        }
      ]
    },
    {
      "cell_type": "markdown",
      "source": [
        "## Listing 4.12 Decoding newswires back to text"
      ],
      "metadata": {
        "id": "FxpxHG7YJuEo"
      }
    },
    {
      "cell_type": "code",
      "source": [
        "word_index = reuters.get_word_index()\n",
        "reverse_word_index = dict(\n",
        "    [(value, key) for (key, value) in word_index.items()])\n",
        "decoded_newswire = \" \".join([reverse_word_index.get(i - 3, \"?\") for i in train_data[0]])"
      ],
      "metadata": {
        "colab": {
          "base_uri": "https://localhost:8080/"
        },
        "id": "eOpjGhY2Jw6Y",
        "outputId": "a32ce370-42eb-4778-8d4c-7dc7b8c60228"
      },
      "execution_count": 5,
      "outputs": [
        {
          "output_type": "stream",
          "name": "stdout",
          "text": [
            "Downloading data from https://storage.googleapis.com/tensorflow/tf-keras-datasets/reuters_word_index.json\n",
            "550378/550378 [==============================] - 0s 0us/step\n"
          ]
        }
      ]
    },
    {
      "cell_type": "code",
      "source": [
        "print(train_labels[10])"
      ],
      "metadata": {
        "colab": {
          "base_uri": "https://localhost:8080/"
        },
        "id": "1ioYWurKKQvw",
        "outputId": "fb440b03-8d13-434b-8e06-bf26447c3a4a"
      },
      "execution_count": 6,
      "outputs": [
        {
          "output_type": "stream",
          "name": "stdout",
          "text": [
            "3\n"
          ]
        }
      ]
    },
    {
      "cell_type": "markdown",
      "source": [
        "## Listing 4.13 Encoding the input data"
      ],
      "metadata": {
        "id": "9rbsmXvzKdZy"
      }
    },
    {
      "cell_type": "code",
      "source": [
        "x_train = vectorize_sequences(train_data)\n",
        "x_test = vectorize_sequences(test_data)"
      ],
      "metadata": {
        "id": "1La0HXdcKfHu"
      },
      "execution_count": 9,
      "outputs": []
    },
    {
      "cell_type": "markdown",
      "source": [
        "## Listing 4.14 Encoding the labels"
      ],
      "metadata": {
        "id": "Lln_ffX7K5ec"
      }
    },
    {
      "cell_type": "code",
      "source": [
        "def to_one_hot(labels, dimension=46):\n",
        "  results = np.zeros((len(labels), dimension))\n",
        "  for i, label in enumerate(labels):\n",
        "    results[i, label] = 1.\n",
        "  return results\n",
        "\n",
        "y_train = to_one_hot(train_labels)\n",
        "y_test = to_one_hot(test_labels)"
      ],
      "metadata": {
        "id": "gpHdQ3G1K79U"
      },
      "execution_count": 10,
      "outputs": []
    },
    {
      "cell_type": "code",
      "source": [
        "# Built-in way to do one-hot encoding\n",
        "from tensorflow.keras.utils import to_categorical\n",
        "y_train = to_categorical(train_labels)\n",
        "y_test = to_categorical(test_labels)"
      ],
      "metadata": {
        "id": "wUa7LR6NLlql"
      },
      "execution_count": 11,
      "outputs": []
    },
    {
      "cell_type": "markdown",
      "source": [
        "## Listing 4.15 Model definition"
      ],
      "metadata": {
        "id": "SUDM9MEAL1WD"
      }
    },
    {
      "cell_type": "code",
      "source": [
        "model = keras.Sequential([\n",
        "    layers.Dense(64, activation=\"relu\"),\n",
        "    layers.Dense(64, activation=\"relu\"),\n",
        "    layers.Dense(46, activation=\"softmax\")\n",
        "])"
      ],
      "metadata": {
        "id": "jvlqL16SL4Hf"
      },
      "execution_count": 14,
      "outputs": []
    },
    {
      "cell_type": "markdown",
      "source": [
        "## Listing 4.16 Compiling the model"
      ],
      "metadata": {
        "id": "p9QLc4ENNTDV"
      }
    },
    {
      "cell_type": "code",
      "source": [
        "model.compile(optimizer=\"rmsprop\",\n",
        "              loss=\"categorical_crossentropy\",\n",
        "              metrics=[\"accuracy\"])"
      ],
      "metadata": {
        "id": "fmVBWx4jNViE"
      },
      "execution_count": 19,
      "outputs": []
    },
    {
      "cell_type": "markdown",
      "source": [
        "## Listing 4.17 Setting aside a validation set"
      ],
      "metadata": {
        "id": "QWxLbHy2NilS"
      }
    },
    {
      "cell_type": "code",
      "source": [
        "x_val = x_train[:1000]\n",
        "partial_x_train = x_train[1000:]\n",
        "y_val = y_train[:1000]\n",
        "partial_y_train = y_train[1000:]"
      ],
      "metadata": {
        "id": "sMU91NLPNllK"
      },
      "execution_count": 17,
      "outputs": []
    },
    {
      "cell_type": "markdown",
      "source": [
        "## Listing 4.18 Training the model"
      ],
      "metadata": {
        "id": "AYmQyDKCN6LI"
      }
    },
    {
      "cell_type": "code",
      "source": [
        "history = model.fit(partial_x_train,\n",
        "                    partial_y_train,\n",
        "                    epochs=20,\n",
        "                    batch_size=512,\n",
        "                    validation_data=(x_val, y_val))"
      ],
      "metadata": {
        "colab": {
          "base_uri": "https://localhost:8080/"
        },
        "id": "BqpvA2zsOBgG",
        "outputId": "ec6f80db-03f9-41da-bd11-fd3100f150d5"
      },
      "execution_count": 20,
      "outputs": [
        {
          "output_type": "stream",
          "name": "stdout",
          "text": [
            "Epoch 1/20\n",
            "16/16 [==============================] - 2s 39ms/step - loss: 2.6810 - accuracy: 0.4931 - val_loss: 1.7866 - val_accuracy: 0.6190\n",
            "Epoch 2/20\n",
            "16/16 [==============================] - 0s 19ms/step - loss: 1.5149 - accuracy: 0.6698 - val_loss: 1.3643 - val_accuracy: 0.6830\n",
            "Epoch 3/20\n",
            "16/16 [==============================] - 0s 17ms/step - loss: 1.1628 - accuracy: 0.7419 - val_loss: 1.1763 - val_accuracy: 0.7360\n",
            "Epoch 4/20\n",
            "16/16 [==============================] - 0s 18ms/step - loss: 0.9537 - accuracy: 0.7894 - val_loss: 1.0618 - val_accuracy: 0.7660\n",
            "Epoch 5/20\n",
            "16/16 [==============================] - 0s 17ms/step - loss: 0.7978 - accuracy: 0.8236 - val_loss: 1.0176 - val_accuracy: 0.7720\n",
            "Epoch 6/20\n",
            "16/16 [==============================] - 0s 16ms/step - loss: 0.6706 - accuracy: 0.8574 - val_loss: 0.9620 - val_accuracy: 0.7930\n",
            "Epoch 7/20\n",
            "16/16 [==============================] - 0s 17ms/step - loss: 0.5598 - accuracy: 0.8821 - val_loss: 0.9225 - val_accuracy: 0.7980\n",
            "Epoch 8/20\n",
            "16/16 [==============================] - 0s 19ms/step - loss: 0.4731 - accuracy: 0.9024 - val_loss: 0.9324 - val_accuracy: 0.7820\n",
            "Epoch 9/20\n",
            "16/16 [==============================] - 0s 19ms/step - loss: 0.3998 - accuracy: 0.9179 - val_loss: 0.8888 - val_accuracy: 0.8100\n",
            "Epoch 10/20\n",
            "16/16 [==============================] - 0s 17ms/step - loss: 0.3399 - accuracy: 0.9300 - val_loss: 0.9111 - val_accuracy: 0.8030\n",
            "Epoch 11/20\n",
            "16/16 [==============================] - 0s 17ms/step - loss: 0.2913 - accuracy: 0.9376 - val_loss: 0.8766 - val_accuracy: 0.8170\n",
            "Epoch 12/20\n",
            "16/16 [==============================] - 0s 17ms/step - loss: 0.2606 - accuracy: 0.9406 - val_loss: 0.8920 - val_accuracy: 0.8090\n",
            "Epoch 13/20\n",
            "16/16 [==============================] - 0s 19ms/step - loss: 0.2275 - accuracy: 0.9489 - val_loss: 0.9167 - val_accuracy: 0.7980\n",
            "Epoch 14/20\n",
            "16/16 [==============================] - 0s 17ms/step - loss: 0.2049 - accuracy: 0.9504 - val_loss: 0.8929 - val_accuracy: 0.8110\n",
            "Epoch 15/20\n",
            "16/16 [==============================] - 0s 17ms/step - loss: 0.1854 - accuracy: 0.9513 - val_loss: 0.9086 - val_accuracy: 0.8080\n",
            "Epoch 16/20\n",
            "16/16 [==============================] - 0s 20ms/step - loss: 0.1710 - accuracy: 0.9540 - val_loss: 0.9893 - val_accuracy: 0.7950\n",
            "Epoch 17/20\n",
            "16/16 [==============================] - 0s 19ms/step - loss: 0.1613 - accuracy: 0.9541 - val_loss: 0.9311 - val_accuracy: 0.8090\n",
            "Epoch 18/20\n",
            "16/16 [==============================] - 0s 17ms/step - loss: 0.1474 - accuracy: 0.9568 - val_loss: 0.9474 - val_accuracy: 0.8130\n",
            "Epoch 19/20\n",
            "16/16 [==============================] - 0s 16ms/step - loss: 0.1392 - accuracy: 0.9559 - val_loss: 0.9929 - val_accuracy: 0.8070\n",
            "Epoch 20/20\n",
            "16/16 [==============================] - 0s 16ms/step - loss: 0.1334 - accuracy: 0.9574 - val_loss: 0.9683 - val_accuracy: 0.8130\n"
          ]
        }
      ]
    },
    {
      "cell_type": "markdown",
      "source": [
        "## Listing 4.19 Plotting the training and validation loss"
      ],
      "metadata": {
        "id": "JjYeOxtTOUc1"
      }
    },
    {
      "cell_type": "code",
      "source": [
        "loss = history.history[\"loss\"]\n",
        "val_loss = history.history[\"val_loss\"]\n",
        "epochs = range(1, len(loss) + 1)\n",
        "plt.plot(epochs, loss, \"bo\", label=\"Training loss\")\n",
        "plt.plot(epochs, val_loss, \"b\", label=\"Validation loss\")\n",
        "plt.title(\"Training and validation loss\")\n",
        "plt.xlabel(\"Epochs\")\n",
        "plt.ylabel(\"Loss\")\n",
        "plt.legend()\n",
        "plt.show()"
      ],
      "metadata": {
        "colab": {
          "base_uri": "https://localhost:8080/",
          "height": 472
        },
        "id": "-3oJCCkNOW3Q",
        "outputId": "fff60b3c-2f5c-492b-b243-bf67a7b275fa"
      },
      "execution_count": 23,
      "outputs": [
        {
          "output_type": "display_data",
          "data": {
            "text/plain": [
              "<Figure size 640x480 with 1 Axes>"
            ],
            "image/png": "[encoded data removed]"
          },
          "metadata": {}
        }
      ]
    },
    {
      "cell_type": "markdown",
      "source": [
        "## Listing 4.20 Plotting the training and validation accuracy"
      ],
      "metadata": {
        "id": "g8Yiyvb8O1zz"
      }
    },
    {
      "cell_type": "code",
      "source": [
        "plt.clf()\n",
        "acc = history.history[\"accuracy\"]\n",
        "val_acc = history.history[\"val_accuracy\"]\n",
        "plt.plot(epochs, acc, \"bo\", label=\"Training accuracy\")\n",
        "plt.plot(epochs, val_acc, \"b\", label=\"Validation accuracy\")\n",
        "plt.title(\"Training and validation accuracy\")\n",
        "plt.xlabel(\"Epochs\")\n",
        "plt.ylabel(\"Accuracy\")\n",
        "plt.legend()\n",
        "plt.show()"
      ],
      "metadata": {
        "colab": {
          "base_uri": "https://localhost:8080/",
          "height": 472
        },
        "id": "C3I0M04vO5NS",
        "outputId": "454d4354-1530-4c0e-81e4-c71d997b31e1"
      },
      "execution_count": 25,
      "outputs": [
        {
          "output_type": "display_data",
          "data": {
            "text/plain": [
              "<Figure size 640x480 with 1 Axes>"
            ],
            "image/png": "[encoded data removed]"
          },
          "metadata": {}
        }
      ]
    },
    {
      "cell_type": "markdown",
      "source": [
        "## Listing 4.21 Retraining a model from scratch"
      ],
      "metadata": {
        "id": "pjY3wvyUPYs-"
      }
    },
    {
      "cell_type": "code",
      "source": [
        "model = keras.Sequential([\n",
        "    layers.Dense(64, activation=\"relu\"),\n",
        "    layers.Dense(64, activation=\"relu\"),\n",
        "    layers.Dense(46, activation=\"softmax\")\n",
        "])\n",
        "model.compile(optimizer=\"rmsprop\",\n",
        "              loss=\"categorical_crossentropy\",\n",
        "              metrics=[\"accuracy\"])\n",
        "model.fit(x_train,\n",
        "          y_train,\n",
        "          epochs=9,\n",
        "          batch_size=512)\n",
        "results = model.evaluate(x_test, y_test)\n",
        "print(results)"
      ],
      "metadata": {
        "colab": {
          "base_uri": "https://localhost:8080/"
        },
        "id": "c5gvG1HgPcFm",
        "outputId": "f0f72b0e-19f5-495c-d1dc-5f002df7a220"
      },
      "execution_count": 26,
      "outputs": [
        {
          "output_type": "stream",
          "name": "stdout",
          "text": [
            "Epoch 1/9\n",
            "18/18 [==============================] - 1s 14ms/step - loss: 2.7168 - accuracy: 0.4939\n",
            "Epoch 2/9\n",
            "18/18 [==============================] - 0s 14ms/step - loss: 1.5313 - accuracy: 0.6799\n",
            "Epoch 3/9\n",
            "18/18 [==============================] - 0s 14ms/step - loss: 1.1551 - accuracy: 0.7543\n",
            "Epoch 4/9\n",
            "18/18 [==============================] - 0s 13ms/step - loss: 0.9302 - accuracy: 0.8016\n",
            "Epoch 5/9\n",
            "18/18 [==============================] - 0s 14ms/step - loss: 0.7613 - accuracy: 0.8382\n",
            "Epoch 6/9\n",
            "18/18 [==============================] - 0s 14ms/step - loss: 0.6320 - accuracy: 0.8672\n",
            "Epoch 7/9\n",
            "18/18 [==============================] - 0s 14ms/step - loss: 0.5329 - accuracy: 0.8906\n",
            "Epoch 8/9\n",
            "18/18 [==============================] - 0s 14ms/step - loss: 0.4501 - accuracy: 0.9074\n",
            "Epoch 9/9\n",
            "18/18 [==============================] - 0s 13ms/step - loss: 0.3807 - accuracy: 0.9187\n",
            "71/71 [==============================] - 0s 3ms/step - loss: 0.9065 - accuracy: 0.7996\n",
            "[0.9064648151397705, 0.7996438145637512]\n"
          ]
        }
      ]
    },
    {
      "cell_type": "code",
      "source": [
        "import copy\n",
        "test_labels_copy = copy.copy(test_labels)\n",
        "np.random.shuffle(test_labels_copy)\n",
        "hits_array = np.array(test_labels) == np.array(test_labels_copy)\n",
        "print(hits_array.mean())"
      ],
      "metadata": {
        "colab": {
          "base_uri": "https://localhost:8080/"
        },
        "id": "fVYgJeuLP_GA",
        "outputId": "d0877492-56a3-4526-a644-50cb9b4f6c82"
      },
      "execution_count": 27,
      "outputs": [
        {
          "output_type": "stream",
          "name": "stdout",
          "text": [
            "0.1923419412288513\n"
          ]
        }
      ]
    },
    {
      "cell_type": "code",
      "source": [
        "predictions = model.predict(x_test)\n",
        "print(predictions[0].shape)"
      ],
      "metadata": {
        "colab": {
          "base_uri": "https://localhost:8080/"
        },
        "id": "kHDumIP-QWKo",
        "outputId": "337a2f43-912e-4f31-d7e6-e34171ae19e0"
      },
      "execution_count": 28,
      "outputs": [
        {
          "output_type": "stream",
          "name": "stdout",
          "text": [
            "71/71 [==============================] - 0s 3ms/step\n",
            "(46,)\n"
          ]
        }
      ]
    },
    {
      "cell_type": "code",
      "source": [
        "print(np.sum(predictions[0]))"
      ],
      "metadata": {
        "colab": {
          "base_uri": "https://localhost:8080/"
        },
        "id": "8nezglPVQjW6",
        "outputId": "62509fd8-4a66-4372-ab51-f78bdffbd23b"
      },
      "execution_count": 29,
      "outputs": [
        {
          "output_type": "stream",
          "name": "stdout",
          "text": [
            "0.99999994\n"
          ]
        }
      ]
    },
    {
      "cell_type": "code",
      "source": [
        "print(np.argmax(predictions[0]))"
      ],
      "metadata": {
        "colab": {
          "base_uri": "https://localhost:8080/"
        },
        "id": "r-k3IzXEQm8J",
        "outputId": "ed60f894-4e5b-49c4-e869-7ee87350c8b6"
      },
      "execution_count": 30,
      "outputs": [
        {
          "output_type": "stream",
          "name": "stdout",
          "text": [
            "3\n"
          ]
        }
      ]
    },
    {
      "cell_type": "code",
      "source": [
        "# different way to handle labels and loss: cast them to integer tensor\n",
        "y_train = np.array(train_labels)\n",
        "y_test = np.array(test_labels)"
      ],
      "metadata": {
        "id": "XcrWVzqDQsTv"
      },
      "execution_count": 31,
      "outputs": []
    },
    {
      "cell_type": "code",
      "source": [
        "model.compile(optimizer=\"rmsprop\",\n",
        "              loss=\"sparse_categorical_crossentropy\",\n",
        "              metrics=[\"accuracy\"])"
      ],
      "metadata": {
        "id": "xDWIXLtaQ1_2"
      },
      "execution_count": 32,
      "outputs": []
    },
    {
      "cell_type": "markdown",
      "source": [
        "## Listing 4.22 A model with an information bottleneck"
      ],
      "metadata": {
        "id": "-Q5BDhlpRQHu"
      }
    },
    {
      "cell_type": "code",
      "source": [
        "model = keras.Sequential([\n",
        "    layers.Dense(64, activation=\"relu\"),\n",
        "    layers.Dense(4, activation=\"relu\"),\n",
        "    layers.Dense(46, activation=\"softmax\")\n",
        "])\n",
        "model.compile(optimizer=\"rmsprop\",\n",
        "              loss=\"categorical_crossentropy\",\n",
        "              metrics=[\"accuracy\"])\n",
        "model.fit(partial_x_train,\n",
        "          partial_y_train,\n",
        "          epochs=20,\n",
        "          batch_size=128,\n",
        "          validation_data=(x_val, y_val))"
      ],
      "metadata": {
        "colab": {
          "base_uri": "https://localhost:8080/"
        },
        "id": "P8ryYS6aRTRu",
        "outputId": "7e4d2eb1-73f6-41c8-ba72-1e1019fd7b7a"
      },
      "execution_count": 33,
      "outputs": [
        {
          "output_type": "stream",
          "name": "stdout",
          "text": [
            "Epoch 1/20\n",
            "63/63 [==============================] - 2s 11ms/step - loss: 2.8219 - accuracy: 0.5106 - val_loss: 2.0959 - val_accuracy: 0.5690\n",
            "Epoch 2/20\n",
            "63/63 [==============================] - 0s 7ms/step - loss: 1.7821 - accuracy: 0.5854 - val_loss: 1.6959 - val_accuracy: 0.5850\n",
            "Epoch 3/20\n",
            "63/63 [==============================] - 0s 6ms/step - loss: 1.5018 - accuracy: 0.5998 - val_loss: 1.5524 - val_accuracy: 0.6020\n",
            "Epoch 4/20\n",
            "63/63 [==============================] - 0s 7ms/step - loss: 1.3661 - accuracy: 0.6465 - val_loss: 1.4865 - val_accuracy: 0.6270\n",
            "Epoch 5/20\n",
            "63/63 [==============================] - 0s 6ms/step - loss: 1.2733 - accuracy: 0.6599 - val_loss: 1.4553 - val_accuracy: 0.6320\n",
            "Epoch 6/20\n",
            "63/63 [==============================] - 0s 7ms/step - loss: 1.1946 - accuracy: 0.6671 - val_loss: 1.4254 - val_accuracy: 0.6330\n",
            "Epoch 7/20\n",
            "63/63 [==============================] - 1s 9ms/step - loss: 1.1291 - accuracy: 0.6828 - val_loss: 1.4067 - val_accuracy: 0.6370\n",
            "Epoch 8/20\n",
            "63/63 [==============================] - 1s 9ms/step - loss: 1.0520 - accuracy: 0.7186 - val_loss: 1.4120 - val_accuracy: 0.6630\n",
            "Epoch 9/20\n",
            "63/63 [==============================] - 1s 10ms/step - loss: 0.9657 - accuracy: 0.7462 - val_loss: 1.3631 - val_accuracy: 0.6870\n",
            "Epoch 10/20\n",
            "63/63 [==============================] - 1s 9ms/step - loss: 0.8987 - accuracy: 0.7652 - val_loss: 1.3538 - val_accuracy: 0.6940\n",
            "Epoch 11/20\n",
            "63/63 [==============================] - 1s 9ms/step - loss: 0.8409 - accuracy: 0.7742 - val_loss: 1.3536 - val_accuracy: 0.6950\n",
            "Epoch 12/20\n",
            "63/63 [==============================] - 0s 6ms/step - loss: 0.7902 - accuracy: 0.7834 - val_loss: 1.3679 - val_accuracy: 0.7050\n",
            "Epoch 13/20\n",
            "63/63 [==============================] - 0s 6ms/step - loss: 0.7473 - accuracy: 0.7904 - val_loss: 1.4074 - val_accuracy: 0.6890\n",
            "Epoch 14/20\n",
            "63/63 [==============================] - 0s 7ms/step - loss: 0.7106 - accuracy: 0.7977 - val_loss: 1.4193 - val_accuracy: 0.7010\n",
            "Epoch 15/20\n",
            "63/63 [==============================] - 0s 7ms/step - loss: 0.6747 - accuracy: 0.8047 - val_loss: 1.4258 - val_accuracy: 0.7070\n",
            "Epoch 16/20\n",
            "63/63 [==============================] - 0s 7ms/step - loss: 0.6436 - accuracy: 0.8152 - val_loss: 1.4723 - val_accuracy: 0.7130\n",
            "Epoch 17/20\n",
            "63/63 [==============================] - 0s 6ms/step - loss: 0.6129 - accuracy: 0.8274 - val_loss: 1.4714 - val_accuracy: 0.7130\n",
            "Epoch 18/20\n",
            "63/63 [==============================] - 0s 7ms/step - loss: 0.5849 - accuracy: 0.8391 - val_loss: 1.5645 - val_accuracy: 0.7150\n",
            "Epoch 19/20\n",
            "63/63 [==============================] - 0s 7ms/step - loss: 0.5601 - accuracy: 0.8495 - val_loss: 1.5705 - val_accuracy: 0.7160\n",
            "Epoch 20/20\n",
            "63/63 [==============================] - 0s 6ms/step - loss: 0.5375 - accuracy: 0.8572 - val_loss: 1.5957 - val_accuracy: 0.7150\n"
          ]
        },
        {
          "output_type": "execute_result",
          "data": {
            "text/plain": [
              "<keras.src.callbacks.History at 0x7cd49416f070>"
            ]
          },
          "metadata": {},
          "execution_count": 33
        }
      ]
    },
    {
      "cell_type": "markdown",
      "source": [
        "## Listing 4.23 Loading the Boston housing dataset"
      ],
      "metadata": {
        "id": "daA63O65S0oQ"
      }
    },
    {
      "cell_type": "code",
      "source": [
        "from tensorflow.keras.datasets import boston_housing\n",
        "(train_data, train_targets), (test_data, test_targets) = boston_housing.load_data()"
      ],
      "metadata": {
        "colab": {
          "base_uri": "https://localhost:8080/"
        },
        "id": "tdWxtIp9S4j0",
        "outputId": "59edc820-02c1-45cc-9b86-ff3e035a8f07"
      },
      "execution_count": 34,
      "outputs": [
        {
          "output_type": "stream",
          "name": "stdout",
          "text": [
            "Downloading data from https://storage.googleapis.com/tensorflow/tf-keras-datasets/boston_housing.npz\n",
            "57026/57026 [==============================] - 0s 0us/step\n"
          ]
        }
      ]
    },
    {
      "cell_type": "code",
      "source": [
        "print(train_data.shape)"
      ],
      "metadata": {
        "colab": {
          "base_uri": "https://localhost:8080/"
        },
        "id": "Vj1IpAUYVbGy",
        "outputId": "6b25e8c2-287d-49b4-c6a3-9171588129a6"
      },
      "execution_count": 35,
      "outputs": [
        {
          "output_type": "stream",
          "name": "stdout",
          "text": [
            "(404, 13)\n"
          ]
        }
      ]
    },
    {
      "cell_type": "code",
      "source": [
        "print(test_data.shape)"
      ],
      "metadata": {
        "colab": {
          "base_uri": "https://localhost:8080/"
        },
        "id": "wPldVfLdVd7E",
        "outputId": "66562dcf-4134-415b-c2f4-d36b728c53a5"
      },
      "execution_count": 36,
      "outputs": [
        {
          "output_type": "stream",
          "name": "stdout",
          "text": [
            "(102, 13)\n"
          ]
        }
      ]
    },
    {
      "cell_type": "code",
      "source": [
        "print(train_targets)"
      ],
      "metadata": {
        "colab": {
          "base_uri": "https://localhost:8080/"
        },
        "id": "jek23M9EVfge",
        "outputId": "82b0b31d-7b28-4531-d806-d3e9310fda8f"
      },
      "execution_count": 37,
      "outputs": [
        {
          "output_type": "stream",
          "name": "stdout",
          "text": [
            "[15.2 42.3 50.  21.1 17.7 18.5 11.3 15.6 15.6 14.4 12.1 17.9 23.1 19.9\n",
            " 15.7  8.8 50.  22.5 24.1 27.5 10.9 30.8 32.9 24.  18.5 13.3 22.9 34.7\n",
            " 16.6 17.5 22.3 16.1 14.9 23.1 34.9 25.  13.9 13.1 20.4 20.  15.2 24.7\n",
            " 22.2 16.7 12.7 15.6 18.4 21.  30.1 15.1 18.7  9.6 31.5 24.8 19.1 22.\n",
            " 14.5 11.  32.  29.4 20.3 24.4 14.6 19.5 14.1 14.3 15.6 10.5  6.3 19.3\n",
            " 19.3 13.4 36.4 17.8 13.5 16.5  8.3 14.3 16.  13.4 28.6 43.5 20.2 22.\n",
            " 23.  20.7 12.5 48.5 14.6 13.4 23.7 50.  21.7 39.8 38.7 22.2 34.9 22.5\n",
            " 31.1 28.7 46.  41.7 21.  26.6 15.  24.4 13.3 21.2 11.7 21.7 19.4 50.\n",
            " 22.8 19.7 24.7 36.2 14.2 18.9 18.3 20.6 24.6 18.2  8.7 44.  10.4 13.2\n",
            " 21.2 37.  30.7 22.9 20.  19.3 31.7 32.  23.1 18.8 10.9 50.  19.6  5.\n",
            " 14.4 19.8 13.8 19.6 23.9 24.5 25.  19.9 17.2 24.6 13.5 26.6 21.4 11.9\n",
            " 22.6 19.6  8.5 23.7 23.1 22.4 20.5 23.6 18.4 35.2 23.1 27.9 20.6 23.7\n",
            " 28.  13.6 27.1 23.6 20.6 18.2 21.7 17.1  8.4 25.3 13.8 22.2 18.4 20.7\n",
            " 31.6 30.5 20.3  8.8 19.2 19.4 23.1 23.  14.8 48.8 22.6 33.4 21.1 13.6\n",
            " 32.2 13.1 23.4 18.9 23.9 11.8 23.3 22.8 19.6 16.7 13.4 22.2 20.4 21.8\n",
            " 26.4 14.9 24.1 23.8 12.3 29.1 21.  19.5 23.3 23.8 17.8 11.5 21.7 19.9\n",
            " 25.  33.4 28.5 21.4 24.3 27.5 33.1 16.2 23.3 48.3 22.9 22.8 13.1 12.7\n",
            " 22.6 15.  15.3 10.5 24.  18.5 21.7 19.5 33.2 23.2  5.  19.1 12.7 22.3\n",
            " 10.2 13.9 16.3 17.  20.1 29.9 17.2 37.3 45.4 17.8 23.2 29.  22.  18.\n",
            " 17.4 34.6 20.1 25.  15.6 24.8 28.2 21.2 21.4 23.8 31.  26.2 17.4 37.9\n",
            " 17.5 20.   8.3 23.9  8.4 13.8  7.2 11.7 17.1 21.6 50.  16.1 20.4 20.6\n",
            " 21.4 20.6 36.5  8.5 24.8 10.8 21.9 17.3 18.9 36.2 14.9 18.2 33.3 21.8\n",
            " 19.7 31.6 24.8 19.4 22.8  7.5 44.8 16.8 18.7 50.  50.  19.5 20.1 50.\n",
            " 17.2 20.8 19.3 41.3 20.4 20.5 13.8 16.5 23.9 20.6 31.5 23.3 16.8 14.\n",
            " 33.8 36.1 12.8 18.3 18.7 19.1 29.  30.1 50.  50.  22.  11.9 37.6 50.\n",
            " 22.7 20.8 23.5 27.9 50.  19.3 23.9 22.6 15.2 21.7 19.2 43.8 20.3 33.2\n",
            " 19.9 22.5 32.7 22.  17.1 19.  15.  16.1 25.1 23.7 28.7 37.2 22.6 16.4\n",
            " 25.  29.8 22.1 17.4 18.1 30.3 17.5 24.7 12.6 26.5 28.7 13.3 10.4 24.4\n",
            " 23.  20.  17.8  7.  11.8 24.4 13.8 19.4 25.2 19.4 19.4 29.1]\n"
          ]
        }
      ]
    },
    {
      "cell_type": "markdown",
      "source": [
        "## Listing 4.24 Normalizing the data"
      ],
      "metadata": {
        "id": "J6_bPvZtWIYr"
      }
    },
    {
      "cell_type": "code",
      "source": [
        "mean = train_data.mean(axis=0)\n",
        "train_data -= mean\n",
        "std = train_data.std(axis=0)\n",
        "train_data /= std\n",
        "test_data -= mean\n",
        "test_data /= std"
      ],
      "metadata": {
        "id": "r82faZ5ZWLei"
      },
      "execution_count": 38,
      "outputs": []
    },
    {
      "cell_type": "code",
      "source": [
        "print(test_data)"
      ],
      "metadata": {
        "colab": {
          "base_uri": "https://localhost:8080/"
        },
        "id": "64E6nyLsWvHQ",
        "outputId": "ea45e6d9-bc89-4212-8a03-54c0165b0bb3"
      },
      "execution_count": 39,
      "outputs": [
        {
          "output_type": "stream",
          "name": "stdout",
          "text": [
            "[[ 1.55369355 -0.48361547  1.0283258  ...  0.78447637 -3.48459553\n",
            "   2.25092074]\n",
            " [-0.39242675 -0.48361547 -0.16087773 ... -0.30759583  0.42733126\n",
            "   0.47880119]\n",
            " [-0.39982927 -0.48361547 -0.86940196 ...  0.78447637  0.44807713\n",
            "  -0.41415936]\n",
            " ...\n",
            " [-0.20709507 -0.48361547  1.24588095 ... -1.71818909  0.37051949\n",
            "  -1.49344089]\n",
            " [-0.36698601 -0.48361547 -0.72093526 ... -0.48960787  0.39275481\n",
            "  -0.41829982]\n",
            " [-0.0889679  -0.48361547  1.24588095 ... -1.71818909 -1.21946544\n",
            "  -0.40449827]]\n"
          ]
        }
      ]
    },
    {
      "cell_type": "markdown",
      "source": [
        "## Listing 4.25 Model Definition"
      ],
      "metadata": {
        "id": "lT3PIFBPW6-D"
      }
    },
    {
      "cell_type": "code",
      "source": [
        "def build_model():\n",
        "  model = keras.Sequential([\n",
        "      layers.Dense(64, activation=\"relu\"),\n",
        "      layers.Dense(64, activation=\"relu\"),\n",
        "      layers.Dense(1)\n",
        "  ])\n",
        "  model.compile(optimizer=\"rmsprop\", loss=\"mse\", metrics=[\"mae\"])\n",
        "  return model\n"
      ],
      "metadata": {
        "id": "z62NTyquWzpM"
      },
      "execution_count": 42,
      "outputs": []
    },
    {
      "cell_type": "markdown",
      "source": [
        "## Listing K-fold validation"
      ],
      "metadata": {
        "id": "hJgzWayIXk7w"
      }
    },
    {
      "cell_type": "code",
      "source": [
        "k = 4\n",
        "num_val_samples = len(train_data) // k\n",
        "num_epochs = 100\n",
        "all_scores = []\n",
        "for i in range(k):\n",
        "  print(f\"Processing fold #{i}\")\n",
        "  val_data = train_data[i * num_val_samples: (i + 1) * num_val_samples]\n",
        "  val_targets = train_targets[i * num_val_samples: (i + 1) * num_val_samples]\n",
        "  partial_train_data = np.concatenate(\n",
        "      [train_data[:i * num_val_samples],\n",
        "       train_data[(i + 1) * num_val_samples:]],\n",
        "      axis=0)\n",
        "  partial_train_targets = np.concatenate(\n",
        "      [train_targets[:i * num_val_samples],\n",
        "       train_targets[(i + 1) * num_val_samples:]],\n",
        "      axis=0)\n",
        "  model = build_model()\n",
        "  model.fit(partial_train_data, partial_train_targets,\n",
        "            epochs=num_epochs, batch_size=16, verbose=0)\n",
        "  val_mse, val_mae = model.evaluate(val_data, val_targets, verbose=0)\n",
        "  all_scores.append(val_mae)\n"
      ],
      "metadata": {
        "colab": {
          "base_uri": "https://localhost:8080/"
        },
        "id": "z6GCp13GXckW",
        "outputId": "f795a435-d4de-4355-a43d-7ef21cf2ac43"
      },
      "execution_count": 43,
      "outputs": [
        {
          "output_type": "stream",
          "name": "stdout",
          "text": [
            "Processing fold #0\n",
            "Processing fold #1\n",
            "Processing fold #2\n",
            "Processing fold #3\n"
          ]
        }
      ]
    },
    {
      "cell_type": "code",
      "source": [
        "print(all_scores)"
      ],
      "metadata": {
        "colab": {
          "base_uri": "https://localhost:8080/"
        },
        "id": "3MQkQ98wdF5l",
        "outputId": "c94bf980-6785-4d2f-ae49-27771f2ba0ea"
      },
      "execution_count": 44,
      "outputs": [
        {
          "output_type": "stream",
          "name": "stdout",
          "text": [
            "[2.0025887489318848, 2.4383976459503174, 2.5118489265441895, 2.4299283027648926]\n"
          ]
        }
      ]
    },
    {
      "cell_type": "code",
      "source": [
        "print(np.mean(all_scores))"
      ],
      "metadata": {
        "colab": {
          "base_uri": "https://localhost:8080/"
        },
        "id": "vwlkiEnNdcV7",
        "outputId": "4b16e9cf-7c3d-4a7f-8e4e-c782873a54c5"
      },
      "execution_count": 45,
      "outputs": [
        {
          "output_type": "stream",
          "name": "stdout",
          "text": [
            "2.345690906047821\n"
          ]
        }
      ]
    },
    {
      "cell_type": "markdown",
      "source": [
        "## Listing 4.27 Saving the validation logs at each fold"
      ],
      "metadata": {
        "id": "tDWSAl7Qdia7"
      }
    },
    {
      "cell_type": "code",
      "source": [
        "num_epochs = 500\n",
        "all_mae_histories = []\n",
        "for i in range(k):\n",
        "  print(f\"Processing fold #{i}\")\n",
        "  val_data = train_data[i * num_val_samples: (i + 1) * num_val_samples]\n",
        "  val_targets = train_targets[i * num_val_samples: (i + 1) * num_val_samples]\n",
        "  partial_train_data = np.concatenate(\n",
        "      [train_data[:i * num_val_samples],\n",
        "       train_data[(i + 1) * num_val_samples:]],\n",
        "      axis=0)\n",
        "  partial_train_targets = np.concatenate(\n",
        "      [train_targets[:i * num_val_samples],\n",
        "       train_targets[(i + 1) * num_val_samples:]],\n",
        "      axis=0)\n",
        "  model = build_model()\n",
        "  history = model.fit(partial_train_data, partial_train_targets,\n",
        "                      validation_data=(val_data, val_targets),\n",
        "                      epochs=num_epochs, batch_size=16, verbose=0)\n",
        "  mae_history = history.history[\"val_mae\"]\n",
        "  all_mae_histories.append(mae_history)\n",
        "\n"
      ],
      "metadata": {
        "colab": {
          "base_uri": "https://localhost:8080/"
        },
        "id": "COrOdz7xdhAS",
        "outputId": "e3aa593e-8a40-43f5-cf81-f68fb3584e8e"
      },
      "execution_count": 46,
      "outputs": [
        {
          "output_type": "stream",
          "name": "stdout",
          "text": [
            "Processing fold #0\n",
            "Processing fold #1\n",
            "Processing fold #2\n",
            "Processing fold #3\n"
          ]
        }
      ]
    },
    {
      "cell_type": "markdown",
      "source": [
        "## Listing 4.28 Building the history of successive mean K-fold validation scores"
      ],
      "metadata": {
        "id": "l17OlTzefMKG"
      }
    },
    {
      "cell_type": "code",
      "source": [
        "average_mae_history = [np.mean([x[i] for x in all_mae_histories]) for i in range(num_epochs)]"
      ],
      "metadata": {
        "id": "ZJ0fm5wYeuAr"
      },
      "execution_count": 48,
      "outputs": []
    },
    {
      "cell_type": "markdown",
      "source": [
        "## Listing 4.29 Plotting validation scores"
      ],
      "metadata": {
        "id": "-1bo9PqXf_Vw"
      }
    },
    {
      "cell_type": "code",
      "source": [
        "plt.plot(range(1, len(average_mae_history) +1), average_mae_history)\n",
        "plt.xlabel(\"Epochs\")\n",
        "plt.ylabel(\"Validation MAE\")\n",
        "plt.show()"
      ],
      "metadata": {
        "colab": {
          "base_uri": "https://localhost:8080/",
          "height": 449
        },
        "id": "BFa1GQh9f8Av",
        "outputId": "1589812b-d258-44aa-db3c-c27596418397"
      },
      "execution_count": 49,
      "outputs": [
        {
          "output_type": "display_data",
          "data": {
            "text/plain": [
              "<Figure size 640x480 with 1 Axes>"
            ],
            "image/png": "[encoded data removed]"
          },
          "metadata": {}
        }
      ]
    },
    {
      "cell_type": "markdown",
      "source": [
        "## Listing 4.30 Plotting validation scores, excluding the first 10 data points"
      ],
      "metadata": {
        "id": "IHmCF85QgTzU"
      }
    },
    {
      "cell_type": "code",
      "source": [
        "truncated_mae_history = average_mae_history[10:]\n",
        "plt.plot(range(1, len(truncated_mae_history) + 1), truncated_mae_history)\n",
        "plt.xlabel(\"Epochs\")\n",
        "plt.ylabel(\"Validation MAE\")\n",
        "plt.show()"
      ],
      "metadata": {
        "colab": {
          "base_uri": "https://localhost:8080/",
          "height": 449
        },
        "id": "ouhIwMx6gP9M",
        "outputId": "f68338ae-8c95-4362-f3c3-40a322c23c8a"
      },
      "execution_count": 51,
      "outputs": [
        {
          "output_type": "display_data",
          "data": {
            "text/plain": [
              "<Figure size 640x480 with 1 Axes>"
            ],
            "image/png": "[encoded data removed]"
          },
          "metadata": {}
        }
      ]
    },
    {
      "cell_type": "markdown",
      "source": [
        "## Listing 4.31 Training the final model"
      ],
      "metadata": {
        "id": "dkzSssGqguVv"
      }
    },
    {
      "cell_type": "code",
      "source": [
        "model = build_model()\n",
        "model.fit(train_data, train_targets,\n",
        "          epochs=130, batch_size=16, verbose=0)\n",
        "test_mse_score, test_mae_score = model.evaluate(test_data, test_targets)"
      ],
      "metadata": {
        "colab": {
          "base_uri": "https://localhost:8080/"
        },
        "id": "8TV7pdq2gjLT",
        "outputId": "3515d682-fc38-4814-f50f-867d9f2c694a"
      },
      "execution_count": 52,
      "outputs": [
        {
          "output_type": "stream",
          "name": "stdout",
          "text": [
            "4/4 [==============================] - 0s 5ms/step - loss: 16.3931 - mae: 2.5309\n"
          ]
        }
      ]
    },
    {
      "cell_type": "code",
      "source": [
        "print(test_mae_score)"
      ],
      "metadata": {
        "colab": {
          "base_uri": "https://localhost:8080/"
        },
        "id": "JU4smULWg9Nm",
        "outputId": "70a66180-9a41-49c8-f38a-2931ea2d8e82"
      },
      "execution_count": 53,
      "outputs": [
        {
          "output_type": "stream",
          "name": "stdout",
          "text": [
            "2.530907154083252\n"
          ]
        }
      ]
    },
    {
      "cell_type": "code",
      "source": [
        "predictions = model.predict(test_data)\n",
        "print(predictions[0])"
      ],
      "metadata": {
        "colab": {
          "base_uri": "https://localhost:8080/"
        },
        "id": "wLbM5wibhQrz",
        "outputId": "028f284b-fd12-43a0-ae76-08ec526550de"
      },
      "execution_count": 54,
      "outputs": [
        {
          "output_type": "stream",
          "name": "stdout",
          "text": [
            "4/4 [==============================] - 0s 2ms/step\n",
            "[7.882922]\n"
          ]
        }
      ]
    },
    {
      "cell_type": "code",
      "source": [],
      "metadata": {
        "id": "1v3APqXthxh3"
      },
      "execution_count": null,
      "outputs": []
    }
  ]
}