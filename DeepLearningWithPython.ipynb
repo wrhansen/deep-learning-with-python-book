{
  "cells": [
    {
      "cell_type": "markdown",
      "metadata": {
        "id": "ZhQwoddX-4Me"
      },
      "source": [
        "# Chapter 3"
      ]
    },
    {
      "cell_type": "code",
      "execution_count": null,
      "metadata": {
        "colab": {
          "base_uri": "https://localhost:8080/"
        },
        "id": "zH6rOaRJ3eOW",
        "outputId": "bf248209-2a90-443e-c893-8759e11aa500"
      },
      "outputs": [
        {
          "data": {
            "text/plain": [
              "[2, 3, 5]"
            ]
          },
          "execution_count": 1,
          "metadata": {},
          "output_type": "execute_result"
        }
      ],
      "source": [
        "my_list = [3, 2, 5]\n",
        "sorted(my_list)"
      ]
    },
    {
      "cell_type": "markdown",
      "metadata": {
        "id": "lVFn0S5j4ThG"
      },
      "source": [
        "## Listing 3.1 All-ones or all-zeros tensors"
      ]
    },
    {
      "cell_type": "code",
      "execution_count": null,
      "metadata": {
        "colab": {
          "base_uri": "https://localhost:8080/"
        },
        "id": "N9u8W5Cf4XlV",
        "outputId": "b6c116a0-d062-4a8a-d93b-edacb454a3e7"
      },
      "outputs": [
        {
          "name": "stdout",
          "output_type": "stream",
          "text": [
            "tf.Tensor(\n",
            "[[1.]\n",
            " [1.]], shape=(2, 1), dtype=float32)\n",
            "tf.Tensor(\n",
            "[[0.]\n",
            " [0.]], shape=(2, 1), dtype=float32)\n"
          ]
        }
      ],
      "source": [
        "import tensorflow as tf\n",
        "x = tf.ones(shape=(2,1))\n",
        "print(x)\n",
        "\n",
        "x = tf.zeros(shape=(2,1))\n",
        "print(x)"
      ]
    },
    {
      "cell_type": "markdown",
      "metadata": {
        "id": "f_uemRz-6eV0"
      },
      "source": [
        "## Listing 3.2 Random Tensors"
      ]
    },
    {
      "cell_type": "code",
      "execution_count": null,
      "metadata": {
        "colab": {
          "base_uri": "https://localhost:8080/"
        },
        "id": "3A3DuWAV6lCf",
        "outputId": "58c38614-f9ec-4847-85ff-a2043a8bbe41"
      },
      "outputs": [
        {
          "name": "stdout",
          "output_type": "stream",
          "text": [
            "tf.Tensor(\n",
            "[[-0.3897554 ]\n",
            " [-1.8581074 ]\n",
            " [-0.13673945]], shape=(3, 1), dtype=float32)\n",
            "tf.Tensor(\n",
            "[[0.01080263]\n",
            " [0.42258883]\n",
            " [0.39823747]], shape=(3, 1), dtype=float32)\n"
          ]
        }
      ],
      "source": [
        "x = tf.random.normal(shape=(3, 1), mean=0., stddev=1.)\n",
        "print(x)\n",
        "x = tf.random.uniform(shape=(3, 1), minval=0., maxval=1.)\n",
        "print(x)"
      ]
    },
    {
      "cell_type": "markdown",
      "metadata": {
        "id": "RerJaWjH7OJ6"
      },
      "source": [
        "## Listing 3.3 NumPy arrays are assignable"
      ]
    },
    {
      "cell_type": "code",
      "execution_count": null,
      "metadata": {
        "id": "tAUpTrL57mM6"
      },
      "outputs": [],
      "source": [
        "import numpy as np\n",
        "x = np.ones(shape=(2,2))\n",
        "x[0,0] = 0."
      ]
    },
    {
      "cell_type": "markdown",
      "metadata": {
        "id": "Oo2NYnXR7_hR"
      },
      "source": [
        "## Listing 3.4 TensorFlow tensors are not assignable"
      ]
    },
    {
      "cell_type": "code",
      "execution_count": null,
      "metadata": {
        "colab": {
          "base_uri": "https://localhost:8080/",
          "height": 194
        },
        "id": "aaAXNP_-8JB0",
        "outputId": "34dc1448-ef84-42c8-c59e-adea8a9b332b"
      },
      "outputs": [
        {
          "ename": "TypeError",
          "evalue": "'tensorflow.python.framework.ops.EagerTensor' object does not support item assignment",
          "output_type": "error",
          "traceback": [
            "\u001b[0;31m---------------------------------------------------------------------------\u001b[0m",
            "\u001b[0;31mTypeError\u001b[0m                                 Traceback (most recent call last)",
            "\u001b[0;32m<ipython-input-5-20ab0b3cb2fc>\u001b[0m in \u001b[0;36m<cell line: 2>\u001b[0;34m()\u001b[0m\n\u001b[1;32m      1\u001b[0m \u001b[0mx\u001b[0m \u001b[0;34m=\u001b[0m \u001b[0mtf\u001b[0m\u001b[0;34m.\u001b[0m\u001b[0mones\u001b[0m\u001b[0;34m(\u001b[0m\u001b[0mshape\u001b[0m\u001b[0;34m=\u001b[0m\u001b[0;34m(\u001b[0m\u001b[0;36m2\u001b[0m\u001b[0;34m,\u001b[0m \u001b[0;36m2\u001b[0m\u001b[0;34m)\u001b[0m\u001b[0;34m)\u001b[0m\u001b[0;34m\u001b[0m\u001b[0;34m\u001b[0m\u001b[0m\n\u001b[0;32m----> 2\u001b[0;31m \u001b[0mx\u001b[0m\u001b[0;34m[\u001b[0m\u001b[0;36m0\u001b[0m\u001b[0;34m,\u001b[0m\u001b[0;36m0\u001b[0m\u001b[0;34m]\u001b[0m \u001b[0;34m=\u001b[0m \u001b[0;36m0.\u001b[0m\u001b[0;34m\u001b[0m\u001b[0;34m\u001b[0m\u001b[0m\n\u001b[0m",
            "\u001b[0;31mTypeError\u001b[0m: 'tensorflow.python.framework.ops.EagerTensor' object does not support item assignment"
          ]
        }
      ],
      "source": [
        "x = tf.ones(shape=(2, 2))\n",
        "x[0,0] = 0."
      ]
    },
    {
      "cell_type": "markdown",
      "metadata": {
        "id": "bS_yylf18WPp"
      },
      "source": [
        "## Listing 3.5 Creating a TensorFlow variable"
      ]
    },
    {
      "cell_type": "code",
      "execution_count": null,
      "metadata": {
        "colab": {
          "base_uri": "https://localhost:8080/"
        },
        "id": "SFH2Qn2x8bkW",
        "outputId": "645c0b22-02e1-4cc0-b4f2-b9743e39d399"
      },
      "outputs": [
        {
          "name": "stdout",
          "output_type": "stream",
          "text": [
            "<tf.Variable 'Variable:0' shape=(3, 1) dtype=float32, numpy=\n",
            "array([[ 0.3490097 ],\n",
            "       [ 0.44136307],\n",
            "       [-1.2597609 ]], dtype=float32)>\n"
          ]
        }
      ],
      "source": [
        "v = tf.Variable(initial_value=tf.random.normal(shape=(3, 1)))\n",
        "print(v)"
      ]
    },
    {
      "cell_type": "markdown",
      "metadata": {
        "id": "QGPwpZe18jkf"
      },
      "source": [
        "## Listing 3.6 Assigning a value to a TensorFlow variable"
      ]
    },
    {
      "cell_type": "code",
      "execution_count": null,
      "metadata": {
        "colab": {
          "base_uri": "https://localhost:8080/"
        },
        "id": "AhJrxf7-80_n",
        "outputId": "66a4b8fb-06ba-4355-fbff-c559acf08e8b"
      },
      "outputs": [
        {
          "data": {
            "text/plain": [
              "<tf.Variable 'UnreadVariable' shape=(3, 1) dtype=float32, numpy=\n",
              "array([[1.],\n",
              "       [1.],\n",
              "       [1.]], dtype=float32)>"
            ]
          },
          "execution_count": 7,
          "metadata": {},
          "output_type": "execute_result"
        }
      ],
      "source": [
        "v.assign(tf.ones((3, 1)))"
      ]
    },
    {
      "cell_type": "markdown",
      "metadata": {
        "id": "rDTFsefY88JR"
      },
      "source": [
        "## Listing 3.7 Assigning a value to a subset of a TensorFlow variable"
      ]
    },
    {
      "cell_type": "code",
      "execution_count": null,
      "metadata": {
        "colab": {
          "base_uri": "https://localhost:8080/"
        },
        "id": "OfSo973x9EBQ",
        "outputId": "248ef495-9e3f-4408-f71f-296afd40b2cc"
      },
      "outputs": [
        {
          "data": {
            "text/plain": [
              "<tf.Variable 'UnreadVariable' shape=(3, 1) dtype=float32, numpy=\n",
              "array([[3.],\n",
              "       [1.],\n",
              "       [1.]], dtype=float32)>"
            ]
          },
          "execution_count": 8,
          "metadata": {},
          "output_type": "execute_result"
        }
      ],
      "source": [
        "v[0, 0].assign(3.)"
      ]
    },
    {
      "cell_type": "markdown",
      "metadata": {
        "id": "NvW7WWRi9JrH"
      },
      "source": [
        "## Listing 3.8 Using `assign_add()`"
      ]
    },
    {
      "cell_type": "code",
      "execution_count": null,
      "metadata": {
        "colab": {
          "base_uri": "https://localhost:8080/"
        },
        "id": "gRtrbukq9PRh",
        "outputId": "0c97791b-c9b5-4e8c-f668-0f9d168c0d95"
      },
      "outputs": [
        {
          "data": {
            "text/plain": [
              "<tf.Variable 'UnreadVariable' shape=(3, 1) dtype=float32, numpy=\n",
              "array([[4.],\n",
              "       [2.],\n",
              "       [2.]], dtype=float32)>"
            ]
          },
          "execution_count": 10,
          "metadata": {},
          "output_type": "execute_result"
        }
      ],
      "source": [
        "v.assign_add(tf.ones((3, 1)))"
      ]
    },
    {
      "cell_type": "markdown",
      "metadata": {
        "id": "FlB5yLDg9b4v"
      },
      "source": [
        "## Listing 3.9 A few basic math operations"
      ]
    },
    {
      "cell_type": "code",
      "execution_count": null,
      "metadata": {
        "id": "IJ3wPwQJ9fQz"
      },
      "outputs": [],
      "source": [
        "a = tf.ones((2, 2))\n",
        "b = tf.square(a)\n",
        "c = tf.sqrt(a)\n",
        "d = b + c\n",
        "e = tf.matmul(a, b)\n",
        "e *= d"
      ]
    },
    {
      "cell_type": "markdown",
      "metadata": {
        "id": "Cy-gApi29wA8"
      },
      "source": [
        "## Listing 3.10 Using the `GradientTape`"
      ]
    },
    {
      "cell_type": "code",
      "execution_count": null,
      "metadata": {
        "id": "-1wFucUL94LT"
      },
      "outputs": [],
      "source": [
        "input_var = tf.Variable(initial_value=3.)\n",
        "with tf.GradientTape() as tape:\n",
        "  result = tf.square(input_var)\n",
        "gradient = tape.gradient(result, input_var)"
      ]
    },
    {
      "cell_type": "markdown",
      "metadata": {
        "id": "AO5yg3Nr-ajm"
      },
      "source": [
        "## Listing 3.11 Using `GradientTape` with constant tensor inputs"
      ]
    },
    {
      "cell_type": "code",
      "execution_count": null,
      "metadata": {
        "id": "LYiCAoAt-hcl"
      },
      "outputs": [],
      "source": [
        "input_const = tf.constant(3.)\n",
        "with tf.GradientTape() as tape:\n",
        "  tape.watch(input_const)\n",
        "  result = tf.square(input_const)\n",
        "gradient = tape.gradient(result, input_const)"
      ]
    },
    {
      "cell_type": "markdown",
      "metadata": {
        "id": "Ixo5toLe-3Dg"
      },
      "source": [
        "## Listing 3.12 Using nested gradient tapes to compute second-order gradients\n",
        "\n",
        "Now you know about tensors, variables and tensor operations and you know how to compute gradients. This is enough to build any machine learning model based on gradient descent."
      ]
    },
    {
      "cell_type": "code",
      "execution_count": null,
      "metadata": {
        "id": "-c04H-W0-8KU"
      },
      "outputs": [],
      "source": [
        "time = tf.Variable(0.)\n",
        "with tf.GradientTape() as outer_tape:\n",
        "  with tf.GradientTape() as inner_tape:\n",
        "    position = 4.9 * time ** 2\n",
        "  speed = inner_tape.gradient(position, time)\n",
        "acceleration = outer_tape.gradient(speed, time)"
      ]
    },
    {
      "cell_type": "markdown",
      "metadata": {
        "id": "J6VJ3a4-Byp9"
      },
      "source": [
        "## Listing 3.13 Generating two classes of random points in a 2D plane"
      ]
    },
    {
      "cell_type": "code",
      "execution_count": null,
      "metadata": {
        "id": "HhqjpgzYB6_I"
      },
      "outputs": [],
      "source": [
        "num_samples_per_class = 1000\n",
        "negative_samples = np.random.multivariate_normal(\n",
        "    mean=[0, 3],\n",
        "    cov=[[1, 0.5], [0.5, 1]],\n",
        "    size=num_samples_per_class\n",
        ")\n",
        "positive_samples = np.random.multivariate_normal(\n",
        "    mean=[3, 0],\n",
        "    cov=[[1, 0.5], [0.5, 1]],\n",
        "    size=num_samples_per_class\n",
        ")"
      ]
    },
    {
      "cell_type": "markdown",
      "metadata": {
        "id": "p1Bq7XhzECr4"
      },
      "source": [
        "## Listing 3.14 Stacking the two classes into an array with shape (2000, 2)"
      ]
    },
    {
      "cell_type": "code",
      "execution_count": null,
      "metadata": {
        "id": "ybxywKbTFDhX"
      },
      "outputs": [],
      "source": [
        "inputs = np.vstack((negative_samples, positive_samples)).astype(np.float32)"
      ]
    },
    {
      "cell_type": "markdown",
      "metadata": {
        "id": "rV_dr19sFch-"
      },
      "source": [
        "## Listing 3.15 Generating the corresponding targets (0 and 1)"
      ]
    },
    {
      "cell_type": "code",
      "execution_count": null,
      "metadata": {
        "id": "JgPovhMQFjHM"
      },
      "outputs": [],
      "source": [
        "targets = np.vstack((np.zeros((num_samples_per_class, 1), dtype=\"float32\"),\n",
        "                     np.ones((num_samples_per_class, 1), dtype=\"float32\")))"
      ]
    },
    {
      "cell_type": "markdown",
      "metadata": {
        "id": "wirBklNfF6fX"
      },
      "source": [
        "## Listing 3.16 Plotting the two point classes"
      ]
    },
    {
      "cell_type": "code",
      "execution_count": null,
      "metadata": {
        "colab": {
          "base_uri": "https://localhost:8080/",
          "height": 430
        },
        "id": "5rnkg5WuF968",
        "outputId": "b69c302b-79f9-4e4d-a7ff-8ad8dc659ed2"
      },
      "outputs": [
        {
          "data": {
            "image/png": "[encoded data removed]",
            "text/plain": [
              "<Figure size 640x480 with 1 Axes>"
            ]
          },
          "metadata": {},
          "output_type": "display_data"
        }
      ],
      "source": [
        "import matplotlib.pyplot as plt\n",
        "plt.scatter(inputs[:, 0], inputs[:, 1], c=targets[:, 0])\n",
        "plt.show()"
      ]
    },
    {
      "cell_type": "markdown",
      "metadata": {
        "id": "fAyhxVSpGTh6"
      },
      "source": [
        "## Listing 3.17 Creating the linear classifier variables"
      ]
    },
    {
      "cell_type": "code",
      "execution_count": null,
      "metadata": {
        "id": "TgnsMb6iGW_j"
      },
      "outputs": [],
      "source": [
        "input_dim = 2\n",
        "output_dim = 1\n",
        "W = tf.Variable(initial_value=tf.random.uniform(shape=(input_dim, output_dim)))\n",
        "b = tf.Variable(initial_value=tf.zeros(shape=(output_dim,)))"
      ]
    },
    {
      "cell_type": "markdown",
      "metadata": {
        "id": "Gk9k1IxGGyMX"
      },
      "source": [
        "## Listing 3.18 The forward pass function"
      ]
    },
    {
      "cell_type": "code",
      "execution_count": null,
      "metadata": {
        "id": "VxnI6jHgHA9I"
      },
      "outputs": [],
      "source": [
        "def model(inputs):\n",
        "  return tf.matmul(inputs, W) + b"
      ]
    },
    {
      "cell_type": "markdown",
      "metadata": {
        "id": "WOo-OE6ZHFxI"
      },
      "source": [
        "## Listing 3.19 The mean squared error loss function"
      ]
    },
    {
      "cell_type": "code",
      "execution_count": null,
      "metadata": {
        "id": "UJSToUjLHnxM"
      },
      "outputs": [],
      "source": [
        "def square_loss(targets, predictions):\n",
        "  per_sample_losses = tf.square(targets - predictions)\n",
        "  return tf.reduce_mean(per_sample_losses)"
      ]
    },
    {
      "cell_type": "markdown",
      "metadata": {
        "id": "5H-_jXniIBRl"
      },
      "source": [
        "## Listing 3.20 The training step function"
      ]
    },
    {
      "cell_type": "code",
      "execution_count": null,
      "metadata": {
        "id": "gUuW8s0oIH8q"
      },
      "outputs": [],
      "source": [
        "learning_rate = 0.1\n",
        "\n",
        "def training_step(inputs, targets):\n",
        "  with tf.GradientTape() as tape:\n",
        "    predictions = model(inputs)\n",
        "    loss = square_loss(targets, predictions)\n",
        "  grad_loss_wrt_W, grad_loss_wrt_b = tape.gradient(loss, [W, b])\n",
        "  W.assign_sub(grad_loss_wrt_W * learning_rate)\n",
        "  b.assign_sub(grad_loss_wrt_b * learning_rate)\n",
        "  return loss"
      ]
    },
    {
      "cell_type": "markdown",
      "metadata": {
        "id": "C0Pe0-fKJCnD"
      },
      "source": [
        "## Listing 3.21 The batch training loop"
      ]
    },
    {
      "cell_type": "code",
      "execution_count": null,
      "metadata": {
        "colab": {
          "base_uri": "https://localhost:8080/",
          "height": 1000
        },
        "id": "xHJ9It1DLDe-",
        "outputId": "563ccc6a-f8dd-45bc-ef66-42085ff54e04"
      },
      "outputs": [
        {
          "name": "stdout",
          "output_type": "stream",
          "text": [
            "Loss at step 0: 0.0262\n",
            "Loss at step 1: 0.0262\n",
            "Loss at step 2: 0.0262\n",
            "Loss at step 3: 0.0262\n",
            "Loss at step 4: 0.0262\n",
            "Loss at step 5: 0.0262\n",
            "Loss at step 6: 0.0262\n",
            "Loss at step 7: 0.0262\n",
            "Loss at step 8: 0.0262\n",
            "Loss at step 9: 0.0262\n",
            "Loss at step 10: 0.0262\n",
            "Loss at step 11: 0.0262\n",
            "Loss at step 12: 0.0262\n",
            "Loss at step 13: 0.0262\n",
            "Loss at step 14: 0.0261\n",
            "Loss at step 15: 0.0261\n",
            "Loss at step 16: 0.0261\n",
            "Loss at step 17: 0.0261\n",
            "Loss at step 18: 0.0261\n",
            "Loss at step 19: 0.0261\n",
            "Loss at step 20: 0.0261\n",
            "Loss at step 21: 0.0261\n",
            "Loss at step 22: 0.0261\n",
            "Loss at step 23: 0.0261\n",
            "Loss at step 24: 0.0261\n",
            "Loss at step 25: 0.0261\n",
            "Loss at step 26: 0.0261\n",
            "Loss at step 27: 0.0261\n",
            "Loss at step 28: 0.0261\n",
            "Loss at step 29: 0.0261\n",
            "Loss at step 30: 0.0261\n",
            "Loss at step 31: 0.0261\n",
            "Loss at step 32: 0.0261\n",
            "Loss at step 33: 0.0261\n",
            "Loss at step 34: 0.0261\n",
            "Loss at step 35: 0.0261\n",
            "Loss at step 36: 0.0261\n",
            "Loss at step 37: 0.0261\n",
            "Loss at step 38: 0.0261\n",
            "Loss at step 39: 0.0261\n"
          ]
        },
        {
          "data": {
            "image/png": "[encoded data removed]",
            "text/plain": [
              "<Figure size 640x480 with 1 Axes>"
            ]
          },
          "metadata": {},
          "output_type": "display_data"
        },
        {
          "data": {
            "image/png": "[encoded data removed]",
            "text/plain": [
              "<Figure size 640x480 with 1 Axes>"
            ]
          },
          "metadata": {},
          "output_type": "display_data"
        }
      ],
      "source": [
        "for step in range(40):\n",
        "  loss = training_step(inputs, targets)\n",
        "  print(f\"Loss at step {step}: {loss:.4f}\")\n",
        "\n",
        "# plot model's predictions on the training inputs\n",
        "predictions = model(inputs)\n",
        "plt.scatter(inputs[:, 0], inputs[:, 1], c=predictions[:, 0] > 0.5)\n",
        "plt.show()\n",
        "\n",
        "# our model, visualized as a line\n",
        "x = np.linspace(-1, 4, 100)\n",
        "y = -W[0] / W[1] * x + (0.5 - b) / W[1]\n",
        "plt.plot(x, y, \"-r\")\n",
        "plt.scatter(inputs[:, 0], inputs[:, 1], c=predictions[:, 0] > 0.5)\n",
        "plt.show()"
      ]
    },
    {
      "cell_type": "markdown",
      "metadata": {
        "id": "JZPU-AaAMWW5"
      },
      "source": [
        "## Listing 3.22 A Dense layer implemented as a Layer subclass\n"
      ]
    },
    {
      "cell_type": "code",
      "execution_count": null,
      "metadata": {
        "colab": {
          "base_uri": "https://localhost:8080/"
        },
        "id": "N5Eq-CO80pzf",
        "outputId": "453be65c-589b-43c9-f33b-bec79616b06e"
      },
      "outputs": [
        {
          "name": "stdout",
          "output_type": "stream",
          "text": [
            "(2, 32)\n"
          ]
        }
      ],
      "source": [
        "from tensorflow import keras\n",
        "import tensorflow as tf\n",
        "\n",
        "class SimpleDense(keras.layers.Layer):\n",
        "  def __init__(self, units, activation=None):\n",
        "    super().__init__()\n",
        "    self.units = units\n",
        "    self.activation = activation\n",
        "\n",
        "  def build(self, input_shape):\n",
        "    input_dim = input_shape[-1]\n",
        "    self.W = self.add_weight(shape=(input_dim, self.units), initializer=\"random_normal\")\n",
        "    self.b = self.add_weight(shape=(self.units,), initializer=\"zeros\")\n",
        "\n",
        "  def call(self, inputs):\n",
        "    y = tf.matmul(inputs, self.W) + self.b\n",
        "    if self.activation is not None:\n",
        "      y = self.activation(y)\n",
        "    return y\n",
        "\n",
        "my_dense = SimpleDense(units=32, activation=tf.nn.relu)\n",
        "input_tensor = tf.ones(shape=(2, 784))\n",
        "output_tensor = my_dense(input_tensor)\n",
        "print(output_tensor.shape)"
      ]
    },
    {
      "cell_type": "code",
      "execution_count": null,
      "metadata": {
        "id": "h0cqToAs2AR3"
      },
      "outputs": [],
      "source": [
        "from tensorflow.keras import layers\n",
        "layer = layers.Dense(32, activation=\"relu\")"
      ]
    },
    {
      "cell_type": "code",
      "execution_count": null,
      "metadata": {
        "id": "RxB__arf2kAn"
      },
      "outputs": [],
      "source": [
        "# When using Keras, you don't have to worry about size compatibility most of the\n",
        "# time, because the layers you add to your models are dynamically built to match\n",
        "# the shape of the incoming layer.\n",
        "from tensorflow.keras import models, layers\n",
        "model = models.Sequential([\n",
        "    layers.Dense(32, activation=\"relu\"),\n",
        "    layers.Dense(32)\n",
        "])"
      ]
    },
    {
      "cell_type": "code",
      "execution_count": null,
      "metadata": {
        "id": "5kYEe99n39mu"
      },
      "outputs": [],
      "source": [
        "model = keras.Sequential([keras.layers.Dense(1)])\n",
        "model.compile(optimizer=\"rmsprop\", loss=\"mean_squared_error\", metrics=[\"accuracy\"])"
      ]
    },
    {
      "cell_type": "markdown",
      "metadata": {
        "id": "jXvQYeGD9bgU"
      },
      "source": [
        "## Listing 3.23 Calling `fit()` with NumPy data"
      ]
    },
    {
      "cell_type": "code",
      "execution_count": null,
      "metadata": {
        "colab": {
          "base_uri": "https://localhost:8080/"
        },
        "id": "hCe_Pn949eq3",
        "outputId": "8877fd26-9d9a-4d97-ea1e-76abf45c3428"
      },
      "outputs": [
        {
          "name": "stdout",
          "output_type": "stream",
          "text": [
            "Epoch 1/5\n",
            "16/16 [==============================] - 0s 5ms/step - loss: 0.7712 - accuracy: 0.6435\n",
            "Epoch 2/5\n",
            "16/16 [==============================] - 0s 4ms/step - loss: 0.6747 - accuracy: 0.6520\n",
            "Epoch 3/5\n",
            "16/16 [==============================] - 0s 8ms/step - loss: 0.5879 - accuracy: 0.6690\n",
            "Epoch 4/5\n",
            "16/16 [==============================] - 0s 5ms/step - loss: 0.5098 - accuracy: 0.6885\n",
            "Epoch 5/5\n",
            "16/16 [==============================] - 0s 4ms/step - loss: 0.4410 - accuracy: 0.7015\n"
          ]
        },
        {
          "data": {
            "text/plain": [
              "{'loss': [0.7712062001228333,\n",
              "  0.674746572971344,\n",
              "  0.5879043936729431,\n",
              "  0.5097733736038208,\n",
              "  0.4410325288772583],\n",
              " 'accuracy': [0.6434999704360962,\n",
              "  0.6520000100135803,\n",
              "  0.6690000295639038,\n",
              "  0.6884999871253967,\n",
              "  0.7014999985694885]}"
            ]
          },
          "execution_count": 24,
          "metadata": {},
          "output_type": "execute_result"
        }
      ],
      "source": [
        "history = model.fit(inputs, targets, epochs=5, batch_size=128)\n",
        "history.history"
      ]
    },
    {
      "cell_type": "markdown",
      "metadata": {
        "id": "EB5-Nsji-1uG"
      },
      "source": [
        "## Listing 3.24 Using the `validation_data` argument"
      ]
    },
    {
      "cell_type": "code",
      "execution_count": null,
      "metadata": {
        "colab": {
          "base_uri": "https://localhost:8080/"
        },
        "id": "sCh8JQSn-4Yd",
        "outputId": "c2c70e57-3844-4cd1-ae57-9cc509afc126"
      },
      "outputs": [
        {
          "name": "stdout",
          "output_type": "stream",
          "text": [
            "Epoch 1/5\n",
            "88/88 [==============================] - 2s 12ms/step - loss: 0.4064 - binary_accuracy: 0.9129 - val_loss: 0.0332 - val_binary_accuracy: 0.9983\n",
            "Epoch 2/5\n",
            "88/88 [==============================] - 1s 10ms/step - loss: 0.0719 - binary_accuracy: 0.9564 - val_loss: 0.2108 - val_binary_accuracy: 0.8167\n",
            "Epoch 3/5\n",
            "88/88 [==============================] - 1s 10ms/step - loss: 0.0773 - binary_accuracy: 0.9486 - val_loss: 0.1467 - val_binary_accuracy: 0.9217\n",
            "Epoch 4/5\n",
            "88/88 [==============================] - 1s 8ms/step - loss: 0.0745 - binary_accuracy: 0.9564 - val_loss: 0.0418 - val_binary_accuracy: 0.9950\n",
            "Epoch 5/5\n",
            "88/88 [==============================] - 0s 5ms/step - loss: 0.0755 - binary_accuracy: 0.9500 - val_loss: 0.0260 - val_binary_accuracy: 0.9983\n",
            "5/5 [==============================] - 0s 3ms/step - loss: 0.0260 - binary_accuracy: 0.9983\n",
            "[0.026035405695438385, 0.9983333349227905]\n"
          ]
        }
      ],
      "source": [
        "model = keras.Sequential([keras.layers.Dense(1)])\n",
        "model.compile(optimizer=keras.optimizers.RMSprop(learning_rate=0.1),\n",
        "              loss=keras.losses.MeanSquaredError(),\n",
        "              metrics=[keras.metrics.BinaryAccuracy()])\n",
        "indices_permutation = np.random.permutation(len(inputs))\n",
        "shuffled_inputs = inputs[indices_permutation]\n",
        "shuffled_targets = targets[indices_permutation]\n",
        "\n",
        "num_validation_samples = int(0.3 * len(inputs))\n",
        "val_inputs = shuffled_inputs[:num_validation_samples]\n",
        "val_targets = shuffled_targets[:num_validation_samples]\n",
        "training_inputs = shuffled_inputs[num_validation_samples:]\n",
        "training_targets = shuffled_targets[num_validation_samples:]\n",
        "model.fit(\n",
        "    training_inputs,\n",
        "    training_targets,\n",
        "    epochs=5,\n",
        "    batch_size=16,\n",
        "    validation_data=(val_inputs, val_targets)\n",
        ")\n",
        "loss_and_metrics = model.evaluate(val_inputs, val_targets, batch_size=128)\n",
        "print(loss_and_metrics)"
      ]
    },
    {
      "cell_type": "code",
      "execution_count": null,
      "metadata": {
        "colab": {
          "base_uri": "https://localhost:8080/"
        },
        "id": "81vWBgMeAMqs",
        "outputId": "9131b6ce-d382-401e-e64a-b69c40165f48"
      },
      "outputs": [
        {
          "name": "stdout",
          "output_type": "stream",
          "text": [
            "5/5 [==============================] - 0s 3ms/step\n",
            "[[ 0.0838975 ]\n",
            " [ 0.84821093]\n",
            " [ 0.41135544]\n",
            " [ 1.0645845 ]\n",
            " [ 0.91411024]\n",
            " [ 0.97204   ]\n",
            " [-0.03641772]\n",
            " [ 1.1270711 ]\n",
            " [ 1.0107777 ]\n",
            " [ 0.2553392 ]]\n"
          ]
        }
      ],
      "source": [
        "predictions = model.predict(val_inputs, batch_size=128)\n",
        "print(predictions[:10])"
      ]
    },
    {
      "cell_type": "markdown",
      "metadata": {
        "id": "e93GDknE-jXN"
      },
      "source": [
        "# Chapter 4"
      ]
    },
    {
      "cell_type": "markdown",
      "metadata": {
        "id": "Fvy3ezxs_DxC"
      },
      "source": [
        "## Listing 4.1 Loading the IMDB dataset"
      ]
    },
    {
      "cell_type": "code",
      "execution_count": null,
      "metadata": {
        "colab": {
          "base_uri": "https://localhost:8080/"
        },
        "id": "m2sNsB68_LBJ",
        "outputId": "8b5b43ae-970f-413a-ea55-ef86266477a9"
      },
      "outputs": [
        {
          "name": "stdout",
          "output_type": "stream",
          "text": [
            "Downloading data from https://storage.googleapis.com/tensorflow/tf-keras-datasets/imdb.npz\n",
            "17464789/17464789 [==============================] - 0s 0us/step\n"
          ]
        }
      ],
      "source": [
        "from tensorflow.keras.datasets import imdb\n",
        "(train_data, train_labels), (test_data, test_labels) = imdb.load_data(num_words=10000)"
      ]
    },
    {
      "cell_type": "code",
      "execution_count": null,
      "metadata": {
        "colab": {
          "base_uri": "https://localhost:8080/"
        },
        "id": "yMZ15BT0Bqu5",
        "outputId": "5d4714ec-f5bd-47cc-bea3-7f57f9b810c8"
      },
      "outputs": [
        {
          "name": "stdout",
          "output_type": "stream",
          "text": [
            "[1, 14, 22, 16, 43, 530, 973, 1622, 1385, 65, 458, 4468, 66, 3941, 4, 173, 36, 256, 5, 25, 100, 43, 838, 112, 50, 670, 2, 9, 35, 480, 284, 5, 150, 4, 172, 112, 167, 2, 336, 385, 39, 4, 172, 4536, 1111, 17, 546, 38, 13, 447, 4, 192, 50, 16, 6, 147, 2025, 19, 14, 22, 4, 1920, 4613, 469, 4, 22, 71, 87, 12, 16, 43, 530, 38, 76, 15, 13, 1247, 4, 22, 17, 515, 17, 12, 16, 626, 18, 2, 5, 62, 386, 12, 8, 316, 8, 106, 5, 4, 2223, 5244, 16, 480, 66, 3785, 33, 4, 130, 12, 16, 38, 619, 5, 25, 124, 51, 36, 135, 48, 25, 1415, 33, 6, 22, 12, 215, 28, 77, 52, 5, 14, 407, 16, 82, 2, 8, 4, 107, 117, 5952, 15, 256, 4, 2, 7, 3766, 5, 723, 36, 71, 43, 530, 476, 26, 400, 317, 46, 7, 4, 2, 1029, 13, 104, 88, 4, 381, 15, 297, 98, 32, 2071, 56, 26, 141, 6, 194, 7486, 18, 4, 226, 22, 21, 134, 476, 26, 480, 5, 144, 30, 5535, 18, 51, 36, 28, 224, 92, 25, 104, 4, 226, 65, 16, 38, 1334, 88, 12, 16, 283, 5, 16, 4472, 113, 103, 32, 15, 16, 5345, 19, 178, 32]\n",
            "1\n"
          ]
        }
      ],
      "source": [
        "print(train_data[0])\n",
        "\n",
        "print(train_labels[0])"
      ]
    },
    {
      "cell_type": "code",
      "execution_count": null,
      "metadata": {
        "colab": {
          "base_uri": "https://localhost:8080/"
        },
        "id": "d12yTlh7BtuP",
        "outputId": "2991f0f3-427b-439a-daf9-e1f30b26509f"
      },
      "outputs": [
        {
          "data": {
            "text/plain": [
              "9999"
            ]
          },
          "execution_count": 7,
          "metadata": {},
          "output_type": "execute_result"
        }
      ],
      "source": [
        "max([max(sequence) for sequence in train_data])"
      ]
    },
    {
      "cell_type": "markdown",
      "metadata": {
        "id": "af7ZP-n_CB08"
      },
      "source": [
        "## Listing 4.2 Decoding review back to text"
      ]
    },
    {
      "cell_type": "code",
      "execution_count": null,
      "metadata": {
        "colab": {
          "base_uri": "https://localhost:8080/"
        },
        "id": "YssUpS2ECE6l",
        "outputId": "baebe88b-2f36-436d-a89e-fc3d84cbe170"
      },
      "outputs": [
        {
          "name": "stdout",
          "output_type": "stream",
          "text": [
            "? this film was just brilliant casting location scenery story direction everyone's really suited the part they played and you could just imagine being there robert ? is an amazing actor and now the same being director ? father came from the same scottish island as myself so i loved the fact there was a real connection with this film the witty remarks throughout the film were great it was just brilliant so much that i bought the film as soon as it was released for ? and would recommend it to everyone to watch and the fly fishing was amazing really cried at the end it was so sad and you know what they say if you cry at a film it must have been good and this definitely was also ? to the two little boy's that played the ? of norman and paul they were just brilliant children are often left out of the ? list i think because the stars that play them all grown up are such a big profile for the whole film but these children are amazing and should be praised for what they have done don't you think the whole story was so lovely because it was true and was someone's life after all that was shared with us all\n"
          ]
        }
      ],
      "source": [
        "word_index = imdb.get_word_index()\n",
        "reverse_word_index = dict(\n",
        "    [(value, key) for (key, value) in word_index.items()])\n",
        "decoded_review = \" \".join([reverse_word_index.get(i - 3, \"?\") for i in train_data[0]])\n",
        "print(decoded_review)"
      ]
    },
    {
      "cell_type": "markdown",
      "metadata": {
        "id": "Fcq1DNc8C1kq"
      },
      "source": [
        "## Listing 4.3 Encoding the integer sequences via multi-hot encoding"
      ]
    },
    {
      "cell_type": "code",
      "execution_count": null,
      "metadata": {
        "id": "rjXobXoQDNpb"
      },
      "outputs": [],
      "source": [
        "import numpy as np\n",
        "def vectorize_sequences(sequences, dimension=10000):\n",
        "  results = np.zeros((len(sequences), dimension))\n",
        "  for i, sequence in enumerate(sequences):\n",
        "    for j in sequence:\n",
        "      results[i, j] = 1.\n",
        "  return results\n",
        "\n",
        "x_train = vectorize_sequences(train_data)\n",
        "x_test = vectorize_sequences(test_data)\n",
        "\n",
        "# Vectorize labels\n",
        "y_train = np.asarray(train_labels).astype(\"float32\")\n",
        "y_test = np.asarray(test_labels).astype(\"float32\")"
      ]
    },
    {
      "cell_type": "markdown",
      "metadata": {
        "id": "91p0NI0gEMjn"
      },
      "source": [
        "## Listing 4.4 Model definition"
      ]
    },
    {
      "cell_type": "code",
      "execution_count": null,
      "metadata": {
        "id": "hh_MhVZSE89g"
      },
      "outputs": [],
      "source": [
        "from tensorflow import keras\n",
        "from tensorflow.keras import layers\n",
        "\n",
        "model = keras.Sequential([\n",
        "    layers.Dense(16, activation=\"relu\"),\n",
        "    layers.Dense(16, activation=\"relu\"),\n",
        "    layers.Dense(1, activation=\"sigmoid\")\n",
        "])"
      ]
    },
    {
      "cell_type": "markdown",
      "metadata": {
        "id": "Rc7X8ogTIyTR"
      },
      "source": [
        "## Listing 4.5 Compiling the model"
      ]
    },
    {
      "cell_type": "code",
      "execution_count": null,
      "metadata": {
        "id": "oUSMxEESI02w"
      },
      "outputs": [],
      "source": [
        "model.compile(optimizer=\"rmsprop\",\n",
        "               loss=\"binary_crossentropy\",\n",
        "               metrics=[\"accuracy\"])"
      ]
    },
    {
      "cell_type": "markdown",
      "metadata": {
        "id": "ctaT_dlhJR_j"
      },
      "source": [
        "## Listing 4.6 Setting aside a validation set"
      ]
    },
    {
      "cell_type": "code",
      "execution_count": null,
      "metadata": {
        "id": "bd4UWapgJVPQ"
      },
      "outputs": [],
      "source": [
        "x_val = x_train[:10000]\n",
        "partial_x_train = x_train[10000:]\n",
        "y_val = y_train[:10000]\n",
        "partial_y_train = y_train[10000:]"
      ]
    },
    {
      "cell_type": "markdown",
      "metadata": {
        "id": "xwMJZonQJhed"
      },
      "source": [
        "## Listing 4.7 Training your model"
      ]
    },
    {
      "cell_type": "code",
      "execution_count": null,
      "metadata": {
        "colab": {
          "base_uri": "https://localhost:8080/"
        },
        "id": "2lDBBSRSJstt",
        "outputId": "1897e434-4b66-40b5-a1b6-7e2cf4c58653"
      },
      "outputs": [
        {
          "name": "stdout",
          "output_type": "stream",
          "text": [
            "Epoch 1/20\n",
            "30/30 [==============================] - 5s 71ms/step - loss: 0.5817 - accuracy: 0.7537 - val_loss: 0.4734 - val_accuracy: 0.8268\n",
            "Epoch 2/20\n",
            "30/30 [==============================] - 1s 32ms/step - loss: 0.3910 - accuracy: 0.8810 - val_loss: 0.3568 - val_accuracy: 0.8782\n",
            "Epoch 3/20\n",
            "30/30 [==============================] - 1s 42ms/step - loss: 0.2940 - accuracy: 0.9045 - val_loss: 0.3077 - val_accuracy: 0.8856\n",
            "Epoch 4/20\n",
            "30/30 [==============================] - 1s 33ms/step - loss: 0.2344 - accuracy: 0.9244 - val_loss: 0.3003 - val_accuracy: 0.8792\n",
            "Epoch 5/20\n",
            "30/30 [==============================] - 1s 23ms/step - loss: 0.1975 - accuracy: 0.9353 - val_loss: 0.3039 - val_accuracy: 0.8791\n",
            "Epoch 6/20\n",
            "30/30 [==============================] - 1s 22ms/step - loss: 0.1712 - accuracy: 0.9428 - val_loss: 0.2752 - val_accuracy: 0.8880\n",
            "Epoch 7/20\n",
            "30/30 [==============================] - 1s 22ms/step - loss: 0.1490 - accuracy: 0.9533 - val_loss: 0.2933 - val_accuracy: 0.8850\n",
            "Epoch 8/20\n",
            "30/30 [==============================] - 1s 22ms/step - loss: 0.1305 - accuracy: 0.9602 - val_loss: 0.3020 - val_accuracy: 0.8832\n",
            "Epoch 9/20\n",
            "30/30 [==============================] - 1s 22ms/step - loss: 0.1132 - accuracy: 0.9671 - val_loss: 0.3033 - val_accuracy: 0.8851\n",
            "Epoch 10/20\n",
            "30/30 [==============================] - 1s 22ms/step - loss: 0.0997 - accuracy: 0.9709 - val_loss: 0.3126 - val_accuracy: 0.8836\n",
            "Epoch 11/20\n",
            "30/30 [==============================] - 1s 22ms/step - loss: 0.0896 - accuracy: 0.9743 - val_loss: 0.3485 - val_accuracy: 0.8715\n",
            "Epoch 12/20\n",
            "30/30 [==============================] - 1s 23ms/step - loss: 0.0780 - accuracy: 0.9793 - val_loss: 0.3412 - val_accuracy: 0.8805\n",
            "Epoch 13/20\n",
            "30/30 [==============================] - 1s 25ms/step - loss: 0.0681 - accuracy: 0.9825 - val_loss: 0.3563 - val_accuracy: 0.8801\n",
            "Epoch 14/20\n",
            "30/30 [==============================] - 1s 22ms/step - loss: 0.0608 - accuracy: 0.9848 - val_loss: 0.3758 - val_accuracy: 0.8788\n",
            "Epoch 15/20\n",
            "30/30 [==============================] - 1s 23ms/step - loss: 0.0510 - accuracy: 0.9888 - val_loss: 0.3972 - val_accuracy: 0.8747\n",
            "Epoch 16/20\n",
            "30/30 [==============================] - 1s 23ms/step - loss: 0.0458 - accuracy: 0.9902 - val_loss: 0.4105 - val_accuracy: 0.8765\n",
            "Epoch 17/20\n",
            "30/30 [==============================] - 1s 23ms/step - loss: 0.0386 - accuracy: 0.9927 - val_loss: 0.4336 - val_accuracy: 0.8735\n",
            "Epoch 18/20\n",
            "30/30 [==============================] - 1s 25ms/step - loss: 0.0327 - accuracy: 0.9943 - val_loss: 0.4542 - val_accuracy: 0.8739\n",
            "Epoch 19/20\n",
            "30/30 [==============================] - 1s 37ms/step - loss: 0.0288 - accuracy: 0.9957 - val_loss: 0.4823 - val_accuracy: 0.8728\n",
            "Epoch 20/20\n",
            "30/30 [==============================] - 1s 38ms/step - loss: 0.0260 - accuracy: 0.9963 - val_loss: 0.4963 - val_accuracy: 0.8720\n"
          ]
        }
      ],
      "source": [
        "history = model.fit(partial_x_train,\n",
        "                    partial_y_train,\n",
        "                    epochs=20,\n",
        "                    batch_size=512,\n",
        "                    validation_data=(x_val, y_val))"
      ]
    },
    {
      "cell_type": "code",
      "execution_count": null,
      "metadata": {
        "colab": {
          "base_uri": "https://localhost:8080/"
        },
        "id": "xUciFY8TJ2tt",
        "outputId": "d1d44bdf-881b-43fc-ecb7-03e595294132"
      },
      "outputs": [
        {
          "name": "stdout",
          "output_type": "stream",
          "text": [
            "dict_keys(['loss', 'accuracy', 'val_loss', 'val_accuracy'])\n"
          ]
        }
      ],
      "source": [
        "history_dict = history.history\n",
        "print(history_dict.keys())"
      ]
    },
    {
      "cell_type": "markdown",
      "metadata": {
        "id": "5GksfdyIKbR7"
      },
      "source": [
        "## Listing 4.8 Plotting the training and validation loss"
      ]
    },
    {
      "cell_type": "code",
      "execution_count": null,
      "metadata": {
        "colab": {
          "base_uri": "https://localhost:8080/",
          "height": 472
        },
        "id": "J19P9nYXKeEi",
        "outputId": "a6860269-94dd-4d4c-a019-756ea5b3e663"
      },
      "outputs": [
        {
          "data": {
            "image/png": "[encoded data removed]",
            "text/plain": [
              "<Figure size 640x480 with 1 Axes>"
            ]
          },
          "metadata": {},
          "output_type": "display_data"
        }
      ],
      "source": [
        "import matplotlib.pyplot as plt\n",
        "history_dict = history.history\n",
        "loss_values = history_dict[\"loss\"]\n",
        "val_loss_values = history_dict[\"val_loss\"]\n",
        "epochs = range(1, len(loss_values) + 1)\n",
        "plt.plot(epochs, loss_values, \"bo\", label=\"Training loss\")\n",
        "plt.plot(epochs, val_loss_values, \"b\", label=\"Validation loss\")\n",
        "plt.title(\"Training and validation loss\")\n",
        "plt.xlabel(\"Epochs\")\n",
        "plt.ylabel(\"Loss\")\n",
        "plt.legend()\n",
        "plt.show()"
      ]
    },
    {
      "cell_type": "markdown",
      "metadata": {
        "id": "NpM5VacZLHIC"
      },
      "source": [
        "## Listing 4.9 Plotting the training and validation accuracy"
      ]
    },
    {
      "cell_type": "code",
      "execution_count": null,
      "metadata": {
        "colab": {
          "base_uri": "https://localhost:8080/",
          "height": 472
        },
        "id": "q2cemOfYLK1U",
        "outputId": "dcc2d38d-06b3-4e28-a5a7-9f5f4d2b5a99"
      },
      "outputs": [
        {
          "data": {
            "image/png": "[encoded data removed]",
            "text/plain": [
              "<Figure size 640x480 with 1 Axes>"
            ]
          },
          "metadata": {},
          "output_type": "display_data"
        }
      ],
      "source": [
        "plt.clf()\n",
        "acc = history_dict[\"accuracy\"]\n",
        "val_acc = history_dict[\"val_accuracy\"]\n",
        "plt.plot(epochs, acc, \"bo\", label=\"Training acc\")\n",
        "plt.plot(epochs, val_acc, \"b\", label=\"Validation acc\")\n",
        "plt.title(\"Training and validation accuracy\")\n",
        "plt.xlabel(\"Epochs\")\n",
        "plt.ylabel(\"Accuracy\")\n",
        "plt.legend()\n",
        "plt.show()"
      ]
    },
    {
      "cell_type": "markdown",
      "metadata": {
        "id": "0Q2UvViSL3c-"
      },
      "source": [
        "## Listing 4.10 Retraining a model from scratch"
      ]
    },
    {
      "cell_type": "code",
      "execution_count": null,
      "metadata": {
        "colab": {
          "base_uri": "https://localhost:8080/"
        },
        "id": "tJWOBO79L6ex",
        "outputId": "b519d4f7-37b6-4372-c57e-45894c043adf"
      },
      "outputs": [
        {
          "name": "stdout",
          "output_type": "stream",
          "text": [
            "Epoch 1/4\n",
            "49/49 [==============================] - 1s 13ms/step - loss: 0.4692 - accuracy: 0.8060\n",
            "Epoch 2/4\n",
            "49/49 [==============================] - 1s 14ms/step - loss: 0.2715 - accuracy: 0.9043\n",
            "Epoch 3/4\n",
            "49/49 [==============================] - 1s 14ms/step - loss: 0.2131 - accuracy: 0.9235\n",
            "Epoch 4/4\n",
            "49/49 [==============================] - 1s 14ms/step - loss: 0.1788 - accuracy: 0.9362\n",
            "782/782 [==============================] - 2s 3ms/step - loss: 0.2868 - accuracy: 0.8859\n",
            "[0.28678733110427856, 0.8858799934387207]\n"
          ]
        }
      ],
      "source": [
        "model = keras.Sequential([\n",
        "    layers.Dense(16, activation=\"relu\"),\n",
        "    layers.Dense(16, activation=\"relu\"),\n",
        "    layers.Dense(1, activation=\"sigmoid\")\n",
        "])\n",
        "model.compile(optimizer=\"rmsprop\",\n",
        "              loss=\"binary_crossentropy\",\n",
        "              metrics=[\"accuracy\"])\n",
        "model.fit(x_train, y_train, epochs=4, batch_size=512)\n",
        "results = model.evaluate(x_test, y_test)\n",
        "print(results)"
      ]
    },
    {
      "cell_type": "code",
      "execution_count": null,
      "metadata": {
        "colab": {
          "base_uri": "https://localhost:8080/"
        },
        "id": "rT827NtoMbq-",
        "outputId": "dd873870-7023-4e43-9b82-cf7b88f89a49"
      },
      "outputs": [
        {
          "name": "stdout",
          "output_type": "stream",
          "text": [
            "782/782 [==============================] - 2s 2ms/step\n"
          ]
        },
        {
          "data": {
            "text/plain": [
              "array([[0.1679138 ],\n",
              "       [0.9992754 ],\n",
              "       [0.7508953 ],\n",
              "       ...,\n",
              "       [0.11210259],\n",
              "       [0.06575298],\n",
              "       [0.4921973 ]], dtype=float32)"
            ]
          },
          "execution_count": 21,
          "metadata": {},
          "output_type": "execute_result"
        }
      ],
      "source": [
        "model.predict(x_test)"
      ]
    },
    {
      "cell_type": "markdown",
      "metadata": {
        "id": "a56It-l8NcqM"
      },
      "source": [
        "## Listing 4.11 Loading the Reuters dataset"
      ]
    },
    {
      "cell_type": "code",
      "execution_count": null,
      "metadata": {
        "colab": {
          "base_uri": "https://localhost:8080/"
        },
        "id": "2yezy1pcJPqx",
        "outputId": "24ce87aa-603d-447a-9ca2-e5fb2f4dc9e2"
      },
      "outputs": [
        {
          "name": "stdout",
          "output_type": "stream",
          "text": [
            "Downloading data from https://storage.googleapis.com/tensorflow/tf-keras-datasets/reuters.npz\n",
            "2110848/2110848 [==============================] - 0s 0us/step\n"
          ]
        }
      ],
      "source": [
        "from tensorflow.keras.datasets import reuters\n",
        "(train_data, train_labels), (test_data, test_labels) = reuters.load_data(num_words=10000)"
      ]
    },
    {
      "cell_type": "code",
      "execution_count": null,
      "metadata": {
        "colab": {
          "base_uri": "https://localhost:8080/"
        },
        "id": "rP2Vcrk8JX4J",
        "outputId": "79e4153b-64a3-4919-b584-beb84e0f1123"
      },
      "outputs": [
        {
          "name": "stdout",
          "output_type": "stream",
          "text": [
            "8982\n",
            "2246\n"
          ]
        }
      ],
      "source": [
        "print(len(train_data))\n",
        "print(len(test_data))"
      ]
    },
    {
      "cell_type": "code",
      "execution_count": null,
      "metadata": {
        "colab": {
          "base_uri": "https://localhost:8080/"
        },
        "id": "rLyDYvu4Jj0a",
        "outputId": "6724f9f2-2433-456e-8adf-9d21e89c36c0"
      },
      "outputs": [
        {
          "name": "stdout",
          "output_type": "stream",
          "text": [
            "[1, 245, 273, 207, 156, 53, 74, 160, 26, 14, 46, 296, 26, 39, 74, 2979, 3554, 14, 46, 4689, 4329, 86, 61, 3499, 4795, 14, 61, 451, 4329, 17, 12]\n"
          ]
        }
      ],
      "source": [
        "print(train_data[10])"
      ]
    },
    {
      "cell_type": "markdown",
      "metadata": {
        "id": "FxpxHG7YJuEo"
      },
      "source": [
        "## Listing 4.12 Decoding newswires back to text"
      ]
    },
    {
      "cell_type": "code",
      "execution_count": null,
      "metadata": {
        "colab": {
          "base_uri": "https://localhost:8080/"
        },
        "id": "eOpjGhY2Jw6Y",
        "outputId": "a32ce370-42eb-4778-8d4c-7dc7b8c60228"
      },
      "outputs": [
        {
          "name": "stdout",
          "output_type": "stream",
          "text": [
            "Downloading data from https://storage.googleapis.com/tensorflow/tf-keras-datasets/reuters_word_index.json\n",
            "550378/550378 [==============================] - 0s 0us/step\n"
          ]
        }
      ],
      "source": [
        "word_index = reuters.get_word_index()\n",
        "reverse_word_index = dict(\n",
        "    [(value, key) for (key, value) in word_index.items()])\n",
        "decoded_newswire = \" \".join([reverse_word_index.get(i - 3, \"?\") for i in train_data[0]])"
      ]
    },
    {
      "cell_type": "code",
      "execution_count": null,
      "metadata": {
        "colab": {
          "base_uri": "https://localhost:8080/"
        },
        "id": "1ioYWurKKQvw",
        "outputId": "fb440b03-8d13-434b-8e06-bf26447c3a4a"
      },
      "outputs": [
        {
          "name": "stdout",
          "output_type": "stream",
          "text": [
            "3\n"
          ]
        }
      ],
      "source": [
        "print(train_labels[10])"
      ]
    },
    {
      "cell_type": "markdown",
      "metadata": {
        "id": "9rbsmXvzKdZy"
      },
      "source": [
        "## Listing 4.13 Encoding the input data"
      ]
    },
    {
      "cell_type": "code",
      "execution_count": null,
      "metadata": {
        "id": "1La0HXdcKfHu"
      },
      "outputs": [],
      "source": [
        "x_train = vectorize_sequences(train_data)\n",
        "x_test = vectorize_sequences(test_data)"
      ]
    },
    {
      "cell_type": "markdown",
      "metadata": {
        "id": "Lln_ffX7K5ec"
      },
      "source": [
        "## Listing 4.14 Encoding the labels"
      ]
    },
    {
      "cell_type": "code",
      "execution_count": null,
      "metadata": {
        "id": "gpHdQ3G1K79U"
      },
      "outputs": [],
      "source": [
        "def to_one_hot(labels, dimension=46):\n",
        "  results = np.zeros((len(labels), dimension))\n",
        "  for i, label in enumerate(labels):\n",
        "    results[i, label] = 1.\n",
        "  return results\n",
        "\n",
        "y_train = to_one_hot(train_labels)\n",
        "y_test = to_one_hot(test_labels)"
      ]
    },
    {
      "cell_type": "code",
      "execution_count": null,
      "metadata": {
        "id": "wUa7LR6NLlql"
      },
      "outputs": [],
      "source": [
        "# Built-in way to do one-hot encoding\n",
        "from tensorflow.keras.utils import to_categorical\n",
        "y_train = to_categorical(train_labels)\n",
        "y_test = to_categorical(test_labels)"
      ]
    },
    {
      "cell_type": "markdown",
      "metadata": {
        "id": "SUDM9MEAL1WD"
      },
      "source": [
        "## Listing 4.15 Model definition"
      ]
    },
    {
      "cell_type": "code",
      "execution_count": null,
      "metadata": {
        "id": "jvlqL16SL4Hf"
      },
      "outputs": [],
      "source": [
        "model = keras.Sequential([\n",
        "    layers.Dense(64, activation=\"relu\"),\n",
        "    layers.Dense(64, activation=\"relu\"),\n",
        "    layers.Dense(46, activation=\"softmax\")\n",
        "])"
      ]
    },
    {
      "cell_type": "markdown",
      "metadata": {
        "id": "p9QLc4ENNTDV"
      },
      "source": [
        "## Listing 4.16 Compiling the model"
      ]
    },
    {
      "cell_type": "code",
      "execution_count": null,
      "metadata": {
        "id": "fmVBWx4jNViE"
      },
      "outputs": [],
      "source": [
        "model.compile(optimizer=\"rmsprop\",\n",
        "              loss=\"categorical_crossentropy\",\n",
        "              metrics=[\"accuracy\"])"
      ]
    },
    {
      "cell_type": "markdown",
      "metadata": {
        "id": "QWxLbHy2NilS"
      },
      "source": [
        "## Listing 4.17 Setting aside a validation set"
      ]
    },
    {
      "cell_type": "code",
      "execution_count": null,
      "metadata": {
        "id": "sMU91NLPNllK"
      },
      "outputs": [],
      "source": [
        "x_val = x_train[:1000]\n",
        "partial_x_train = x_train[1000:]\n",
        "y_val = y_train[:1000]\n",
        "partial_y_train = y_train[1000:]"
      ]
    },
    {
      "cell_type": "markdown",
      "metadata": {
        "id": "AYmQyDKCN6LI"
      },
      "source": [
        "## Listing 4.18 Training the model"
      ]
    },
    {
      "cell_type": "code",
      "execution_count": null,
      "metadata": {
        "colab": {
          "base_uri": "https://localhost:8080/"
        },
        "id": "BqpvA2zsOBgG",
        "outputId": "ec6f80db-03f9-41da-bd11-fd3100f150d5"
      },
      "outputs": [
        {
          "name": "stdout",
          "output_type": "stream",
          "text": [
            "Epoch 1/20\n",
            "16/16 [==============================] - 2s 39ms/step - loss: 2.6810 - accuracy: 0.4931 - val_loss: 1.7866 - val_accuracy: 0.6190\n",
            "Epoch 2/20\n",
            "16/16 [==============================] - 0s 19ms/step - loss: 1.5149 - accuracy: 0.6698 - val_loss: 1.3643 - val_accuracy: 0.6830\n",
            "Epoch 3/20\n",
            "16/16 [==============================] - 0s 17ms/step - loss: 1.1628 - accuracy: 0.7419 - val_loss: 1.1763 - val_accuracy: 0.7360\n",
            "Epoch 4/20\n",
            "16/16 [==============================] - 0s 18ms/step - loss: 0.9537 - accuracy: 0.7894 - val_loss: 1.0618 - val_accuracy: 0.7660\n",
            "Epoch 5/20\n",
            "16/16 [==============================] - 0s 17ms/step - loss: 0.7978 - accuracy: 0.8236 - val_loss: 1.0176 - val_accuracy: 0.7720\n",
            "Epoch 6/20\n",
            "16/16 [==============================] - 0s 16ms/step - loss: 0.6706 - accuracy: 0.8574 - val_loss: 0.9620 - val_accuracy: 0.7930\n",
            "Epoch 7/20\n",
            "16/16 [==============================] - 0s 17ms/step - loss: 0.5598 - accuracy: 0.8821 - val_loss: 0.9225 - val_accuracy: 0.7980\n",
            "Epoch 8/20\n",
            "16/16 [==============================] - 0s 19ms/step - loss: 0.4731 - accuracy: 0.9024 - val_loss: 0.9324 - val_accuracy: 0.7820\n",
            "Epoch 9/20\n",
            "16/16 [==============================] - 0s 19ms/step - loss: 0.3998 - accuracy: 0.9179 - val_loss: 0.8888 - val_accuracy: 0.8100\n",
            "Epoch 10/20\n",
            "16/16 [==============================] - 0s 17ms/step - loss: 0.3399 - accuracy: 0.9300 - val_loss: 0.9111 - val_accuracy: 0.8030\n",
            "Epoch 11/20\n",
            "16/16 [==============================] - 0s 17ms/step - loss: 0.2913 - accuracy: 0.9376 - val_loss: 0.8766 - val_accuracy: 0.8170\n",
            "Epoch 12/20\n",
            "16/16 [==============================] - 0s 17ms/step - loss: 0.2606 - accuracy: 0.9406 - val_loss: 0.8920 - val_accuracy: 0.8090\n",
            "Epoch 13/20\n",
            "16/16 [==============================] - 0s 19ms/step - loss: 0.2275 - accuracy: 0.9489 - val_loss: 0.9167 - val_accuracy: 0.7980\n",
            "Epoch 14/20\n",
            "16/16 [==============================] - 0s 17ms/step - loss: 0.2049 - accuracy: 0.9504 - val_loss: 0.8929 - val_accuracy: 0.8110\n",
            "Epoch 15/20\n",
            "16/16 [==============================] - 0s 17ms/step - loss: 0.1854 - accuracy: 0.9513 - val_loss: 0.9086 - val_accuracy: 0.8080\n",
            "Epoch 16/20\n",
            "16/16 [==============================] - 0s 20ms/step - loss: 0.1710 - accuracy: 0.9540 - val_loss: 0.9893 - val_accuracy: 0.7950\n",
            "Epoch 17/20\n",
            "16/16 [==============================] - 0s 19ms/step - loss: 0.1613 - accuracy: 0.9541 - val_loss: 0.9311 - val_accuracy: 0.8090\n",
            "Epoch 18/20\n",
            "16/16 [==============================] - 0s 17ms/step - loss: 0.1474 - accuracy: 0.9568 - val_loss: 0.9474 - val_accuracy: 0.8130\n",
            "Epoch 19/20\n",
            "16/16 [==============================] - 0s 16ms/step - loss: 0.1392 - accuracy: 0.9559 - val_loss: 0.9929 - val_accuracy: 0.8070\n",
            "Epoch 20/20\n",
            "16/16 [==============================] - 0s 16ms/step - loss: 0.1334 - accuracy: 0.9574 - val_loss: 0.9683 - val_accuracy: 0.8130\n"
          ]
        }
      ],
      "source": [
        "history = model.fit(partial_x_train,\n",
        "                    partial_y_train,\n",
        "                    epochs=20,\n",
        "                    batch_size=512,\n",
        "                    validation_data=(x_val, y_val))"
      ]
    },
    {
      "cell_type": "markdown",
      "metadata": {
        "id": "JjYeOxtTOUc1"
      },
      "source": [
        "## Listing 4.19 Plotting the training and validation loss"
      ]
    },
    {
      "cell_type": "code",
      "execution_count": null,
      "metadata": {
        "colab": {
          "base_uri": "https://localhost:8080/",
          "height": 472
        },
        "id": "-3oJCCkNOW3Q",
        "outputId": "fff60b3c-2f5c-492b-b243-bf67a7b275fa"
      },
      "outputs": [
        {
          "data": {
            "image/png": "[encoded data removed]",
            "text/plain": [
              "<Figure size 640x480 with 1 Axes>"
            ]
          },
          "metadata": {},
          "output_type": "display_data"
        }
      ],
      "source": [
        "loss = history.history[\"loss\"]\n",
        "val_loss = history.history[\"val_loss\"]\n",
        "epochs = range(1, len(loss) + 1)\n",
        "plt.plot(epochs, loss, \"bo\", label=\"Training loss\")\n",
        "plt.plot(epochs, val_loss, \"b\", label=\"Validation loss\")\n",
        "plt.title(\"Training and validation loss\")\n",
        "plt.xlabel(\"Epochs\")\n",
        "plt.ylabel(\"Loss\")\n",
        "plt.legend()\n",
        "plt.show()"
      ]
    },
    {
      "cell_type": "markdown",
      "metadata": {
        "id": "g8Yiyvb8O1zz"
      },
      "source": [
        "## Listing 4.20 Plotting the training and validation accuracy"
      ]
    },
    {
      "cell_type": "code",
      "execution_count": null,
      "metadata": {
        "colab": {
          "base_uri": "https://localhost:8080/",
          "height": 472
        },
        "id": "C3I0M04vO5NS",
        "outputId": "454d4354-1530-4c0e-81e4-c71d997b31e1"
      },
      "outputs": [
        {
          "data": {
            "image/png": "[encoded data removed]",
            "text/plain": [
              "<Figure size 640x480 with 1 Axes>"
            ]
          },
          "metadata": {},
          "output_type": "display_data"
        }
      ],
      "source": [
        "plt.clf()\n",
        "acc = history.history[\"accuracy\"]\n",
        "val_acc = history.history[\"val_accuracy\"]\n",
        "plt.plot(epochs, acc, \"bo\", label=\"Training accuracy\")\n",
        "plt.plot(epochs, val_acc, \"b\", label=\"Validation accuracy\")\n",
        "plt.title(\"Training and validation accuracy\")\n",
        "plt.xlabel(\"Epochs\")\n",
        "plt.ylabel(\"Accuracy\")\n",
        "plt.legend()\n",
        "plt.show()"
      ]
    },
    {
      "cell_type": "markdown",
      "metadata": {
        "id": "pjY3wvyUPYs-"
      },
      "source": [
        "## Listing 4.21 Retraining a model from scratch"
      ]
    },
    {
      "cell_type": "code",
      "execution_count": null,
      "metadata": {
        "colab": {
          "base_uri": "https://localhost:8080/"
        },
        "id": "c5gvG1HgPcFm",
        "outputId": "f0f72b0e-19f5-495c-d1dc-5f002df7a220"
      },
      "outputs": [
        {
          "name": "stdout",
          "output_type": "stream",
          "text": [
            "Epoch 1/9\n",
            "18/18 [==============================] - 1s 14ms/step - loss: 2.7168 - accuracy: 0.4939\n",
            "Epoch 2/9\n",
            "18/18 [==============================] - 0s 14ms/step - loss: 1.5313 - accuracy: 0.6799\n",
            "Epoch 3/9\n",
            "18/18 [==============================] - 0s 14ms/step - loss: 1.1551 - accuracy: 0.7543\n",
            "Epoch 4/9\n",
            "18/18 [==============================] - 0s 13ms/step - loss: 0.9302 - accuracy: 0.8016\n",
            "Epoch 5/9\n",
            "18/18 [==============================] - 0s 14ms/step - loss: 0.7613 - accuracy: 0.8382\n",
            "Epoch 6/9\n",
            "18/18 [==============================] - 0s 14ms/step - loss: 0.6320 - accuracy: 0.8672\n",
            "Epoch 7/9\n",
            "18/18 [==============================] - 0s 14ms/step - loss: 0.5329 - accuracy: 0.8906\n",
            "Epoch 8/9\n",
            "18/18 [==============================] - 0s 14ms/step - loss: 0.4501 - accuracy: 0.9074\n",
            "Epoch 9/9\n",
            "18/18 [==============================] - 0s 13ms/step - loss: 0.3807 - accuracy: 0.9187\n",
            "71/71 [==============================] - 0s 3ms/step - loss: 0.9065 - accuracy: 0.7996\n",
            "[0.9064648151397705, 0.7996438145637512]\n"
          ]
        }
      ],
      "source": [
        "model = keras.Sequential([\n",
        "    layers.Dense(64, activation=\"relu\"),\n",
        "    layers.Dense(64, activation=\"relu\"),\n",
        "    layers.Dense(46, activation=\"softmax\")\n",
        "])\n",
        "model.compile(optimizer=\"rmsprop\",\n",
        "              loss=\"categorical_crossentropy\",\n",
        "              metrics=[\"accuracy\"])\n",
        "model.fit(x_train,\n",
        "          y_train,\n",
        "          epochs=9,\n",
        "          batch_size=512)\n",
        "results = model.evaluate(x_test, y_test)\n",
        "print(results)"
      ]
    },
    {
      "cell_type": "code",
      "execution_count": null,
      "metadata": {
        "colab": {
          "base_uri": "https://localhost:8080/"
        },
        "id": "fVYgJeuLP_GA",
        "outputId": "d0877492-56a3-4526-a644-50cb9b4f6c82"
      },
      "outputs": [
        {
          "name": "stdout",
          "output_type": "stream",
          "text": [
            "0.1923419412288513\n"
          ]
        }
      ],
      "source": [
        "import copy\n",
        "test_labels_copy = copy.copy(test_labels)\n",
        "np.random.shuffle(test_labels_copy)\n",
        "hits_array = np.array(test_labels) == np.array(test_labels_copy)\n",
        "print(hits_array.mean())"
      ]
    },
    {
      "cell_type": "code",
      "execution_count": null,
      "metadata": {
        "colab": {
          "base_uri": "https://localhost:8080/"
        },
        "id": "kHDumIP-QWKo",
        "outputId": "337a2f43-912e-4f31-d7e6-e34171ae19e0"
      },
      "outputs": [
        {
          "name": "stdout",
          "output_type": "stream",
          "text": [
            "71/71 [==============================] - 0s 3ms/step\n",
            "(46,)\n"
          ]
        }
      ],
      "source": [
        "predictions = model.predict(x_test)\n",
        "print(predictions[0].shape)"
      ]
    },
    {
      "cell_type": "code",
      "execution_count": null,
      "metadata": {
        "colab": {
          "base_uri": "https://localhost:8080/"
        },
        "id": "8nezglPVQjW6",
        "outputId": "62509fd8-4a66-4372-ab51-f78bdffbd23b"
      },
      "outputs": [
        {
          "name": "stdout",
          "output_type": "stream",
          "text": [
            "0.99999994\n"
          ]
        }
      ],
      "source": [
        "print(np.sum(predictions[0]))"
      ]
    },
    {
      "cell_type": "code",
      "execution_count": null,
      "metadata": {
        "colab": {
          "base_uri": "https://localhost:8080/"
        },
        "id": "r-k3IzXEQm8J",
        "outputId": "ed60f894-4e5b-49c4-e869-7ee87350c8b6"
      },
      "outputs": [
        {
          "name": "stdout",
          "output_type": "stream",
          "text": [
            "3\n"
          ]
        }
      ],
      "source": [
        "print(np.argmax(predictions[0]))"
      ]
    },
    {
      "cell_type": "code",
      "execution_count": null,
      "metadata": {
        "id": "XcrWVzqDQsTv"
      },
      "outputs": [],
      "source": [
        "# different way to handle labels and loss: cast them to integer tensor\n",
        "y_train = np.array(train_labels)\n",
        "y_test = np.array(test_labels)"
      ]
    },
    {
      "cell_type": "code",
      "execution_count": null,
      "metadata": {
        "id": "xDWIXLtaQ1_2"
      },
      "outputs": [],
      "source": [
        "model.compile(optimizer=\"rmsprop\",\n",
        "              loss=\"sparse_categorical_crossentropy\",\n",
        "              metrics=[\"accuracy\"])"
      ]
    },
    {
      "cell_type": "markdown",
      "metadata": {
        "id": "-Q5BDhlpRQHu"
      },
      "source": [
        "## Listing 4.22 A model with an information bottleneck"
      ]
    },
    {
      "cell_type": "code",
      "execution_count": null,
      "metadata": {
        "colab": {
          "base_uri": "https://localhost:8080/"
        },
        "id": "P8ryYS6aRTRu",
        "outputId": "7e4d2eb1-73f6-41c8-ba72-1e1019fd7b7a"
      },
      "outputs": [
        {
          "name": "stdout",
          "output_type": "stream",
          "text": [
            "Epoch 1/20\n",
            "63/63 [==============================] - 2s 11ms/step - loss: 2.8219 - accuracy: 0.5106 - val_loss: 2.0959 - val_accuracy: 0.5690\n",
            "Epoch 2/20\n",
            "63/63 [==============================] - 0s 7ms/step - loss: 1.7821 - accuracy: 0.5854 - val_loss: 1.6959 - val_accuracy: 0.5850\n",
            "Epoch 3/20\n",
            "63/63 [==============================] - 0s 6ms/step - loss: 1.5018 - accuracy: 0.5998 - val_loss: 1.5524 - val_accuracy: 0.6020\n",
            "Epoch 4/20\n",
            "63/63 [==============================] - 0s 7ms/step - loss: 1.3661 - accuracy: 0.6465 - val_loss: 1.4865 - val_accuracy: 0.6270\n",
            "Epoch 5/20\n",
            "63/63 [==============================] - 0s 6ms/step - loss: 1.2733 - accuracy: 0.6599 - val_loss: 1.4553 - val_accuracy: 0.6320\n",
            "Epoch 6/20\n",
            "63/63 [==============================] - 0s 7ms/step - loss: 1.1946 - accuracy: 0.6671 - val_loss: 1.4254 - val_accuracy: 0.6330\n",
            "Epoch 7/20\n",
            "63/63 [==============================] - 1s 9ms/step - loss: 1.1291 - accuracy: 0.6828 - val_loss: 1.4067 - val_accuracy: 0.6370\n",
            "Epoch 8/20\n",
            "63/63 [==============================] - 1s 9ms/step - loss: 1.0520 - accuracy: 0.7186 - val_loss: 1.4120 - val_accuracy: 0.6630\n",
            "Epoch 9/20\n",
            "63/63 [==============================] - 1s 10ms/step - loss: 0.9657 - accuracy: 0.7462 - val_loss: 1.3631 - val_accuracy: 0.6870\n",
            "Epoch 10/20\n",
            "63/63 [==============================] - 1s 9ms/step - loss: 0.8987 - accuracy: 0.7652 - val_loss: 1.3538 - val_accuracy: 0.6940\n",
            "Epoch 11/20\n",
            "63/63 [==============================] - 1s 9ms/step - loss: 0.8409 - accuracy: 0.7742 - val_loss: 1.3536 - val_accuracy: 0.6950\n",
            "Epoch 12/20\n",
            "63/63 [==============================] - 0s 6ms/step - loss: 0.7902 - accuracy: 0.7834 - val_loss: 1.3679 - val_accuracy: 0.7050\n",
            "Epoch 13/20\n",
            "63/63 [==============================] - 0s 6ms/step - loss: 0.7473 - accuracy: 0.7904 - val_loss: 1.4074 - val_accuracy: 0.6890\n",
            "Epoch 14/20\n",
            "63/63 [==============================] - 0s 7ms/step - loss: 0.7106 - accuracy: 0.7977 - val_loss: 1.4193 - val_accuracy: 0.7010\n",
            "Epoch 15/20\n",
            "63/63 [==============================] - 0s 7ms/step - loss: 0.6747 - accuracy: 0.8047 - val_loss: 1.4258 - val_accuracy: 0.7070\n",
            "Epoch 16/20\n",
            "63/63 [==============================] - 0s 7ms/step - loss: 0.6436 - accuracy: 0.8152 - val_loss: 1.4723 - val_accuracy: 0.7130\n",
            "Epoch 17/20\n",
            "63/63 [==============================] - 0s 6ms/step - loss: 0.6129 - accuracy: 0.8274 - val_loss: 1.4714 - val_accuracy: 0.7130\n",
            "Epoch 18/20\n",
            "63/63 [==============================] - 0s 7ms/step - loss: 0.5849 - accuracy: 0.8391 - val_loss: 1.5645 - val_accuracy: 0.7150\n",
            "Epoch 19/20\n",
            "63/63 [==============================] - 0s 7ms/step - loss: 0.5601 - accuracy: 0.8495 - val_loss: 1.5705 - val_accuracy: 0.7160\n",
            "Epoch 20/20\n",
            "63/63 [==============================] - 0s 6ms/step - loss: 0.5375 - accuracy: 0.8572 - val_loss: 1.5957 - val_accuracy: 0.7150\n"
          ]
        },
        {
          "data": {
            "text/plain": [
              "<keras.src.callbacks.History at 0x7cd49416f070>"
            ]
          },
          "execution_count": 33,
          "metadata": {},
          "output_type": "execute_result"
        }
      ],
      "source": [
        "model = keras.Sequential([\n",
        "    layers.Dense(64, activation=\"relu\"),\n",
        "    layers.Dense(4, activation=\"relu\"),\n",
        "    layers.Dense(46, activation=\"softmax\")\n",
        "])\n",
        "model.compile(optimizer=\"rmsprop\",\n",
        "              loss=\"categorical_crossentropy\",\n",
        "              metrics=[\"accuracy\"])\n",
        "model.fit(partial_x_train,\n",
        "          partial_y_train,\n",
        "          epochs=20,\n",
        "          batch_size=128,\n",
        "          validation_data=(x_val, y_val))"
      ]
    },
    {
      "cell_type": "markdown",
      "metadata": {
        "id": "daA63O65S0oQ"
      },
      "source": [
        "## Listing 4.23 Loading the Boston housing dataset"
      ]
    },
    {
      "cell_type": "code",
      "execution_count": null,
      "metadata": {
        "colab": {
          "base_uri": "https://localhost:8080/"
        },
        "id": "tdWxtIp9S4j0",
        "outputId": "59edc820-02c1-45cc-9b86-ff3e035a8f07"
      },
      "outputs": [
        {
          "name": "stdout",
          "output_type": "stream",
          "text": [
            "Downloading data from https://storage.googleapis.com/tensorflow/tf-keras-datasets/boston_housing.npz\n",
            "57026/57026 [==============================] - 0s 0us/step\n"
          ]
        }
      ],
      "source": [
        "from tensorflow.keras.datasets import boston_housing\n",
        "(train_data, train_targets), (test_data, test_targets) = boston_housing.load_data()"
      ]
    },
    {
      "cell_type": "code",
      "execution_count": null,
      "metadata": {
        "colab": {
          "base_uri": "https://localhost:8080/"
        },
        "id": "Vj1IpAUYVbGy",
        "outputId": "6b25e8c2-287d-49b4-c6a3-9171588129a6"
      },
      "outputs": [
        {
          "name": "stdout",
          "output_type": "stream",
          "text": [
            "(404, 13)\n"
          ]
        }
      ],
      "source": [
        "print(train_data.shape)"
      ]
    },
    {
      "cell_type": "code",
      "execution_count": null,
      "metadata": {
        "colab": {
          "base_uri": "https://localhost:8080/"
        },
        "id": "wPldVfLdVd7E",
        "outputId": "66562dcf-4134-415b-c2f4-d36b728c53a5"
      },
      "outputs": [
        {
          "name": "stdout",
          "output_type": "stream",
          "text": [
            "(102, 13)\n"
          ]
        }
      ],
      "source": [
        "print(test_data.shape)"
      ]
    },
    {
      "cell_type": "code",
      "execution_count": null,
      "metadata": {
        "colab": {
          "base_uri": "https://localhost:8080/"
        },
        "id": "jek23M9EVfge",
        "outputId": "82b0b31d-7b28-4531-d806-d3e9310fda8f"
      },
      "outputs": [
        {
          "name": "stdout",
          "output_type": "stream",
          "text": [
            "[15.2 42.3 50.  21.1 17.7 18.5 11.3 15.6 15.6 14.4 12.1 17.9 23.1 19.9\n",
            " 15.7  8.8 50.  22.5 24.1 27.5 10.9 30.8 32.9 24.  18.5 13.3 22.9 34.7\n",
            " 16.6 17.5 22.3 16.1 14.9 23.1 34.9 25.  13.9 13.1 20.4 20.  15.2 24.7\n",
            " 22.2 16.7 12.7 15.6 18.4 21.  30.1 15.1 18.7  9.6 31.5 24.8 19.1 22.\n",
            " 14.5 11.  32.  29.4 20.3 24.4 14.6 19.5 14.1 14.3 15.6 10.5  6.3 19.3\n",
            " 19.3 13.4 36.4 17.8 13.5 16.5  8.3 14.3 16.  13.4 28.6 43.5 20.2 22.\n",
            " 23.  20.7 12.5 48.5 14.6 13.4 23.7 50.  21.7 39.8 38.7 22.2 34.9 22.5\n",
            " 31.1 28.7 46.  41.7 21.  26.6 15.  24.4 13.3 21.2 11.7 21.7 19.4 50.\n",
            " 22.8 19.7 24.7 36.2 14.2 18.9 18.3 20.6 24.6 18.2  8.7 44.  10.4 13.2\n",
            " 21.2 37.  30.7 22.9 20.  19.3 31.7 32.  23.1 18.8 10.9 50.  19.6  5.\n",
            " 14.4 19.8 13.8 19.6 23.9 24.5 25.  19.9 17.2 24.6 13.5 26.6 21.4 11.9\n",
            " 22.6 19.6  8.5 23.7 23.1 22.4 20.5 23.6 18.4 35.2 23.1 27.9 20.6 23.7\n",
            " 28.  13.6 27.1 23.6 20.6 18.2 21.7 17.1  8.4 25.3 13.8 22.2 18.4 20.7\n",
            " 31.6 30.5 20.3  8.8 19.2 19.4 23.1 23.  14.8 48.8 22.6 33.4 21.1 13.6\n",
            " 32.2 13.1 23.4 18.9 23.9 11.8 23.3 22.8 19.6 16.7 13.4 22.2 20.4 21.8\n",
            " 26.4 14.9 24.1 23.8 12.3 29.1 21.  19.5 23.3 23.8 17.8 11.5 21.7 19.9\n",
            " 25.  33.4 28.5 21.4 24.3 27.5 33.1 16.2 23.3 48.3 22.9 22.8 13.1 12.7\n",
            " 22.6 15.  15.3 10.5 24.  18.5 21.7 19.5 33.2 23.2  5.  19.1 12.7 22.3\n",
            " 10.2 13.9 16.3 17.  20.1 29.9 17.2 37.3 45.4 17.8 23.2 29.  22.  18.\n",
            " 17.4 34.6 20.1 25.  15.6 24.8 28.2 21.2 21.4 23.8 31.  26.2 17.4 37.9\n",
            " 17.5 20.   8.3 23.9  8.4 13.8  7.2 11.7 17.1 21.6 50.  16.1 20.4 20.6\n",
            " 21.4 20.6 36.5  8.5 24.8 10.8 21.9 17.3 18.9 36.2 14.9 18.2 33.3 21.8\n",
            " 19.7 31.6 24.8 19.4 22.8  7.5 44.8 16.8 18.7 50.  50.  19.5 20.1 50.\n",
            " 17.2 20.8 19.3 41.3 20.4 20.5 13.8 16.5 23.9 20.6 31.5 23.3 16.8 14.\n",
            " 33.8 36.1 12.8 18.3 18.7 19.1 29.  30.1 50.  50.  22.  11.9 37.6 50.\n",
            " 22.7 20.8 23.5 27.9 50.  19.3 23.9 22.6 15.2 21.7 19.2 43.8 20.3 33.2\n",
            " 19.9 22.5 32.7 22.  17.1 19.  15.  16.1 25.1 23.7 28.7 37.2 22.6 16.4\n",
            " 25.  29.8 22.1 17.4 18.1 30.3 17.5 24.7 12.6 26.5 28.7 13.3 10.4 24.4\n",
            " 23.  20.  17.8  7.  11.8 24.4 13.8 19.4 25.2 19.4 19.4 29.1]\n"
          ]
        }
      ],
      "source": [
        "print(train_targets)"
      ]
    },
    {
      "cell_type": "markdown",
      "metadata": {
        "id": "J6_bPvZtWIYr"
      },
      "source": [
        "## Listing 4.24 Normalizing the data"
      ]
    },
    {
      "cell_type": "code",
      "execution_count": null,
      "metadata": {
        "id": "r82faZ5ZWLei"
      },
      "outputs": [],
      "source": [
        "mean = train_data.mean(axis=0)\n",
        "train_data -= mean\n",
        "std = train_data.std(axis=0)\n",
        "train_data /= std\n",
        "test_data -= mean\n",
        "test_data /= std"
      ]
    },
    {
      "cell_type": "code",
      "execution_count": null,
      "metadata": {
        "colab": {
          "base_uri": "https://localhost:8080/"
        },
        "id": "64E6nyLsWvHQ",
        "outputId": "ea45e6d9-bc89-4212-8a03-54c0165b0bb3"
      },
      "outputs": [
        {
          "name": "stdout",
          "output_type": "stream",
          "text": [
            "[[ 1.55369355 -0.48361547  1.0283258  ...  0.78447637 -3.48459553\n",
            "   2.25092074]\n",
            " [-0.39242675 -0.48361547 -0.16087773 ... -0.30759583  0.42733126\n",
            "   0.47880119]\n",
            " [-0.39982927 -0.48361547 -0.86940196 ...  0.78447637  0.44807713\n",
            "  -0.41415936]\n",
            " ...\n",
            " [-0.20709507 -0.48361547  1.24588095 ... -1.71818909  0.37051949\n",
            "  -1.49344089]\n",
            " [-0.36698601 -0.48361547 -0.72093526 ... -0.48960787  0.39275481\n",
            "  -0.41829982]\n",
            " [-0.0889679  -0.48361547  1.24588095 ... -1.71818909 -1.21946544\n",
            "  -0.40449827]]\n"
          ]
        }
      ],
      "source": [
        "print(test_data)"
      ]
    },
    {
      "cell_type": "markdown",
      "metadata": {
        "id": "lT3PIFBPW6-D"
      },
      "source": [
        "## Listing 4.25 Model Definition"
      ]
    },
    {
      "cell_type": "code",
      "execution_count": null,
      "metadata": {
        "id": "z62NTyquWzpM"
      },
      "outputs": [],
      "source": [
        "def build_model():\n",
        "  model = keras.Sequential([\n",
        "      layers.Dense(64, activation=\"relu\"),\n",
        "      layers.Dense(64, activation=\"relu\"),\n",
        "      layers.Dense(1)\n",
        "  ])\n",
        "  model.compile(optimizer=\"rmsprop\", loss=\"mse\", metrics=[\"mae\"])\n",
        "  return model\n"
      ]
    },
    {
      "cell_type": "markdown",
      "metadata": {
        "id": "hJgzWayIXk7w"
      },
      "source": [
        "## Listing K-fold validation"
      ]
    },
    {
      "cell_type": "code",
      "execution_count": null,
      "metadata": {
        "colab": {
          "base_uri": "https://localhost:8080/"
        },
        "id": "z6GCp13GXckW",
        "outputId": "f795a435-d4de-4355-a43d-7ef21cf2ac43"
      },
      "outputs": [
        {
          "name": "stdout",
          "output_type": "stream",
          "text": [
            "Processing fold #0\n",
            "Processing fold #1\n",
            "Processing fold #2\n",
            "Processing fold #3\n"
          ]
        }
      ],
      "source": [
        "k = 4\n",
        "num_val_samples = len(train_data) // k\n",
        "num_epochs = 100\n",
        "all_scores = []\n",
        "for i in range(k):\n",
        "  print(f\"Processing fold #{i}\")\n",
        "  val_data = train_data[i * num_val_samples: (i + 1) * num_val_samples]\n",
        "  val_targets = train_targets[i * num_val_samples: (i + 1) * num_val_samples]\n",
        "  partial_train_data = np.concatenate(\n",
        "      [train_data[:i * num_val_samples],\n",
        "       train_data[(i + 1) * num_val_samples:]],\n",
        "      axis=0)\n",
        "  partial_train_targets = np.concatenate(\n",
        "      [train_targets[:i * num_val_samples],\n",
        "       train_targets[(i + 1) * num_val_samples:]],\n",
        "      axis=0)\n",
        "  model = build_model()\n",
        "  model.fit(partial_train_data, partial_train_targets,\n",
        "            epochs=num_epochs, batch_size=16, verbose=0)\n",
        "  val_mse, val_mae = model.evaluate(val_data, val_targets, verbose=0)\n",
        "  all_scores.append(val_mae)\n"
      ]
    },
    {
      "cell_type": "code",
      "execution_count": null,
      "metadata": {
        "colab": {
          "base_uri": "https://localhost:8080/"
        },
        "id": "3MQkQ98wdF5l",
        "outputId": "c94bf980-6785-4d2f-ae49-27771f2ba0ea"
      },
      "outputs": [
        {
          "name": "stdout",
          "output_type": "stream",
          "text": [
            "[2.0025887489318848, 2.4383976459503174, 2.5118489265441895, 2.4299283027648926]\n"
          ]
        }
      ],
      "source": [
        "print(all_scores)"
      ]
    },
    {
      "cell_type": "code",
      "execution_count": null,
      "metadata": {
        "colab": {
          "base_uri": "https://localhost:8080/"
        },
        "id": "vwlkiEnNdcV7",
        "outputId": "4b16e9cf-7c3d-4a7f-8e4e-c782873a54c5"
      },
      "outputs": [
        {
          "name": "stdout",
          "output_type": "stream",
          "text": [
            "2.345690906047821\n"
          ]
        }
      ],
      "source": [
        "print(np.mean(all_scores))"
      ]
    },
    {
      "cell_type": "markdown",
      "metadata": {
        "id": "tDWSAl7Qdia7"
      },
      "source": [
        "## Listing 4.27 Saving the validation logs at each fold"
      ]
    },
    {
      "cell_type": "code",
      "execution_count": null,
      "metadata": {
        "colab": {
          "base_uri": "https://localhost:8080/"
        },
        "id": "COrOdz7xdhAS",
        "outputId": "e3aa593e-8a40-43f5-cf81-f68fb3584e8e"
      },
      "outputs": [
        {
          "name": "stdout",
          "output_type": "stream",
          "text": [
            "Processing fold #0\n",
            "Processing fold #1\n",
            "Processing fold #2\n",
            "Processing fold #3\n"
          ]
        }
      ],
      "source": [
        "num_epochs = 500\n",
        "all_mae_histories = []\n",
        "for i in range(k):\n",
        "  print(f\"Processing fold #{i}\")\n",
        "  val_data = train_data[i * num_val_samples: (i + 1) * num_val_samples]\n",
        "  val_targets = train_targets[i * num_val_samples: (i + 1) * num_val_samples]\n",
        "  partial_train_data = np.concatenate(\n",
        "      [train_data[:i * num_val_samples],\n",
        "       train_data[(i + 1) * num_val_samples:]],\n",
        "      axis=0)\n",
        "  partial_train_targets = np.concatenate(\n",
        "      [train_targets[:i * num_val_samples],\n",
        "       train_targets[(i + 1) * num_val_samples:]],\n",
        "      axis=0)\n",
        "  model = build_model()\n",
        "  history = model.fit(partial_train_data, partial_train_targets,\n",
        "                      validation_data=(val_data, val_targets),\n",
        "                      epochs=num_epochs, batch_size=16, verbose=0)\n",
        "  mae_history = history.history[\"val_mae\"]\n",
        "  all_mae_histories.append(mae_history)\n",
        "\n"
      ]
    },
    {
      "cell_type": "markdown",
      "metadata": {
        "id": "l17OlTzefMKG"
      },
      "source": [
        "## Listing 4.28 Building the history of successive mean K-fold validation scores"
      ]
    },
    {
      "cell_type": "code",
      "execution_count": null,
      "metadata": {
        "id": "ZJ0fm5wYeuAr"
      },
      "outputs": [],
      "source": [
        "average_mae_history = [np.mean([x[i] for x in all_mae_histories]) for i in range(num_epochs)]"
      ]
    },
    {
      "cell_type": "markdown",
      "metadata": {
        "id": "-1bo9PqXf_Vw"
      },
      "source": [
        "## Listing 4.29 Plotting validation scores"
      ]
    },
    {
      "cell_type": "code",
      "execution_count": null,
      "metadata": {
        "colab": {
          "base_uri": "https://localhost:8080/",
          "height": 449
        },
        "id": "BFa1GQh9f8Av",
        "outputId": "1589812b-d258-44aa-db3c-c27596418397"
      },
      "outputs": [
        {
          "data": {
            "image/png": "[encoded data removed]",
            "text/plain": [
              "<Figure size 640x480 with 1 Axes>"
            ]
          },
          "metadata": {},
          "output_type": "display_data"
        }
      ],
      "source": [
        "plt.plot(range(1, len(average_mae_history) +1), average_mae_history)\n",
        "plt.xlabel(\"Epochs\")\n",
        "plt.ylabel(\"Validation MAE\")\n",
        "plt.show()"
      ]
    },
    {
      "cell_type": "markdown",
      "metadata": {
        "id": "IHmCF85QgTzU"
      },
      "source": [
        "## Listing 4.30 Plotting validation scores, excluding the first 10 data points"
      ]
    },
    {
      "cell_type": "code",
      "execution_count": null,
      "metadata": {
        "colab": {
          "base_uri": "https://localhost:8080/",
          "height": 449
        },
        "id": "ouhIwMx6gP9M",
        "outputId": "f68338ae-8c95-4362-f3c3-40a322c23c8a"
      },
      "outputs": [
        {
          "data": {
            "image/png": "[encoded data removed]",
            "text/plain": [
              "<Figure size 640x480 with 1 Axes>"
            ]
          },
          "metadata": {},
          "output_type": "display_data"
        }
      ],
      "source": [
        "truncated_mae_history = average_mae_history[10:]\n",
        "plt.plot(range(1, len(truncated_mae_history) + 1), truncated_mae_history)\n",
        "plt.xlabel(\"Epochs\")\n",
        "plt.ylabel(\"Validation MAE\")\n",
        "plt.show()"
      ]
    },
    {
      "cell_type": "markdown",
      "metadata": {
        "id": "dkzSssGqguVv"
      },
      "source": [
        "## Listing 4.31 Training the final model"
      ]
    },
    {
      "cell_type": "code",
      "execution_count": null,
      "metadata": {
        "colab": {
          "base_uri": "https://localhost:8080/"
        },
        "id": "8TV7pdq2gjLT",
        "outputId": "3515d682-fc38-4814-f50f-867d9f2c694a"
      },
      "outputs": [
        {
          "name": "stdout",
          "output_type": "stream",
          "text": [
            "4/4 [==============================] - 0s 5ms/step - loss: 16.3931 - mae: 2.5309\n"
          ]
        }
      ],
      "source": [
        "model = build_model()\n",
        "model.fit(train_data, train_targets,\n",
        "          epochs=130, batch_size=16, verbose=0)\n",
        "test_mse_score, test_mae_score = model.evaluate(test_data, test_targets)"
      ]
    },
    {
      "cell_type": "code",
      "execution_count": null,
      "metadata": {
        "colab": {
          "base_uri": "https://localhost:8080/"
        },
        "id": "JU4smULWg9Nm",
        "outputId": "70a66180-9a41-49c8-f38a-2931ea2d8e82"
      },
      "outputs": [
        {
          "name": "stdout",
          "output_type": "stream",
          "text": [
            "2.530907154083252\n"
          ]
        }
      ],
      "source": [
        "print(test_mae_score)"
      ]
    },
    {
      "cell_type": "code",
      "execution_count": null,
      "metadata": {
        "colab": {
          "base_uri": "https://localhost:8080/"
        },
        "id": "wLbM5wibhQrz",
        "outputId": "028f284b-fd12-43a0-ae76-08ec526550de"
      },
      "outputs": [
        {
          "name": "stdout",
          "output_type": "stream",
          "text": [
            "4/4 [==============================] - 0s 2ms/step\n",
            "[7.882922]\n"
          ]
        }
      ],
      "source": [
        "predictions = model.predict(test_data)\n",
        "print(predictions[0])"
      ]
    },
    {
      "cell_type": "markdown",
      "metadata": {
        "id": "c_4Y1CK73ykB"
      },
      "source": [
        "# Chapter 5: Fundamentals of machine Learning"
      ]
    },
    {
      "cell_type": "markdown",
      "metadata": {
        "id": "_92x4q70327_"
      },
      "source": [
        "## Listing 5.1 Adding white noise channels or all-zeros channels to MNIST"
      ]
    },
    {
      "cell_type": "code",
      "execution_count": 2,
      "metadata": {
        "colab": {
          "base_uri": "https://localhost:8080/"
        },
        "id": "XBxwoZwb4bOF",
        "outputId": "0f06d31e-2511-462e-a863-4d94fe7c5072"
      },
      "outputs": [
        {
          "name": "stdout",
          "output_type": "stream",
          "text": [
            "Downloading data from https://storage.googleapis.com/tensorflow/tf-keras-datasets/mnist.npz\n",
            "11490434/11490434 [==============================] - 2s 0us/step\n"
          ]
        }
      ],
      "source": [
        "from tensorflow.keras.datasets import mnist\n",
        "import numpy as np\n",
        "\n",
        "(train_images, train_labels), _ = mnist.load_data()\n",
        "train_images = train_images.reshape((60000, 28 * 28))\n",
        "train_images = train_images.astype(\"float32\") / 255\n",
        "\n",
        "train_images_with_noise_channels = np.concatenate([train_images, np.random.random((len(train_images), 784))], axis=1)\n",
        "train_images_with_zeros_channels = np.concatenate([train_images, np.zeros((len(train_images), 784))], axis=1)"
      ]
    },
    {
      "cell_type": "markdown",
      "metadata": {
        "id": "Q10VrZE2B6Cx"
      },
      "source": [
        "## Listing 5.2 Training the same model on MNIST data with noise channels or all-zero channels"
      ]
    },
    {
      "cell_type": "code",
      "execution_count": 4,
      "metadata": {
        "colab": {
          "base_uri": "https://localhost:8080/"
        },
        "id": "u26i5kgYBFeV",
        "outputId": "180d2204-d679-453f-d711-a1e87a911517"
      },
      "outputs": [
        {
          "name": "stdout",
          "output_type": "stream",
          "text": [
            "Epoch 1/10\n",
            "375/375 [==============================] - 3s 5ms/step - loss: 0.6097 - accuracy: 0.8141 - val_loss: 0.2582 - val_accuracy: 0.9214\n",
            "Epoch 2/10\n",
            "375/375 [==============================] - 2s 5ms/step - loss: 0.2522 - accuracy: 0.9225 - val_loss: 0.1842 - val_accuracy: 0.9448\n",
            "Epoch 3/10\n",
            "375/375 [==============================] - 1s 3ms/step - loss: 0.1647 - accuracy: 0.9484 - val_loss: 0.1948 - val_accuracy: 0.9424\n",
            "Epoch 4/10\n",
            "375/375 [==============================] - 1s 3ms/step - loss: 0.1178 - accuracy: 0.9631 - val_loss: 0.1476 - val_accuracy: 0.9528\n",
            "Epoch 5/10\n",
            "375/375 [==============================] - 1s 3ms/step - loss: 0.0876 - accuracy: 0.9724 - val_loss: 0.2401 - val_accuracy: 0.9285\n",
            "Epoch 6/10\n",
            "375/375 [==============================] - 1s 4ms/step - loss: 0.0658 - accuracy: 0.9798 - val_loss: 0.2307 - val_accuracy: 0.9310\n",
            "Epoch 7/10\n",
            "375/375 [==============================] - 1s 4ms/step - loss: 0.0475 - accuracy: 0.9851 - val_loss: 0.1191 - val_accuracy: 0.9678\n",
            "Epoch 8/10\n",
            "375/375 [==============================] - 1s 4ms/step - loss: 0.0359 - accuracy: 0.9884 - val_loss: 0.1288 - val_accuracy: 0.9648\n",
            "Epoch 9/10\n",
            "375/375 [==============================] - 1s 3ms/step - loss: 0.0254 - accuracy: 0.9923 - val_loss: 0.1339 - val_accuracy: 0.9647\n",
            "Epoch 10/10\n",
            "375/375 [==============================] - 1s 4ms/step - loss: 0.0187 - accuracy: 0.9945 - val_loss: 0.1453 - val_accuracy: 0.9646\n",
            "Epoch 1/10\n",
            "375/375 [==============================] - 2s 4ms/step - loss: 0.2981 - accuracy: 0.9133 - val_loss: 0.1499 - val_accuracy: 0.9563\n",
            "Epoch 2/10\n",
            "375/375 [==============================] - 1s 4ms/step - loss: 0.1251 - accuracy: 0.9632 - val_loss: 0.1076 - val_accuracy: 0.9691\n",
            "Epoch 3/10\n",
            "375/375 [==============================] - 1s 4ms/step - loss: 0.0814 - accuracy: 0.9768 - val_loss: 0.0976 - val_accuracy: 0.9708\n",
            "Epoch 4/10\n",
            "375/375 [==============================] - 2s 4ms/step - loss: 0.0584 - accuracy: 0.9824 - val_loss: 0.0825 - val_accuracy: 0.9753\n",
            "Epoch 5/10\n",
            "375/375 [==============================] - 1s 4ms/step - loss: 0.0438 - accuracy: 0.9869 - val_loss: 0.0773 - val_accuracy: 0.9770\n",
            "Epoch 6/10\n",
            "375/375 [==============================] - 1s 4ms/step - loss: 0.0327 - accuracy: 0.9902 - val_loss: 0.0757 - val_accuracy: 0.9774\n",
            "Epoch 7/10\n",
            "375/375 [==============================] - 1s 3ms/step - loss: 0.0253 - accuracy: 0.9925 - val_loss: 0.0759 - val_accuracy: 0.9780\n",
            "Epoch 8/10\n",
            "375/375 [==============================] - 1s 3ms/step - loss: 0.0188 - accuracy: 0.9948 - val_loss: 0.0765 - val_accuracy: 0.9783\n",
            "Epoch 9/10\n",
            "375/375 [==============================] - 1s 3ms/step - loss: 0.0139 - accuracy: 0.9964 - val_loss: 0.0739 - val_accuracy: 0.9797\n",
            "Epoch 10/10\n",
            "375/375 [==============================] - 1s 3ms/step - loss: 0.0108 - accuracy: 0.9973 - val_loss: 0.0758 - val_accuracy: 0.9796\n"
          ]
        }
      ],
      "source": [
        "from tensorflow import keras\n",
        "from tensorflow.keras import layers\n",
        "\n",
        "def get_model():\n",
        "  model = keras.Sequential([\n",
        "      layers.Dense(512, activation=\"relu\"),\n",
        "      layers.Dense(10, activation=\"softmax\"),\n",
        "  ])\n",
        "  model.compile(optimizer=\"rmsprop\",\n",
        "                loss=\"sparse_categorical_crossentropy\",\n",
        "                metrics=[\"accuracy\"])\n",
        "  return model\n",
        "\n",
        "model = get_model()\n",
        "history_noise = model.fit(\n",
        "    train_images_with_noise_channels, train_labels,\n",
        "    epochs=10,\n",
        "    batch_size=128,\n",
        "    validation_split=0.2\n",
        ")\n",
        "\n",
        "model = get_model()\n",
        "history_zeros = model.fit(\n",
        "    train_images_with_zeros_channels, train_labels,\n",
        "    epochs=10,\n",
        "    batch_size=128,\n",
        "    validation_split=0.2\n",
        ")"
      ]
    },
    {
      "cell_type": "markdown",
      "metadata": {
        "id": "FWcVlLWcDY_G"
      },
      "source": [
        "## Listing 5.3 Plotting a validation accuracy comparison"
      ]
    },
    {
      "cell_type": "code",
      "execution_count": null,
      "metadata": {
        "colab": {
          "base_uri": "https://localhost:8080/",
          "height": 489
        },
        "id": "ujtKHmGnDOJy",
        "outputId": "7dda1d50-c631-46f2-b02a-8640f92b606e"
      },
      "outputs": [
        {
          "data": {
            "text/plain": [
              "<matplotlib.legend.Legend at 0x7f4a52c22380>"
            ]
          },
          "execution_count": 6,
          "metadata": {},
          "output_type": "execute_result"
        },
        {
          "data": {
            "image/png": "[encoded data removed]",
            "text/plain": [
              "<Figure size 640x480 with 1 Axes>"
            ]
          },
          "metadata": {},
          "output_type": "display_data"
        }
      ],
      "source": [
        "import matplotlib.pyplot as plt\n",
        "\n",
        "val_acc_noise = history_noise.history[\"val_accuracy\"]\n",
        "val_acc_zeros = history_zeros.history[\"val_accuracy\"]\n",
        "epochs = range(1, 11)\n",
        "plt.plot(epochs, val_acc_noise, \"b-\",\n",
        "         label=\"Validation accuracy with noise channels\")\n",
        "plt.plot(epochs, val_acc_zeros, \"b--\",\n",
        "         label=\"Validation accuracy with zeros channels\")\n",
        "plt.title(\"Effect of noise channels on validation accuracy\")\n",
        "plt.xlabel(\"Epochs\")\n",
        "plt.ylabel(\"Accuracy\")\n",
        "plt.legend()"
      ]
    },
    {
      "cell_type": "markdown",
      "metadata": {
        "id": "Jw_ISskNEg5U"
      },
      "source": [
        "## Listing 5.4 FItting an MNIST model with randomly shuffled labels"
      ]
    },
    {
      "cell_type": "code",
      "execution_count": null,
      "metadata": {
        "colab": {
          "base_uri": "https://localhost:8080/"
        },
        "id": "FOK8CbyjD7qR",
        "outputId": "cc1063c4-2bd3-496b-f78c-94acf558cc6f"
      },
      "outputs": [
        {
          "name": "stdout",
          "output_type": "stream",
          "text": [
            "Epoch 1/100\n",
            "375/375 [==============================] - 2s 4ms/step - loss: 2.3149 - accuracy: 0.1028 - val_loss: 2.3051 - val_accuracy: 0.1030\n",
            "Epoch 2/100\n",
            "375/375 [==============================] - 1s 4ms/step - loss: 2.2984 - accuracy: 0.1192 - val_loss: 2.3137 - val_accuracy: 0.1028\n",
            "Epoch 3/100\n",
            "375/375 [==============================] - 2s 6ms/step - loss: 2.2907 - accuracy: 0.1273 - val_loss: 2.3178 - val_accuracy: 0.1041\n",
            "Epoch 4/100\n",
            "375/375 [==============================] - 1s 4ms/step - loss: 2.2776 - accuracy: 0.1426 - val_loss: 2.3268 - val_accuracy: 0.0997\n",
            "Epoch 5/100\n",
            "375/375 [==============================] - 1s 4ms/step - loss: 2.2613 - accuracy: 0.1520 - val_loss: 2.3333 - val_accuracy: 0.1029\n",
            "Epoch 6/100\n",
            "375/375 [==============================] - 2s 5ms/step - loss: 2.2420 - accuracy: 0.1656 - val_loss: 2.3523 - val_accuracy: 0.1008\n",
            "Epoch 7/100\n",
            "375/375 [==============================] - 2s 5ms/step - loss: 2.2197 - accuracy: 0.1818 - val_loss: 2.3628 - val_accuracy: 0.1050\n",
            "Epoch 8/100\n",
            "375/375 [==============================] - 2s 5ms/step - loss: 2.1912 - accuracy: 0.2000 - val_loss: 2.3834 - val_accuracy: 0.1010\n",
            "Epoch 9/100\n",
            "375/375 [==============================] - 2s 5ms/step - loss: 2.1616 - accuracy: 0.2160 - val_loss: 2.4020 - val_accuracy: 0.1034\n",
            "Epoch 10/100\n",
            "375/375 [==============================] - 1s 4ms/step - loss: 2.1289 - accuracy: 0.2314 - val_loss: 2.4223 - val_accuracy: 0.1017\n",
            "Epoch 11/100\n",
            "375/375 [==============================] - 1s 4ms/step - loss: 2.0930 - accuracy: 0.2498 - val_loss: 2.4616 - val_accuracy: 0.1028\n",
            "Epoch 12/100\n",
            "375/375 [==============================] - 1s 4ms/step - loss: 2.0575 - accuracy: 0.2627 - val_loss: 2.4773 - val_accuracy: 0.0997\n",
            "Epoch 13/100\n",
            "375/375 [==============================] - 2s 4ms/step - loss: 2.0201 - accuracy: 0.2852 - val_loss: 2.5079 - val_accuracy: 0.0990\n",
            "Epoch 14/100\n",
            "375/375 [==============================] - 2s 5ms/step - loss: 1.9812 - accuracy: 0.2984 - val_loss: 2.5434 - val_accuracy: 0.1010\n",
            "Epoch 15/100\n",
            "375/375 [==============================] - 1s 4ms/step - loss: 1.9433 - accuracy: 0.3157 - val_loss: 2.5864 - val_accuracy: 0.0993\n",
            "Epoch 16/100\n",
            "375/375 [==============================] - 1s 4ms/step - loss: 1.9027 - accuracy: 0.3320 - val_loss: 2.5941 - val_accuracy: 0.1036\n",
            "Epoch 17/100\n",
            "375/375 [==============================] - 1s 4ms/step - loss: 1.8640 - accuracy: 0.3499 - val_loss: 2.6533 - val_accuracy: 0.1042\n",
            "Epoch 18/100\n",
            "375/375 [==============================] - 2s 4ms/step - loss: 1.8251 - accuracy: 0.3651 - val_loss: 2.6661 - val_accuracy: 0.1024\n",
            "Epoch 19/100\n",
            "375/375 [==============================] - 1s 4ms/step - loss: 1.7867 - accuracy: 0.3812 - val_loss: 2.7262 - val_accuracy: 0.1017\n",
            "Epoch 20/100\n",
            "375/375 [==============================] - 2s 4ms/step - loss: 1.7501 - accuracy: 0.3928 - val_loss: 2.7754 - val_accuracy: 0.0959\n",
            "Epoch 21/100\n",
            "375/375 [==============================] - 2s 4ms/step - loss: 1.7103 - accuracy: 0.4073 - val_loss: 2.7952 - val_accuracy: 0.1001\n",
            "Epoch 22/100\n",
            "375/375 [==============================] - 2s 5ms/step - loss: 1.6730 - accuracy: 0.4215 - val_loss: 2.8480 - val_accuracy: 0.1028\n",
            "Epoch 23/100\n",
            "375/375 [==============================] - 1s 4ms/step - loss: 1.6371 - accuracy: 0.4376 - val_loss: 2.8850 - val_accuracy: 0.1028\n",
            "Epoch 24/100\n",
            "375/375 [==============================] - 1s 4ms/step - loss: 1.6027 - accuracy: 0.4475 - val_loss: 2.9287 - val_accuracy: 0.0985\n",
            "Epoch 25/100\n",
            "375/375 [==============================] - 1s 4ms/step - loss: 1.5664 - accuracy: 0.4624 - val_loss: 2.9947 - val_accuracy: 0.0977\n",
            "Epoch 26/100\n",
            "375/375 [==============================] - 1s 4ms/step - loss: 1.5337 - accuracy: 0.4733 - val_loss: 3.0360 - val_accuracy: 0.0965\n",
            "Epoch 27/100\n",
            "375/375 [==============================] - 1s 4ms/step - loss: 1.4983 - accuracy: 0.4883 - val_loss: 3.0950 - val_accuracy: 0.0996\n",
            "Epoch 28/100\n",
            "375/375 [==============================] - 1s 4ms/step - loss: 1.4680 - accuracy: 0.4969 - val_loss: 3.1527 - val_accuracy: 0.0999\n",
            "Epoch 29/100\n",
            "375/375 [==============================] - 1s 4ms/step - loss: 1.4352 - accuracy: 0.5118 - val_loss: 3.1626 - val_accuracy: 0.0995\n",
            "Epoch 30/100\n",
            "375/375 [==============================] - 2s 5ms/step - loss: 1.4052 - accuracy: 0.5206 - val_loss: 3.2288 - val_accuracy: 0.1011\n",
            "Epoch 31/100\n",
            "375/375 [==============================] - 1s 4ms/step - loss: 1.3756 - accuracy: 0.5321 - val_loss: 3.2781 - val_accuracy: 0.0994\n",
            "Epoch 32/100\n",
            "375/375 [==============================] - 1s 4ms/step - loss: 1.3450 - accuracy: 0.5439 - val_loss: 3.3438 - val_accuracy: 0.0970\n",
            "Epoch 33/100\n",
            "375/375 [==============================] - 1s 4ms/step - loss: 1.3181 - accuracy: 0.5539 - val_loss: 3.3934 - val_accuracy: 0.0991\n",
            "Epoch 34/100\n",
            "375/375 [==============================] - 1s 4ms/step - loss: 1.2872 - accuracy: 0.5664 - val_loss: 3.4492 - val_accuracy: 0.1006\n",
            "Epoch 35/100\n",
            "375/375 [==============================] - 1s 4ms/step - loss: 1.2615 - accuracy: 0.5764 - val_loss: 3.5113 - val_accuracy: 0.1045\n",
            "Epoch 36/100\n",
            "375/375 [==============================] - 1s 4ms/step - loss: 1.2352 - accuracy: 0.5848 - val_loss: 3.5447 - val_accuracy: 0.0992\n",
            "Epoch 37/100\n",
            "375/375 [==============================] - 1s 4ms/step - loss: 1.2076 - accuracy: 0.5964 - val_loss: 3.6097 - val_accuracy: 0.1018\n",
            "Epoch 38/100\n",
            "375/375 [==============================] - 2s 6ms/step - loss: 1.1828 - accuracy: 0.6058 - val_loss: 3.6595 - val_accuracy: 0.0997\n",
            "Epoch 39/100\n",
            "375/375 [==============================] - 1s 4ms/step - loss: 1.1566 - accuracy: 0.6148 - val_loss: 3.7380 - val_accuracy: 0.0977\n",
            "Epoch 40/100\n",
            "375/375 [==============================] - 1s 4ms/step - loss: 1.1334 - accuracy: 0.6230 - val_loss: 3.7787 - val_accuracy: 0.1006\n",
            "Epoch 41/100\n",
            "375/375 [==============================] - 1s 4ms/step - loss: 1.1112 - accuracy: 0.6304 - val_loss: 3.8578 - val_accuracy: 0.1001\n",
            "Epoch 42/100\n",
            "375/375 [==============================] - 1s 4ms/step - loss: 1.0878 - accuracy: 0.6364 - val_loss: 3.8959 - val_accuracy: 0.1017\n",
            "Epoch 43/100\n",
            "375/375 [==============================] - 2s 4ms/step - loss: 1.0665 - accuracy: 0.6472 - val_loss: 3.9685 - val_accuracy: 0.0988\n",
            "Epoch 44/100\n",
            "375/375 [==============================] - 1s 4ms/step - loss: 1.0427 - accuracy: 0.6553 - val_loss: 4.0174 - val_accuracy: 0.1031\n",
            "Epoch 45/100\n",
            "375/375 [==============================] - 1s 4ms/step - loss: 1.0226 - accuracy: 0.6627 - val_loss: 4.1028 - val_accuracy: 0.1006\n",
            "Epoch 46/100\n",
            "375/375 [==============================] - 2s 5ms/step - loss: 0.9992 - accuracy: 0.6696 - val_loss: 4.1632 - val_accuracy: 0.0990\n",
            "Epoch 47/100\n",
            "375/375 [==============================] - 2s 4ms/step - loss: 0.9801 - accuracy: 0.6742 - val_loss: 4.2337 - val_accuracy: 0.0978\n",
            "Epoch 48/100\n",
            "375/375 [==============================] - 1s 4ms/step - loss: 0.9605 - accuracy: 0.6830 - val_loss: 4.3267 - val_accuracy: 0.0999\n",
            "Epoch 49/100\n",
            "375/375 [==============================] - 1s 4ms/step - loss: 0.9434 - accuracy: 0.6888 - val_loss: 4.3598 - val_accuracy: 0.1005\n",
            "Epoch 50/100\n",
            "375/375 [==============================] - 2s 4ms/step - loss: 0.9210 - accuracy: 0.6991 - val_loss: 4.4190 - val_accuracy: 0.0987\n",
            "Epoch 51/100\n",
            "375/375 [==============================] - 1s 4ms/step - loss: 0.9038 - accuracy: 0.7028 - val_loss: 4.4913 - val_accuracy: 0.1007\n",
            "Epoch 52/100\n",
            "375/375 [==============================] - 1s 4ms/step - loss: 0.8864 - accuracy: 0.7114 - val_loss: 4.5501 - val_accuracy: 0.0976\n",
            "Epoch 53/100\n",
            "375/375 [==============================] - 1s 4ms/step - loss: 0.8671 - accuracy: 0.7152 - val_loss: 4.6230 - val_accuracy: 0.0997\n",
            "Epoch 54/100\n",
            "375/375 [==============================] - 2s 5ms/step - loss: 0.8496 - accuracy: 0.7213 - val_loss: 4.7078 - val_accuracy: 0.1003\n",
            "Epoch 55/100\n",
            "375/375 [==============================] - 2s 5ms/step - loss: 0.8331 - accuracy: 0.7269 - val_loss: 4.7382 - val_accuracy: 0.0993\n",
            "Epoch 56/100\n",
            "375/375 [==============================] - 1s 4ms/step - loss: 0.8175 - accuracy: 0.7331 - val_loss: 4.7974 - val_accuracy: 0.0958\n",
            "Epoch 57/100\n",
            "375/375 [==============================] - 2s 6ms/step - loss: 0.8031 - accuracy: 0.7384 - val_loss: 4.8730 - val_accuracy: 0.1018\n",
            "Epoch 58/100\n",
            "375/375 [==============================] - 3s 8ms/step - loss: 0.7834 - accuracy: 0.7442 - val_loss: 4.9598 - val_accuracy: 0.1000\n",
            "Epoch 59/100\n",
            "375/375 [==============================] - 4s 12ms/step - loss: 0.7707 - accuracy: 0.7482 - val_loss: 5.0199 - val_accuracy: 0.0964\n",
            "Epoch 60/100\n",
            "375/375 [==============================] - 3s 8ms/step - loss: 0.7540 - accuracy: 0.7570 - val_loss: 5.0719 - val_accuracy: 0.0978\n",
            "Epoch 61/100\n",
            "375/375 [==============================] - 2s 5ms/step - loss: 0.7385 - accuracy: 0.7609 - val_loss: 5.1434 - val_accuracy: 0.0997\n",
            "Epoch 62/100\n",
            "375/375 [==============================] - 3s 7ms/step - loss: 0.7221 - accuracy: 0.7668 - val_loss: 5.2470 - val_accuracy: 0.0982\n",
            "Epoch 63/100\n",
            "375/375 [==============================] - 2s 5ms/step - loss: 0.7102 - accuracy: 0.7693 - val_loss: 5.3161 - val_accuracy: 0.0991\n",
            "Epoch 64/100\n",
            "375/375 [==============================] - 2s 5ms/step - loss: 0.6945 - accuracy: 0.7762 - val_loss: 5.3365 - val_accuracy: 0.1017\n",
            "Epoch 65/100\n",
            "375/375 [==============================] - 3s 9ms/step - loss: 0.6840 - accuracy: 0.7811 - val_loss: 5.4268 - val_accuracy: 0.0971\n",
            "Epoch 66/100\n",
            "375/375 [==============================] - 3s 8ms/step - loss: 0.6693 - accuracy: 0.7850 - val_loss: 5.4941 - val_accuracy: 0.0985\n",
            "Epoch 67/100\n",
            "375/375 [==============================] - 3s 7ms/step - loss: 0.6598 - accuracy: 0.7864 - val_loss: 5.5941 - val_accuracy: 0.0972\n",
            "Epoch 68/100\n",
            "375/375 [==============================] - 2s 6ms/step - loss: 0.6434 - accuracy: 0.7938 - val_loss: 5.6559 - val_accuracy: 0.0994\n",
            "Epoch 69/100\n",
            "375/375 [==============================] - 1s 4ms/step - loss: 0.6300 - accuracy: 0.7991 - val_loss: 5.7590 - val_accuracy: 0.1032\n",
            "Epoch 70/100\n",
            "375/375 [==============================] - 2s 5ms/step - loss: 0.6175 - accuracy: 0.8004 - val_loss: 5.7791 - val_accuracy: 0.0991\n",
            "Epoch 71/100\n",
            "375/375 [==============================] - 1s 4ms/step - loss: 0.6061 - accuracy: 0.8060 - val_loss: 5.8978 - val_accuracy: 0.0993\n",
            "Epoch 72/100\n",
            "375/375 [==============================] - 2s 4ms/step - loss: 0.5973 - accuracy: 0.8086 - val_loss: 5.9662 - val_accuracy: 0.1026\n",
            "Epoch 73/100\n",
            "375/375 [==============================] - 2s 5ms/step - loss: 0.5853 - accuracy: 0.8125 - val_loss: 6.0443 - val_accuracy: 0.0973\n",
            "Epoch 74/100\n",
            "375/375 [==============================] - 2s 6ms/step - loss: 0.5723 - accuracy: 0.8188 - val_loss: 6.0678 - val_accuracy: 0.0992\n",
            "Epoch 75/100\n",
            "375/375 [==============================] - 3s 7ms/step - loss: 0.5613 - accuracy: 0.8213 - val_loss: 6.1498 - val_accuracy: 0.0992\n",
            "Epoch 76/100\n",
            "375/375 [==============================] - 3s 9ms/step - loss: 0.5498 - accuracy: 0.8245 - val_loss: 6.2177 - val_accuracy: 0.1002\n",
            "Epoch 77/100\n",
            "375/375 [==============================] - 2s 5ms/step - loss: 0.5390 - accuracy: 0.8292 - val_loss: 6.3209 - val_accuracy: 0.0968\n",
            "Epoch 78/100\n",
            "375/375 [==============================] - 2s 4ms/step - loss: 0.5317 - accuracy: 0.8318 - val_loss: 6.3784 - val_accuracy: 0.1021\n",
            "Epoch 79/100\n",
            "375/375 [==============================] - 1s 4ms/step - loss: 0.5201 - accuracy: 0.8357 - val_loss: 6.4400 - val_accuracy: 0.1000\n",
            "Epoch 80/100\n",
            "375/375 [==============================] - 1s 4ms/step - loss: 0.5119 - accuracy: 0.8376 - val_loss: 6.5577 - val_accuracy: 0.0999\n",
            "Epoch 81/100\n",
            "375/375 [==============================] - 1s 4ms/step - loss: 0.5016 - accuracy: 0.8395 - val_loss: 6.5738 - val_accuracy: 0.0963\n",
            "Epoch 82/100\n",
            "375/375 [==============================] - 1s 4ms/step - loss: 0.4895 - accuracy: 0.8466 - val_loss: 6.6796 - val_accuracy: 0.0998\n",
            "Epoch 83/100\n",
            "375/375 [==============================] - 2s 4ms/step - loss: 0.4817 - accuracy: 0.8490 - val_loss: 6.7308 - val_accuracy: 0.1019\n",
            "Epoch 84/100\n",
            "375/375 [==============================] - 2s 5ms/step - loss: 0.4737 - accuracy: 0.8513 - val_loss: 6.8271 - val_accuracy: 0.0984\n",
            "Epoch 85/100\n",
            "375/375 [==============================] - 2s 4ms/step - loss: 0.4655 - accuracy: 0.8543 - val_loss: 6.8814 - val_accuracy: 0.0973\n",
            "Epoch 86/100\n",
            "375/375 [==============================] - 1s 4ms/step - loss: 0.4556 - accuracy: 0.8558 - val_loss: 6.9482 - val_accuracy: 0.1012\n",
            "Epoch 87/100\n",
            "375/375 [==============================] - 1s 4ms/step - loss: 0.4464 - accuracy: 0.8600 - val_loss: 7.0321 - val_accuracy: 0.1004\n",
            "Epoch 88/100\n",
            "375/375 [==============================] - 1s 4ms/step - loss: 0.4380 - accuracy: 0.8626 - val_loss: 7.1665 - val_accuracy: 0.1015\n",
            "Epoch 89/100\n",
            "375/375 [==============================] - 1s 4ms/step - loss: 0.4314 - accuracy: 0.8651 - val_loss: 7.1724 - val_accuracy: 0.1021\n",
            "Epoch 90/100\n",
            "375/375 [==============================] - 1s 4ms/step - loss: 0.4212 - accuracy: 0.8685 - val_loss: 7.2492 - val_accuracy: 0.1009\n",
            "Epoch 91/100\n",
            "375/375 [==============================] - 2s 4ms/step - loss: 0.4178 - accuracy: 0.8690 - val_loss: 7.3245 - val_accuracy: 0.0993\n",
            "Epoch 92/100\n",
            "375/375 [==============================] - 2s 5ms/step - loss: 0.4080 - accuracy: 0.8735 - val_loss: 7.4258 - val_accuracy: 0.0990\n",
            "Epoch 93/100\n",
            "375/375 [==============================] - 1s 4ms/step - loss: 0.4007 - accuracy: 0.8769 - val_loss: 7.4881 - val_accuracy: 0.1009\n",
            "Epoch 94/100\n",
            "375/375 [==============================] - 2s 4ms/step - loss: 0.3916 - accuracy: 0.8788 - val_loss: 7.5293 - val_accuracy: 0.1007\n",
            "Epoch 95/100\n",
            "375/375 [==============================] - 2s 4ms/step - loss: 0.3840 - accuracy: 0.8823 - val_loss: 7.6474 - val_accuracy: 0.1008\n",
            "Epoch 96/100\n",
            "375/375 [==============================] - 1s 4ms/step - loss: 0.3815 - accuracy: 0.8816 - val_loss: 7.7448 - val_accuracy: 0.1010\n",
            "Epoch 97/100\n",
            "375/375 [==============================] - 1s 4ms/step - loss: 0.3728 - accuracy: 0.8848 - val_loss: 7.8024 - val_accuracy: 0.1016\n",
            "Epoch 98/100\n",
            "375/375 [==============================] - 1s 4ms/step - loss: 0.3664 - accuracy: 0.8880 - val_loss: 7.8642 - val_accuracy: 0.1010\n",
            "Epoch 99/100\n",
            "375/375 [==============================] - 2s 5ms/step - loss: 0.3587 - accuracy: 0.8898 - val_loss: 7.9240 - val_accuracy: 0.0983\n",
            "Epoch 100/100\n",
            "375/375 [==============================] - 2s 5ms/step - loss: 0.3515 - accuracy: 0.8908 - val_loss: 8.0623 - val_accuracy: 0.1015\n"
          ]
        },
        {
          "data": {
            "text/plain": [
              "<keras.src.callbacks.History at 0x7f49f074e800>"
            ]
          },
          "execution_count": 7,
          "metadata": {},
          "output_type": "execute_result"
        }
      ],
      "source": [
        "(train_images, train_labels), _ = mnist.load_data()\n",
        "train_images = train_images.reshape((60000, 28 * 28))\n",
        "train_images = train_images.astype(\"float32\") / 255\n",
        "\n",
        "random_train_labels = train_labels[:]\n",
        "np.random.shuffle(random_train_labels)\n",
        "\n",
        "model = keras.Sequential([\n",
        "  layers.Dense(512, activation=\"relu\"),\n",
        "  layers.Dense(10, activation=\"softmax\"),\n",
        "])\n",
        "model.compile(optimizer=\"rmsprop\",\n",
        "              loss=\"sparse_categorical_crossentropy\",\n",
        "              metrics=[\"accuracy\"])\n",
        "model.fit(train_images, random_train_labels,\n",
        "          epochs=100,\n",
        "          batch_size=128,\n",
        "          validation_split=0.2)"
      ]
    },
    {
      "cell_type": "markdown",
      "metadata": {
        "id": "7j9f96HpB2p6"
      },
      "source": [
        "## Listing 5.5 Holdout validation"
      ]
    },
    {
      "cell_type": "code",
      "execution_count": null,
      "metadata": {
        "id": "s9Bxi_M1FSJW"
      },
      "outputs": [],
      "source": [
        "# Note: This doesn't execute, but used as an example of how to perform simple holdout validation?\n",
        "num_validation_samples = 10000\n",
        "np.random.shuffle(data)\n",
        "validation_data = data[:num_validation_samples]\n",
        "training_data = data[num_validation_samples:]\n",
        "model = get_model()\n",
        "model.fit(training_data, ...)\n",
        "validation_score = model.evaluate(validation_data, ...)\n",
        "\n",
        "model = get_model()\n",
        "model.fit(np.concatenate([training_data, validation_data]), ...)\n",
        "test_score = model.evaluate(test_data, ...)"
      ]
    },
    {
      "cell_type": "markdown",
      "metadata": {
        "id": "q5WyXzTGHOnv"
      },
      "source": [
        "## Listing 5.6 K-fold cross-validation"
      ]
    },
    {
      "cell_type": "code",
      "execution_count": null,
      "metadata": {
        "id": "TvN_gc0kFMMd"
      },
      "outputs": [],
      "source": [
        "# Note: This also doesn't execute, but is used to exemplify how to perform K-fold cross validation\n",
        "k = 3\n",
        "num_validation_samples = len(data) // k\n",
        "np.random.shuffle(data)\n",
        "validation_scores = []\n",
        "for fold in range(k):\n",
        "    validation_data = data[num_validation_samples * fold:\n",
        "                           num_validation_samples * (fold + 1)]\n",
        "    training_data = np.concatenate(\n",
        "        data[:num_validation_samples * fold],\n",
        "        data[num_validation_samples * (fold + 1):])\n",
        "    model = get_model()\n",
        "    model.fit(training_data, ...)\n",
        "    validation_score = model.evaluate(validation_data, ...)\n",
        "    validation_scores.append(validation_score)\n",
        "validation_score = np.average(validation_scores)\n",
        "model = get_model()\n",
        "model.fit(data, ...)\n",
        "test_score = model.evaluate(test_data, ...)"
      ]
    },
    {
      "cell_type": "markdown",
      "metadata": {
        "id": "1E1Hjo9yLq0E"
      },
      "source": [
        "## Listing 5.7 Training an MNIST model with an incorrectly high learning rate"
      ]
    },
    {
      "cell_type": "code",
      "execution_count": 5,
      "metadata": {
        "colab": {
          "base_uri": "https://localhost:8080/"
        },
        "id": "WMvGr8ELLvtc",
        "outputId": "87ccc196-d54f-433a-abf9-ca2179e303a7"
      },
      "outputs": [
        {
          "name": "stdout",
          "output_type": "stream",
          "text": [
            "Epoch 1/10\n",
            "375/375 [==============================] - 2s 4ms/step - loss: 549.4510 - accuracy: 0.3392 - val_loss: 2.1998 - val_accuracy: 0.2196\n",
            "Epoch 2/10\n",
            "375/375 [==============================] - 1s 3ms/step - loss: 4.1089 - accuracy: 0.2231 - val_loss: 2.2452 - val_accuracy: 0.2540\n",
            "Epoch 3/10\n",
            "375/375 [==============================] - 1s 3ms/step - loss: 2.6502 - accuracy: 0.2092 - val_loss: 2.4101 - val_accuracy: 0.1703\n",
            "Epoch 4/10\n",
            "375/375 [==============================] - 2s 4ms/step - loss: 2.4157 - accuracy: 0.2173 - val_loss: 2.0573 - val_accuracy: 0.2612\n",
            "Epoch 5/10\n",
            "375/375 [==============================] - 1s 3ms/step - loss: 2.2789 - accuracy: 0.2033 - val_loss: 2.2434 - val_accuracy: 0.1955\n",
            "Epoch 6/10\n",
            "375/375 [==============================] - 1s 3ms/step - loss: 2.3909 - accuracy: 0.2192 - val_loss: 2.1158 - val_accuracy: 0.2193\n",
            "Epoch 7/10\n",
            "375/375 [==============================] - 2s 4ms/step - loss: 2.5673 - accuracy: 0.2187 - val_loss: 2.0397 - val_accuracy: 0.2486\n",
            "Epoch 8/10\n",
            "375/375 [==============================] - 1s 4ms/step - loss: 2.4193 - accuracy: 0.2345 - val_loss: 2.2139 - val_accuracy: 0.2217\n",
            "Epoch 9/10\n",
            "375/375 [==============================] - 1s 3ms/step - loss: 2.4501 - accuracy: 0.2276 - val_loss: 2.1993 - val_accuracy: 0.2518\n",
            "Epoch 10/10\n",
            "375/375 [==============================] - 1s 3ms/step - loss: 2.3452 - accuracy: 0.2488 - val_loss: 2.2122 - val_accuracy: 0.2426\n"
          ]
        },
        {
          "data": {
            "text/plain": [
              "<keras.src.callbacks.History at 0x7a930c29ba60>"
            ]
          },
          "execution_count": 5,
          "metadata": {},
          "output_type": "execute_result"
        }
      ],
      "source": [
        "(train_images, train_labels), _ = mnist.load_data()\n",
        "train_images = train_images.reshape((60000, 28 * 28))\n",
        "train_images = train_images.astype(\"float32\") / 255\n",
        "\n",
        "model = keras.Sequential([\n",
        "    layers.Dense(512, activation=\"relu\"),\n",
        "    layers.Dense(10, activation=\"softmax\")\n",
        "])\n",
        "model.compile(optimizer=keras.optimizers.RMSprop(1.),\n",
        "              loss=\"sparse_categorical_crossentropy\",\n",
        "              metrics=[\"accuracy\"])\n",
        "model.fit(train_images, train_labels,\n",
        "          epochs=10,\n",
        "          batch_size=128,\n",
        "          validation_split=0.2)"
      ]
    },
    {
      "cell_type": "markdown",
      "metadata": {
        "id": "oTUQf0wcOi3-"
      },
      "source": [
        "## Listing 5.8 The same model with a more appropriate learning rate"
      ]
    },
    {
      "cell_type": "code",
      "execution_count": 6,
      "metadata": {
        "colab": {
          "base_uri": "https://localhost:8080/"
        },
        "id": "aTIBBxptOupR",
        "outputId": "a76bb1fc-3134-4462-b857-c7194ab5ff19"
      },
      "outputs": [
        {
          "name": "stdout",
          "output_type": "stream",
          "text": [
            "Epoch 1/10\n",
            "375/375 [==============================] - 2s 4ms/step - loss: 0.3457 - accuracy: 0.9142 - val_loss: 0.1236 - val_accuracy: 0.9629\n",
            "Epoch 2/10\n",
            "375/375 [==============================] - 2s 4ms/step - loss: 0.1243 - accuracy: 0.9654 - val_loss: 0.1309 - val_accuracy: 0.9687\n",
            "Epoch 3/10\n",
            "375/375 [==============================] - 1s 3ms/step - loss: 0.0973 - accuracy: 0.9744 - val_loss: 0.1484 - val_accuracy: 0.9662\n",
            "Epoch 4/10\n",
            "375/375 [==============================] - 1s 3ms/step - loss: 0.0784 - accuracy: 0.9796 - val_loss: 0.1578 - val_accuracy: 0.9689\n",
            "Epoch 5/10\n",
            "375/375 [==============================] - 1s 3ms/step - loss: 0.0700 - accuracy: 0.9826 - val_loss: 0.1440 - val_accuracy: 0.9737\n",
            "Epoch 6/10\n",
            "375/375 [==============================] - 1s 3ms/step - loss: 0.0588 - accuracy: 0.9851 - val_loss: 0.1834 - val_accuracy: 0.9718\n",
            "Epoch 7/10\n",
            "375/375 [==============================] - 1s 3ms/step - loss: 0.0528 - accuracy: 0.9872 - val_loss: 0.1885 - val_accuracy: 0.9703\n",
            "Epoch 8/10\n",
            "375/375 [==============================] - 1s 3ms/step - loss: 0.0417 - accuracy: 0.9900 - val_loss: 0.1970 - val_accuracy: 0.9731\n",
            "Epoch 9/10\n",
            "375/375 [==============================] - 1s 3ms/step - loss: 0.0419 - accuracy: 0.9900 - val_loss: 0.2114 - val_accuracy: 0.9736\n",
            "Epoch 10/10\n",
            "375/375 [==============================] - 1s 3ms/step - loss: 0.0347 - accuracy: 0.9918 - val_loss: 0.2322 - val_accuracy: 0.9705\n"
          ]
        },
        {
          "data": {
            "text/plain": [
              "<keras.src.callbacks.History at 0x7a9301229930>"
            ]
          },
          "execution_count": 6,
          "metadata": {},
          "output_type": "execute_result"
        }
      ],
      "source": [
        "model = keras.Sequential([\n",
        "    layers.Dense(512, activation=\"relu\"),\n",
        "    layers.Dense(10, activation=\"softmax\")\n",
        "])\n",
        "model.compile(optimizer=keras.optimizers.RMSprop(1e-2),\n",
        "              loss=\"sparse_categorical_crossentropy\",\n",
        "              metrics=[\"accuracy\"])\n",
        "model.fit(train_images, train_labels,\n",
        "          epochs=10,\n",
        "          batch_size=128,\n",
        "          validation_split=0.2)"
      ]
    },
    {
      "cell_type": "markdown",
      "metadata": {
        "id": "XPw9aHZTPqEO"
      },
      "source": [
        "## Listing 5.9 A simple logistic regression on MNIST"
      ]
    },
    {
      "cell_type": "code",
      "execution_count": 7,
      "metadata": {
        "colab": {
          "base_uri": "https://localhost:8080/",
          "height": 1000
        },
        "id": "m28nWhzUQmne",
        "outputId": "70083568-8050-4e9e-c494-b1f1c6bdb61f"
      },
      "outputs": [
        {
          "name": "stdout",
          "output_type": "stream",
          "text": [
            "Epoch 1/20\n",
            "375/375 [==============================] - 2s 5ms/step - loss: 0.6661 - accuracy: 0.8357 - val_loss: 0.3589 - val_accuracy: 0.9035\n",
            "Epoch 2/20\n",
            "375/375 [==============================] - 1s 3ms/step - loss: 0.3528 - accuracy: 0.9036 - val_loss: 0.3092 - val_accuracy: 0.9134\n",
            "Epoch 3/20\n",
            "375/375 [==============================] - 1s 3ms/step - loss: 0.3179 - accuracy: 0.9114 - val_loss: 0.2958 - val_accuracy: 0.9167\n",
            "Epoch 4/20\n",
            "375/375 [==============================] - 1s 3ms/step - loss: 0.3018 - accuracy: 0.9158 - val_loss: 0.2855 - val_accuracy: 0.9194\n",
            "Epoch 5/20\n",
            "375/375 [==============================] - 1s 3ms/step - loss: 0.2921 - accuracy: 0.9186 - val_loss: 0.2787 - val_accuracy: 0.9222\n",
            "Epoch 6/20\n",
            "375/375 [==============================] - 1s 3ms/step - loss: 0.2855 - accuracy: 0.9204 - val_loss: 0.2741 - val_accuracy: 0.9244\n",
            "Epoch 7/20\n",
            "375/375 [==============================] - 1s 3ms/step - loss: 0.2807 - accuracy: 0.9216 - val_loss: 0.2727 - val_accuracy: 0.9248\n",
            "Epoch 8/20\n",
            "375/375 [==============================] - 1s 3ms/step - loss: 0.2768 - accuracy: 0.9222 - val_loss: 0.2704 - val_accuracy: 0.9253\n",
            "Epoch 9/20\n",
            "375/375 [==============================] - 1s 4ms/step - loss: 0.2736 - accuracy: 0.9242 - val_loss: 0.2693 - val_accuracy: 0.9262\n",
            "Epoch 10/20\n",
            "375/375 [==============================] - 1s 3ms/step - loss: 0.2708 - accuracy: 0.9242 - val_loss: 0.2683 - val_accuracy: 0.9275\n",
            "Epoch 11/20\n",
            "375/375 [==============================] - 1s 3ms/step - loss: 0.2687 - accuracy: 0.9253 - val_loss: 0.2656 - val_accuracy: 0.9293\n",
            "Epoch 12/20\n",
            "375/375 [==============================] - 1s 3ms/step - loss: 0.2667 - accuracy: 0.9261 - val_loss: 0.2653 - val_accuracy: 0.9287\n",
            "Epoch 13/20\n",
            "375/375 [==============================] - 1s 3ms/step - loss: 0.2651 - accuracy: 0.9272 - val_loss: 0.2658 - val_accuracy: 0.9292\n",
            "Epoch 14/20\n",
            "375/375 [==============================] - 1s 3ms/step - loss: 0.2636 - accuracy: 0.9271 - val_loss: 0.2656 - val_accuracy: 0.9283\n",
            "Epoch 15/20\n",
            "375/375 [==============================] - 1s 3ms/step - loss: 0.2618 - accuracy: 0.9273 - val_loss: 0.2648 - val_accuracy: 0.9293\n",
            "Epoch 16/20\n",
            "375/375 [==============================] - 1s 3ms/step - loss: 0.2607 - accuracy: 0.9288 - val_loss: 0.2640 - val_accuracy: 0.9283\n",
            "Epoch 17/20\n",
            "375/375 [==============================] - 1s 3ms/step - loss: 0.2596 - accuracy: 0.9286 - val_loss: 0.2638 - val_accuracy: 0.9291\n",
            "Epoch 18/20\n",
            "375/375 [==============================] - 1s 3ms/step - loss: 0.2584 - accuracy: 0.9295 - val_loss: 0.2635 - val_accuracy: 0.9291\n",
            "Epoch 19/20\n",
            "375/375 [==============================] - 1s 4ms/step - loss: 0.2577 - accuracy: 0.9290 - val_loss: 0.2612 - val_accuracy: 0.9311\n",
            "Epoch 20/20\n",
            "375/375 [==============================] - 1s 3ms/step - loss: 0.2566 - accuracy: 0.9298 - val_loss: 0.2630 - val_accuracy: 0.9301\n"
          ]
        },
        {
          "data": {
            "text/plain": [
              "<matplotlib.legend.Legend at 0x7a92f5f26da0>"
            ]
          },
          "execution_count": 7,
          "metadata": {},
          "output_type": "execute_result"
        },
        {
          "data": {
            "image/png": "[encoded data removed]",
            "text/plain": [
              "<Figure size 640x480 with 1 Axes>"
            ]
          },
          "metadata": {},
          "output_type": "display_data"
        }
      ],
      "source": [
        "model = keras.Sequential([layers.Dense(10, activation=\"softmax\")])\n",
        "model.compile(optimizer=\"rmsprop\",\n",
        "              loss=\"sparse_categorical_crossentropy\",\n",
        "              metrics=[\"accuracy\"])\n",
        "history_small_model = model.fit(\n",
        "    train_images, train_labels,\n",
        "    epochs=20,\n",
        "    batch_size=128,\n",
        "    validation_split=0.2)\n",
        "\n",
        "import matplotlib.pyplot as plt\n",
        "val_loss = history_small_model.history[\"val_loss\"]\n",
        "epochs = range(1, 21)\n",
        "plt.plot(epochs, val_loss, \"b--\",\n",
        "         label=\"Validation loss\")\n",
        "plt.title(\"Effect of insufficient model capacity on validation loss\")\n",
        "plt.xlabel(\"Epochs\")\n",
        "plt.ylabel(\"Loss\")\n",
        "plt.legend()"
      ]
    },
    {
      "cell_type": "code",
      "execution_count": 9,
      "metadata": {
        "colab": {
          "base_uri": "https://localhost:8080/",
          "height": 1000
        },
        "id": "LDb9BB68QwSD",
        "outputId": "ac8ea0a7-a5da-4a94-ad6f-dc6161be21d9"
      },
      "outputs": [
        {
          "name": "stdout",
          "output_type": "stream",
          "text": [
            "Epoch 1/20\n",
            "375/375 [==============================] - 2s 4ms/step - loss: 0.3793 - accuracy: 0.8953 - val_loss: 0.2235 - val_accuracy: 0.9338\n",
            "Epoch 2/20\n",
            "375/375 [==============================] - 1s 3ms/step - loss: 0.1686 - accuracy: 0.9500 - val_loss: 0.1491 - val_accuracy: 0.9555\n",
            "Epoch 3/20\n",
            "375/375 [==============================] - 1s 3ms/step - loss: 0.1178 - accuracy: 0.9643 - val_loss: 0.1137 - val_accuracy: 0.9658\n",
            "Epoch 4/20\n",
            "375/375 [==============================] - 1s 4ms/step - loss: 0.0910 - accuracy: 0.9722 - val_loss: 0.1040 - val_accuracy: 0.9693\n",
            "Epoch 5/20\n",
            "375/375 [==============================] - 1s 4ms/step - loss: 0.0726 - accuracy: 0.9779 - val_loss: 0.1046 - val_accuracy: 0.9672\n",
            "Epoch 6/20\n",
            "375/375 [==============================] - 2s 4ms/step - loss: 0.0602 - accuracy: 0.9814 - val_loss: 0.0959 - val_accuracy: 0.9720\n",
            "Epoch 7/20\n",
            "375/375 [==============================] - 2s 4ms/step - loss: 0.0502 - accuracy: 0.9845 - val_loss: 0.0957 - val_accuracy: 0.9722\n",
            "Epoch 8/20\n",
            "375/375 [==============================] - 1s 3ms/step - loss: 0.0413 - accuracy: 0.9870 - val_loss: 0.0934 - val_accuracy: 0.9739\n",
            "Epoch 9/20\n",
            "375/375 [==============================] - 1s 3ms/step - loss: 0.0351 - accuracy: 0.9894 - val_loss: 0.0952 - val_accuracy: 0.9729\n",
            "Epoch 10/20\n",
            "375/375 [==============================] - 1s 4ms/step - loss: 0.0292 - accuracy: 0.9907 - val_loss: 0.0946 - val_accuracy: 0.9750\n",
            "Epoch 11/20\n",
            "375/375 [==============================] - 1s 3ms/step - loss: 0.0251 - accuracy: 0.9919 - val_loss: 0.1019 - val_accuracy: 0.9728\n",
            "Epoch 12/20\n",
            "375/375 [==============================] - 1s 4ms/step - loss: 0.0211 - accuracy: 0.9935 - val_loss: 0.0990 - val_accuracy: 0.9756\n",
            "Epoch 13/20\n",
            "375/375 [==============================] - 1s 3ms/step - loss: 0.0177 - accuracy: 0.9943 - val_loss: 0.1099 - val_accuracy: 0.9751\n",
            "Epoch 14/20\n",
            "375/375 [==============================] - 1s 4ms/step - loss: 0.0151 - accuracy: 0.9952 - val_loss: 0.1101 - val_accuracy: 0.9752\n",
            "Epoch 15/20\n",
            "375/375 [==============================] - 2s 4ms/step - loss: 0.0129 - accuracy: 0.9958 - val_loss: 0.1087 - val_accuracy: 0.9747\n",
            "Epoch 16/20\n",
            "375/375 [==============================] - 1s 3ms/step - loss: 0.0110 - accuracy: 0.9964 - val_loss: 0.1177 - val_accuracy: 0.9747\n",
            "Epoch 17/20\n",
            "375/375 [==============================] - 1s 3ms/step - loss: 0.0086 - accuracy: 0.9975 - val_loss: 0.1214 - val_accuracy: 0.9732\n",
            "Epoch 18/20\n",
            "375/375 [==============================] - 1s 3ms/step - loss: 0.0079 - accuracy: 0.9973 - val_loss: 0.1254 - val_accuracy: 0.9740\n",
            "Epoch 19/20\n",
            "375/375 [==============================] - 1s 4ms/step - loss: 0.0070 - accuracy: 0.9980 - val_loss: 0.1204 - val_accuracy: 0.9755\n",
            "Epoch 20/20\n",
            "375/375 [==============================] - 1s 3ms/step - loss: 0.0053 - accuracy: 0.9985 - val_loss: 0.1253 - val_accuracy: 0.9748\n"
          ]
        },
        {
          "data": {
            "text/plain": [
              "<matplotlib.legend.Legend at 0x7a92904232b0>"
            ]
          },
          "execution_count": 9,
          "metadata": {},
          "output_type": "execute_result"
        },
        {
          "data": {
            "image/png": "[encoded data removed]",
            "text/plain": [
              "<Figure size 640x480 with 1 Axes>"
            ]
          },
          "metadata": {},
          "output_type": "display_data"
        }
      ],
      "source": [
        "model = keras.Sequential([\n",
        "    layers.Dense(96, activation=\"relu\"),\n",
        "    layers.Dense(96, activation=\"relu\"),\n",
        "    layers.Dense(10, activation=\"softmax\"),\n",
        "])\n",
        "model.compile(optimizer=\"rmsprop\",\n",
        "              loss=\"sparse_categorical_crossentropy\",\n",
        "              metrics=[\"accuracy\"])\n",
        "history_large_model = model.fit(\n",
        "    train_images, train_labels,\n",
        "    epochs=20,\n",
        "    batch_size=128,\n",
        "    validation_split=0.2)\n",
        "\n",
        "import matplotlib.pyplot as plt\n",
        "val_loss = history_large_model.history[\"val_loss\"]\n",
        "epochs = range(1, 21)\n",
        "plt.plot(epochs, val_loss, \"b--\",\n",
        "         label=\"Validation loss\")\n",
        "plt.title(\"Effect of insufficient model capacity on validation loss\")\n",
        "plt.xlabel(\"Epochs\")\n",
        "plt.ylabel(\"Loss\")\n",
        "plt.legend()"
      ]
    },
    {
      "cell_type": "markdown",
      "metadata": {
        "id": "UlsMWsveRtu_"
      },
      "source": [
        "## Listing 5.10 Original Model"
      ]
    },
    {
      "cell_type": "code",
      "execution_count": 10,
      "metadata": {
        "colab": {
          "base_uri": "https://localhost:8080/"
        },
        "id": "TJBBEIrhUHm8",
        "outputId": "eba0aaf0-5ce5-48c7-b072-d49104769807"
      },
      "outputs": [
        {
          "name": "stdout",
          "output_type": "stream",
          "text": [
            "Downloading data from https://storage.googleapis.com/tensorflow/tf-keras-datasets/imdb.npz\n",
            "17464789/17464789 [==============================] - 2s 0us/step\n",
            "Epoch 1/20\n",
            "30/30 [==============================] - 3s 67ms/step - loss: 0.5148 - accuracy: 0.7913 - val_loss: 0.3927 - val_accuracy: 0.8719\n",
            "Epoch 2/20\n",
            "30/30 [==============================] - 1s 23ms/step - loss: 0.3237 - accuracy: 0.8955 - val_loss: 0.3128 - val_accuracy: 0.8854\n",
            "Epoch 3/20\n",
            "30/30 [==============================] - 1s 22ms/step - loss: 0.2446 - accuracy: 0.9172 - val_loss: 0.2920 - val_accuracy: 0.8874\n",
            "Epoch 4/20\n",
            "30/30 [==============================] - 1s 25ms/step - loss: 0.1996 - accuracy: 0.9328 - val_loss: 0.2787 - val_accuracy: 0.8914\n",
            "Epoch 5/20\n",
            "30/30 [==============================] - 1s 23ms/step - loss: 0.1686 - accuracy: 0.9442 - val_loss: 0.2811 - val_accuracy: 0.8894\n",
            "Epoch 6/20\n",
            "30/30 [==============================] - 1s 25ms/step - loss: 0.1432 - accuracy: 0.9531 - val_loss: 0.2970 - val_accuracy: 0.8853\n",
            "Epoch 7/20\n",
            "30/30 [==============================] - 1s 40ms/step - loss: 0.1225 - accuracy: 0.9613 - val_loss: 0.2972 - val_accuracy: 0.8872\n",
            "Epoch 8/20\n",
            "30/30 [==============================] - 1s 29ms/step - loss: 0.1053 - accuracy: 0.9683 - val_loss: 0.3125 - val_accuracy: 0.8838\n",
            "Epoch 9/20\n",
            "30/30 [==============================] - 1s 23ms/step - loss: 0.0951 - accuracy: 0.9715 - val_loss: 0.3234 - val_accuracy: 0.8833\n",
            "Epoch 10/20\n",
            "30/30 [==============================] - 1s 25ms/step - loss: 0.0806 - accuracy: 0.9775 - val_loss: 0.3440 - val_accuracy: 0.8797\n",
            "Epoch 11/20\n",
            "30/30 [==============================] - 1s 22ms/step - loss: 0.0725 - accuracy: 0.9803 - val_loss: 0.3715 - val_accuracy: 0.8760\n",
            "Epoch 12/20\n",
            "30/30 [==============================] - 1s 22ms/step - loss: 0.0656 - accuracy: 0.9823 - val_loss: 0.3793 - val_accuracy: 0.8791\n",
            "Epoch 13/20\n",
            "30/30 [==============================] - 1s 21ms/step - loss: 0.0544 - accuracy: 0.9871 - val_loss: 0.4228 - val_accuracy: 0.8740\n",
            "Epoch 14/20\n",
            "30/30 [==============================] - 1s 22ms/step - loss: 0.0457 - accuracy: 0.9898 - val_loss: 0.4205 - val_accuracy: 0.8760\n",
            "Epoch 15/20\n",
            "30/30 [==============================] - 1s 23ms/step - loss: 0.0413 - accuracy: 0.9907 - val_loss: 0.4667 - val_accuracy: 0.8681\n",
            "Epoch 16/20\n",
            "30/30 [==============================] - 1s 23ms/step - loss: 0.0354 - accuracy: 0.9928 - val_loss: 0.4679 - val_accuracy: 0.8738\n",
            "Epoch 17/20\n",
            "30/30 [==============================] - 1s 21ms/step - loss: 0.0337 - accuracy: 0.9931 - val_loss: 0.4944 - val_accuracy: 0.8721\n",
            "Epoch 18/20\n",
            "30/30 [==============================] - 1s 22ms/step - loss: 0.0249 - accuracy: 0.9958 - val_loss: 0.5179 - val_accuracy: 0.8709\n",
            "Epoch 19/20\n",
            "30/30 [==============================] - 1s 23ms/step - loss: 0.0238 - accuracy: 0.9958 - val_loss: 0.5402 - val_accuracy: 0.8714\n",
            "Epoch 20/20\n",
            "30/30 [==============================] - 1s 24ms/step - loss: 0.0218 - accuracy: 0.9957 - val_loss: 0.5587 - val_accuracy: 0.8703\n"
          ]
        }
      ],
      "source": [
        "from tensorflow.keras.datasets import imdb\n",
        "(train_data, train_labels), _ = imdb.load_data(num_words=10000)\n",
        "\n",
        "def vectorize_sequences(sequences, dimension=10000):\n",
        "    results = np.zeros((len(sequences), dimension))\n",
        "    for i, sequence in enumerate(sequences):\n",
        "        results[i, sequence] = 1.\n",
        "    return results\n",
        "train_data = vectorize_sequences(train_data)\n",
        "\n",
        "model = keras.Sequential([\n",
        "    layers.Dense(16, activation=\"relu\"),\n",
        "    layers.Dense(16, activation=\"relu\"),\n",
        "    layers.Dense(1, activation=\"sigmoid\")\n",
        "])\n",
        "model.compile(optimizer=\"rmsprop\",\n",
        "              loss=\"binary_crossentropy\",\n",
        "              metrics=[\"accuracy\"])\n",
        "history_original = model.fit(train_data, train_labels,\n",
        "                             epochs=20, batch_size=512, validation_split=0.4)"
      ]
    },
    {
      "cell_type": "markdown",
      "metadata": {
        "id": "fmxlhrXrVX4X"
      },
      "source": [
        "## Listing 5.11 Version of the model with lower capacity"
      ]
    },
    {
      "cell_type": "code",
      "execution_count": 11,
      "metadata": {
        "colab": {
          "base_uri": "https://localhost:8080/"
        },
        "id": "9P1IYRz_VOAC",
        "outputId": "6e604cb3-9df2-4f85-a762-b9854749e432"
      },
      "outputs": [
        {
          "name": "stdout",
          "output_type": "stream",
          "text": [
            "Epoch 1/20\n",
            "30/30 [==============================] - 3s 67ms/step - loss: 0.6281 - accuracy: 0.6353 - val_loss: 0.5776 - val_accuracy: 0.6540\n",
            "Epoch 2/20\n",
            "30/30 [==============================] - 1s 23ms/step - loss: 0.5375 - accuracy: 0.7835 - val_loss: 0.5222 - val_accuracy: 0.7998\n",
            "Epoch 3/20\n",
            "30/30 [==============================] - 1s 26ms/step - loss: 0.4897 - accuracy: 0.8463 - val_loss: 0.4976 - val_accuracy: 0.8076\n",
            "Epoch 4/20\n",
            "30/30 [==============================] - 1s 25ms/step - loss: 0.4554 - accuracy: 0.8793 - val_loss: 0.4801 - val_accuracy: 0.8290\n",
            "Epoch 5/20\n",
            "30/30 [==============================] - 1s 33ms/step - loss: 0.4295 - accuracy: 0.9017 - val_loss: 0.4716 - val_accuracy: 0.8323\n",
            "Epoch 6/20\n",
            "30/30 [==============================] - 1s 41ms/step - loss: 0.4074 - accuracy: 0.9180 - val_loss: 0.4505 - val_accuracy: 0.8772\n",
            "Epoch 7/20\n",
            "30/30 [==============================] - 1s 23ms/step - loss: 0.3888 - accuracy: 0.9323 - val_loss: 0.4566 - val_accuracy: 0.8569\n",
            "Epoch 8/20\n",
            "30/30 [==============================] - 1s 24ms/step - loss: 0.3718 - accuracy: 0.9429 - val_loss: 0.4490 - val_accuracy: 0.8663\n",
            "Epoch 9/20\n",
            "30/30 [==============================] - 1s 22ms/step - loss: 0.3576 - accuracy: 0.9501 - val_loss: 0.4616 - val_accuracy: 0.8558\n",
            "Epoch 10/20\n",
            "30/30 [==============================] - 1s 23ms/step - loss: 0.3438 - accuracy: 0.9567 - val_loss: 0.4441 - val_accuracy: 0.8700\n",
            "Epoch 11/20\n",
            "30/30 [==============================] - 1s 22ms/step - loss: 0.3309 - accuracy: 0.9620 - val_loss: 0.4271 - val_accuracy: 0.8822\n",
            "Epoch 12/20\n",
            "30/30 [==============================] - 1s 23ms/step - loss: 0.3196 - accuracy: 0.9677 - val_loss: 0.4306 - val_accuracy: 0.8786\n",
            "Epoch 13/20\n",
            "30/30 [==============================] - 1s 23ms/step - loss: 0.3083 - accuracy: 0.9714 - val_loss: 0.4267 - val_accuracy: 0.8803\n",
            "Epoch 14/20\n",
            "30/30 [==============================] - 1s 25ms/step - loss: 0.2985 - accuracy: 0.9737 - val_loss: 0.4752 - val_accuracy: 0.8618\n",
            "Epoch 15/20\n",
            "30/30 [==============================] - 1s 25ms/step - loss: 0.2885 - accuracy: 0.9765 - val_loss: 0.4530 - val_accuracy: 0.8699\n",
            "Epoch 16/20\n",
            "30/30 [==============================] - 1s 23ms/step - loss: 0.2793 - accuracy: 0.9789 - val_loss: 0.4903 - val_accuracy: 0.8596\n",
            "Epoch 17/20\n",
            "30/30 [==============================] - 1s 24ms/step - loss: 0.2709 - accuracy: 0.9805 - val_loss: 0.4524 - val_accuracy: 0.8710\n",
            "Epoch 18/20\n",
            "30/30 [==============================] - 1s 25ms/step - loss: 0.2624 - accuracy: 0.9823 - val_loss: 0.4557 - val_accuracy: 0.8725\n",
            "Epoch 19/20\n",
            "30/30 [==============================] - 1s 23ms/step - loss: 0.2543 - accuracy: 0.9841 - val_loss: 0.4330 - val_accuracy: 0.8757\n",
            "Epoch 20/20\n",
            "30/30 [==============================] - 1s 23ms/step - loss: 0.2472 - accuracy: 0.9853 - val_loss: 0.5448 - val_accuracy: 0.8516\n"
          ]
        }
      ],
      "source": [
        "model = keras.Sequential([\n",
        "    layers.Dense(4, activation=\"relu\"),\n",
        "    layers.Dense(4, activation=\"relu\"),\n",
        "    layers.Dense(1, activation=\"sigmoid\")\n",
        "])\n",
        "model.compile(optimizer=\"rmsprop\",\n",
        "              loss=\"binary_crossentropy\",\n",
        "              metrics=[\"accuracy\"])\n",
        "history_smaller_model = model.fit(\n",
        "    train_data, train_labels,\n",
        "    epochs=20, batch_size=512, validation_split=0.4)"
      ]
    },
    {
      "cell_type": "markdown",
      "metadata": {
        "id": "LC8exv2uV28x"
      },
      "source": [
        "## Listing 5.12 Version of the model with higher capacity"
      ]
    },
    {
      "cell_type": "code",
      "execution_count": 12,
      "metadata": {
        "colab": {
          "base_uri": "https://localhost:8080/"
        },
        "id": "vy8f-wbFVgeW",
        "outputId": "5a289641-617f-4738-e4b6-c581df98ef71"
      },
      "outputs": [
        {
          "name": "stdout",
          "output_type": "stream",
          "text": [
            "Epoch 1/20\n",
            "30/30 [==============================] - 4s 69ms/step - loss: 0.5587 - accuracy: 0.7150 - val_loss: 0.3916 - val_accuracy: 0.8472\n",
            "Epoch 2/20\n",
            "30/30 [==============================] - 1s 27ms/step - loss: 0.3168 - accuracy: 0.8726 - val_loss: 0.3177 - val_accuracy: 0.8621\n",
            "Epoch 3/20\n",
            "30/30 [==============================] - 1s 28ms/step - loss: 0.2315 - accuracy: 0.9073 - val_loss: 0.2903 - val_accuracy: 0.8809\n",
            "Epoch 4/20\n",
            "30/30 [==============================] - 1s 28ms/step - loss: 0.1743 - accuracy: 0.9299 - val_loss: 0.2782 - val_accuracy: 0.8863\n",
            "Epoch 5/20\n",
            "30/30 [==============================] - 1s 27ms/step - loss: 0.1470 - accuracy: 0.9449 - val_loss: 0.2845 - val_accuracy: 0.8892\n",
            "Epoch 6/20\n",
            "30/30 [==============================] - 1s 28ms/step - loss: 0.0930 - accuracy: 0.9689 - val_loss: 0.3248 - val_accuracy: 0.8856\n",
            "Epoch 7/20\n",
            "30/30 [==============================] - 1s 26ms/step - loss: 0.0798 - accuracy: 0.9761 - val_loss: 0.3483 - val_accuracy: 0.8854\n",
            "Epoch 8/20\n",
            "30/30 [==============================] - 1s 26ms/step - loss: 0.0749 - accuracy: 0.9771 - val_loss: 0.3343 - val_accuracy: 0.8850\n",
            "Epoch 9/20\n",
            "30/30 [==============================] - 1s 28ms/step - loss: 0.0134 - accuracy: 0.9982 - val_loss: 0.4530 - val_accuracy: 0.8784\n",
            "Epoch 10/20\n",
            "30/30 [==============================] - 1s 30ms/step - loss: 0.0782 - accuracy: 0.9810 - val_loss: 0.3899 - val_accuracy: 0.8827\n",
            "Epoch 11/20\n",
            "30/30 [==============================] - 1s 44ms/step - loss: 0.0056 - accuracy: 0.9996 - val_loss: 0.4916 - val_accuracy: 0.8818\n",
            "Epoch 12/20\n",
            "30/30 [==============================] - 1s 28ms/step - loss: 0.0877 - accuracy: 0.9797 - val_loss: 0.3863 - val_accuracy: 0.8818\n",
            "Epoch 13/20\n",
            "30/30 [==============================] - 1s 26ms/step - loss: 0.0053 - accuracy: 0.9999 - val_loss: 0.4796 - val_accuracy: 0.8825\n",
            "Epoch 14/20\n",
            "30/30 [==============================] - 1s 28ms/step - loss: 0.0019 - accuracy: 0.9999 - val_loss: 0.5585 - val_accuracy: 0.8823\n",
            "Epoch 15/20\n",
            "30/30 [==============================] - 1s 28ms/step - loss: 0.0011 - accuracy: 1.0000 - val_loss: 0.6196 - val_accuracy: 0.8792\n",
            "Epoch 16/20\n",
            "30/30 [==============================] - 1s 26ms/step - loss: 7.8854e-04 - accuracy: 1.0000 - val_loss: 0.6671 - val_accuracy: 0.8801\n",
            "Epoch 17/20\n",
            "30/30 [==============================] - 1s 28ms/step - loss: 4.2592e-04 - accuracy: 1.0000 - val_loss: 0.6902 - val_accuracy: 0.8803\n",
            "Epoch 18/20\n",
            "30/30 [==============================] - 1s 29ms/step - loss: 2.7851e-04 - accuracy: 1.0000 - val_loss: 0.7139 - val_accuracy: 0.8831\n",
            "Epoch 19/20\n",
            "30/30 [==============================] - 1s 30ms/step - loss: 2.1334e-04 - accuracy: 1.0000 - val_loss: 0.7310 - val_accuracy: 0.8831\n",
            "Epoch 20/20\n",
            "30/30 [==============================] - 1s 27ms/step - loss: 1.7478e-04 - accuracy: 1.0000 - val_loss: 0.7463 - val_accuracy: 0.8820\n"
          ]
        }
      ],
      "source": [
        "model = keras.Sequential([\n",
        "    layers.Dense(512, activation=\"relu\"),\n",
        "    layers.Dense(512, activation=\"relu\"),\n",
        "    layers.Dense(1, activation=\"sigmoid\")\n",
        "])\n",
        "model.compile(optimizer=\"rmsprop\",\n",
        "              loss=\"binary_crossentropy\",\n",
        "              metrics=[\"accuracy\"])\n",
        "history_larger_model = model.fit(\n",
        "    train_data, train_labels,\n",
        "    epochs=20, batch_size=512, validation_split=0.4)"
      ]
    },
    {
      "cell_type": "markdown",
      "metadata": {
        "id": "_EU0TSnRWxxs"
      },
      "source": [
        "## Listing 5.13 Adding L2 Weight regularization to the model"
      ]
    },
    {
      "cell_type": "code",
      "execution_count": 13,
      "metadata": {
        "colab": {
          "base_uri": "https://localhost:8080/"
        },
        "id": "RlW_JZhjV_6P",
        "outputId": "fe4acf2e-9ca6-4ff1-ed31-924745469e42"
      },
      "outputs": [
        {
          "name": "stdout",
          "output_type": "stream",
          "text": [
            "Epoch 1/20\n",
            "30/30 [==============================] - 3s 86ms/step - loss: 0.6001 - accuracy: 0.7783 - val_loss: 0.4677 - val_accuracy: 0.8623\n",
            "Epoch 2/20\n",
            "30/30 [==============================] - 1s 35ms/step - loss: 0.4000 - accuracy: 0.8947 - val_loss: 0.3945 - val_accuracy: 0.8798\n",
            "Epoch 3/20\n",
            "30/30 [==============================] - 1s 25ms/step - loss: 0.3341 - accuracy: 0.9123 - val_loss: 0.3791 - val_accuracy: 0.8799\n",
            "Epoch 4/20\n",
            "30/30 [==============================] - 1s 23ms/step - loss: 0.2993 - accuracy: 0.9243 - val_loss: 0.3600 - val_accuracy: 0.8874\n",
            "Epoch 5/20\n",
            "30/30 [==============================] - 1s 23ms/step - loss: 0.2750 - accuracy: 0.9347 - val_loss: 0.3733 - val_accuracy: 0.8803\n",
            "Epoch 6/20\n",
            "30/30 [==============================] - 1s 23ms/step - loss: 0.2619 - accuracy: 0.9377 - val_loss: 0.3687 - val_accuracy: 0.8834\n",
            "Epoch 7/20\n",
            "30/30 [==============================] - 1s 24ms/step - loss: 0.2484 - accuracy: 0.9451 - val_loss: 0.3697 - val_accuracy: 0.8836\n",
            "Epoch 8/20\n",
            "30/30 [==============================] - 1s 25ms/step - loss: 0.2428 - accuracy: 0.9443 - val_loss: 0.3728 - val_accuracy: 0.8821\n",
            "Epoch 9/20\n",
            "30/30 [==============================] - 1s 23ms/step - loss: 0.2360 - accuracy: 0.9467 - val_loss: 0.3819 - val_accuracy: 0.8811\n",
            "Epoch 10/20\n",
            "30/30 [==============================] - 1s 26ms/step - loss: 0.2307 - accuracy: 0.9491 - val_loss: 0.4003 - val_accuracy: 0.8755\n",
            "Epoch 11/20\n",
            "30/30 [==============================] - 1s 26ms/step - loss: 0.2301 - accuracy: 0.9493 - val_loss: 0.3878 - val_accuracy: 0.8796\n",
            "Epoch 12/20\n",
            "30/30 [==============================] - 1s 26ms/step - loss: 0.2166 - accuracy: 0.9570 - val_loss: 0.3931 - val_accuracy: 0.8777\n",
            "Epoch 13/20\n",
            "30/30 [==============================] - 1s 25ms/step - loss: 0.2247 - accuracy: 0.9507 - val_loss: 0.4074 - val_accuracy: 0.8765\n",
            "Epoch 14/20\n",
            "30/30 [==============================] - 1s 25ms/step - loss: 0.2108 - accuracy: 0.9597 - val_loss: 0.4101 - val_accuracy: 0.8763\n",
            "Epoch 15/20\n",
            "30/30 [==============================] - 1s 24ms/step - loss: 0.2124 - accuracy: 0.9595 - val_loss: 0.4097 - val_accuracy: 0.8767\n",
            "Epoch 16/20\n",
            "30/30 [==============================] - 1s 30ms/step - loss: 0.2188 - accuracy: 0.9509 - val_loss: 0.4091 - val_accuracy: 0.8773\n",
            "Epoch 17/20\n",
            "30/30 [==============================] - 1s 45ms/step - loss: 0.2041 - accuracy: 0.9618 - val_loss: 0.4291 - val_accuracy: 0.8726\n",
            "Epoch 18/20\n",
            "30/30 [==============================] - 1s 27ms/step - loss: 0.2050 - accuracy: 0.9619 - val_loss: 0.4333 - val_accuracy: 0.8733\n",
            "Epoch 19/20\n",
            "30/30 [==============================] - 1s 26ms/step - loss: 0.1996 - accuracy: 0.9645 - val_loss: 0.4199 - val_accuracy: 0.8758\n",
            "Epoch 20/20\n",
            "30/30 [==============================] - 1s 23ms/step - loss: 0.2001 - accuracy: 0.9615 - val_loss: 0.4444 - val_accuracy: 0.8718\n"
          ]
        }
      ],
      "source": [
        "from tensorflow.keras import regularizers\n",
        "model = keras.Sequential([\n",
        "    layers.Dense(16,\n",
        "                 kernel_regularizer=regularizers.l2(0.002),\n",
        "                 activation=\"relu\"),\n",
        "    layers.Dense(16,\n",
        "                 kernel_regularizer=regularizers.l2(0.002),\n",
        "                 activation=\"relu\"),\n",
        "    layers.Dense(1, activation=\"sigmoid\")\n",
        "])\n",
        "model.compile(optimizer=\"rmsprop\",\n",
        "              loss=\"binary_crossentropy\",\n",
        "              metrics=[\"accuracy\"])\n",
        "history_l2_reg = model.fit(\n",
        "    train_data, train_labels,\n",
        "    epochs=20, batch_size=512, validation_split=0.4)"
      ]
    },
    {
      "cell_type": "markdown",
      "metadata": {
        "id": "TNqqXwq6Xkpc"
      },
      "source": [
        "## Listing 5.15 Adding dropout to the IMDB model"
      ]
    },
    {
      "cell_type": "code",
      "execution_count": 14,
      "metadata": {
        "colab": {
          "base_uri": "https://localhost:8080/"
        },
        "id": "WOIgOcPMW1pL",
        "outputId": "d40bc90f-cce3-4b2b-d821-3c15635ca57c"
      },
      "outputs": [
        {
          "name": "stdout",
          "output_type": "stream",
          "text": [
            "Epoch 1/20\n",
            "30/30 [==============================] - 5s 69ms/step - loss: 0.6416 - accuracy: 0.6267 - val_loss: 0.5435 - val_accuracy: 0.8054\n",
            "Epoch 2/20\n",
            "30/30 [==============================] - 1s 30ms/step - loss: 0.5286 - accuracy: 0.7523 - val_loss: 0.4275 - val_accuracy: 0.8715\n",
            "Epoch 3/20\n",
            "30/30 [==============================] - 1s 43ms/step - loss: 0.4521 - accuracy: 0.8101 - val_loss: 0.3614 - val_accuracy: 0.8778\n",
            "Epoch 4/20\n",
            "30/30 [==============================] - 1s 22ms/step - loss: 0.3910 - accuracy: 0.8479 - val_loss: 0.3180 - val_accuracy: 0.8864\n",
            "Epoch 5/20\n",
            "30/30 [==============================] - 1s 23ms/step - loss: 0.3430 - accuracy: 0.8722 - val_loss: 0.2985 - val_accuracy: 0.8846\n",
            "Epoch 6/20\n",
            "30/30 [==============================] - 1s 25ms/step - loss: 0.3088 - accuracy: 0.8854 - val_loss: 0.2843 - val_accuracy: 0.8928\n",
            "Epoch 7/20\n",
            "30/30 [==============================] - 1s 23ms/step - loss: 0.2747 - accuracy: 0.9036 - val_loss: 0.2764 - val_accuracy: 0.8883\n",
            "Epoch 8/20\n",
            "30/30 [==============================] - 1s 25ms/step - loss: 0.2471 - accuracy: 0.9132 - val_loss: 0.2738 - val_accuracy: 0.8913\n",
            "Epoch 9/20\n",
            "30/30 [==============================] - 1s 23ms/step - loss: 0.2260 - accuracy: 0.9233 - val_loss: 0.2830 - val_accuracy: 0.8905\n",
            "Epoch 10/20\n",
            "30/30 [==============================] - 1s 21ms/step - loss: 0.2030 - accuracy: 0.9333 - val_loss: 0.2893 - val_accuracy: 0.8905\n",
            "Epoch 11/20\n",
            "30/30 [==============================] - 1s 22ms/step - loss: 0.1793 - accuracy: 0.9399 - val_loss: 0.3068 - val_accuracy: 0.8894\n",
            "Epoch 12/20\n",
            "30/30 [==============================] - 1s 22ms/step - loss: 0.1651 - accuracy: 0.9475 - val_loss: 0.3206 - val_accuracy: 0.8883\n",
            "Epoch 13/20\n",
            "30/30 [==============================] - 1s 24ms/step - loss: 0.1553 - accuracy: 0.9481 - val_loss: 0.3408 - val_accuracy: 0.8886\n",
            "Epoch 14/20\n",
            "30/30 [==============================] - 1s 22ms/step - loss: 0.1400 - accuracy: 0.9543 - val_loss: 0.3766 - val_accuracy: 0.8881\n",
            "Epoch 15/20\n",
            "30/30 [==============================] - 1s 23ms/step - loss: 0.1271 - accuracy: 0.9599 - val_loss: 0.3770 - val_accuracy: 0.8843\n",
            "Epoch 16/20\n",
            "30/30 [==============================] - 1s 24ms/step - loss: 0.1160 - accuracy: 0.9619 - val_loss: 0.4197 - val_accuracy: 0.8839\n",
            "Epoch 17/20\n",
            "30/30 [==============================] - 1s 25ms/step - loss: 0.1077 - accuracy: 0.9629 - val_loss: 0.4240 - val_accuracy: 0.8842\n",
            "Epoch 18/20\n",
            "30/30 [==============================] - 1s 39ms/step - loss: 0.0989 - accuracy: 0.9673 - val_loss: 0.4512 - val_accuracy: 0.8861\n",
            "Epoch 19/20\n",
            "30/30 [==============================] - 1s 29ms/step - loss: 0.0981 - accuracy: 0.9676 - val_loss: 0.4749 - val_accuracy: 0.8822\n",
            "Epoch 20/20\n",
            "30/30 [==============================] - 1s 22ms/step - loss: 0.0914 - accuracy: 0.9683 - val_loss: 0.4993 - val_accuracy: 0.8840\n"
          ]
        }
      ],
      "source": [
        "model = keras.Sequential([\n",
        "    layers.Dense(16, activation=\"relu\"),\n",
        "    layers.Dropout(0.5),\n",
        "    layers.Dense(16, activation=\"relu\"),\n",
        "    layers.Dropout(0.5),\n",
        "    layers.Dense(1, activation=\"sigmoid\")\n",
        "])\n",
        "model.compile(optimizer=\"rmsprop\",\n",
        "              loss=\"binary_crossentropy\",\n",
        "              metrics=[\"accuracy\"])\n",
        "history_dropout = model.fit(\n",
        "    train_data, train_labels,\n",
        "    epochs=20, batch_size=512, validation_split=0.4)"
      ]
    },
    {
      "cell_type": "code",
      "execution_count": null,
      "metadata": {
        "id": "SrS6nAr0XrZe"
      },
      "outputs": [],
      "source": []
    }
  ],
  "metadata": {
    "accelerator": "GPU",
    "colab": {
      "collapsed_sections": [
        "ZhQwoddX-4Me",
        "e93GDknE-jXN"
      ],
      "gpuType": "T4",
      "provenance": []
    },
    "kernelspec": {
      "display_name": "Python 3",
      "name": "python3"
    },
    "language_info": {
      "name": "python"
    }
  },
  "nbformat": 4,
  "nbformat_minor": 0
}
